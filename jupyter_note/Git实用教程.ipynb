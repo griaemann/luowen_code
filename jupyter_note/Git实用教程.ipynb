{
 "cells": [
  {
   "cell_type": "markdown",
   "metadata": {},
   "source": [
    "# Git实用教程\n",
    "- SVN：记录每一次版本的变动 Git:将每个版本独立的保存\n",
    "## 理论即实际操作\n",
    "- 1、创建项目的文件夹\n",
    "- 2、切换到相应的文件夹，输入:git init（会生成一个.git的隐藏文件，用于跟踪）\n",
    "- 3、添加（创建一个readme.md文件）\n",
    "- 4、git add 文件名（将文件添加到暂存区域）\n",
    "- 5、git commit -m \"你干了啥\"（提交）\n",
    "\n",
    "## 查看工作状态和历史提交\n",
    "- 1、git status (查看未加入暂存和未提交的文件)\n",
    "- 2、git reset HEAD(File):(返回一次)\n",
    "- 3、git checkout -- 文件名（上一个版本覆盖这个版本：回退）\n",
    "- 4、git reset HEAD~(上一个快照，~10，表示前面10个快照)\n",
    "- 5、git reset --mixd HEAD~:（默认）移动HEAD指向上一个快照，将HEAD移动后的快照回滚到暂存区域\n",
    "- 6、git reset --soft HEAD~:移动HEAD指向上一个快照\n",
    "- 7、git reset --hard HEAD:（=mixd+还原原工作目录）\n",
    "- 8、回滚个别文件：git rset 版本快照 文件名/路径\n",
    "- 9、git reset 快照ID\n",
    "## 版本对比\n",
    "- 比较暂存区域和工作目录：git diff\n",
    "- 比较两个历史快照：git diff 快照ID1 快照ID2\n",
    "- 比较仓库和工作目录的快照：git diff 快照ID\n",
    "- 比较暂存区域和git仓库的快照： git diff --cached 快照ID\n",
    "## 修改最后一次提交\n",
    "- git commit --amend \n",
    "- git rm 文件名（删除文件）-> git reset --soft HEAD~(修改指针)\n",
    "- git rm -f 文件名（强制删除暂存区域和工作目录的文件）\n",
    "- git mv 旧文件名 新文件名（重命名文件）\n",
    "## Git分支\n",
    "- git branch 分支名：创建分支\n",
    "- git checkout 分支名：切换分支\n",
    "- git log --decorate(显示指向提交的所有引用)\n",
    "- git log --decorate --oneline --graph --all(图形化显示所有分支)\n",
    "### 合并和删除分支\n",
    "- git merge 分支名（合并子分支到当前分支）\n",
    "- git branch -d 分支名（删除分支）\n",
    "### 匿名分支和checkout命令\n",
    "- 切换分支："
   ]
  }
 ],
 "metadata": {
  "kernelspec": {
   "display_name": "Python 3",
   "language": "python",
   "name": "python3"
  },
  "language_info": {
   "codemirror_mode": {
    "name": "ipython",
    "version": 3
   },
   "file_extension": ".py",
   "mimetype": "text/x-python",
   "name": "python",
   "nbconvert_exporter": "python",
   "pygments_lexer": "ipython3",
   "version": "3.7.0"
  }
 },
 "nbformat": 4,
 "nbformat_minor": 2
}
