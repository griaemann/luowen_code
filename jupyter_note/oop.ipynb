{
 "cells": [
  {
   "cell_type": "code",
   "execution_count": 8,
   "metadata": {},
   "outputs": [
    {
     "name": "stdout",
     "output_type": "stream",
     "text": [
      "{'__module__': '__main__', 'name': 'danan', 'age': 18, 'say': <function Student.say at 0x00000159C1C0EE18>, '__dict__': <attribute '__dict__' of 'Student' objects>, '__weakref__': <attribute '__weakref__' of 'Student' objects>, '__doc__': None}\n",
      "danan\n",
      "18\n",
      "******************************\n",
      "1485014222920\n",
      "140717412905248\n",
      "******************************\n",
      "{}\n",
      "******************************\n",
      "1485014224544\n",
      "140717412905184\n",
      "{'name': 'yaona', 'age': 16}\n"
     ]
    }
   ],
   "source": [
    "class Student():\n",
    "    name = \"danan\"\n",
    "    age = 18\n",
    "    def say(self):\n",
    "        print(\"****\")\n",
    "s = Student()\n",
    "print(Student.__dict__)\n",
    "print(Student.name)\n",
    "print(Student.age)\n",
    "print(\"*\" * 30)\n",
    "print(id(s.name))\n",
    "print(id(s.age))\n",
    "print(\"*\" * 30)\n",
    "print(s.__dict__)\n",
    "s.name = \"yaona\"\n",
    "s.age = 16\n",
    "print(\"*\" * 30)\n",
    "print(id(s.name))\n",
    "print(id(s.age))\n",
    "print(s.__dict__)\n"
   ]
  },
  {
   "cell_type": "code",
   "execution_count": 18,
   "metadata": {},
   "outputs": [
    {
     "name": "stdout",
     "output_type": "stream",
     "text": [
      "My name is aaaa\n",
      "My age id 900\n"
     ]
    }
   ],
   "source": [
    "class Student():\n",
    "    name = \"luowen\"\n",
    "    age = 200\n",
    "    def say(self):\n",
    "        self.name = \"aaaa\"\n",
    "        self.age = 900\n",
    "        print(\"My name is {0}\".format(self.name))\n",
    "        print(\"My age id {0}\".format(self.age))\n",
    "luowen = Student()\n",
    "luowen.say()\n",
    "        "
   ]
  },
  {
   "cell_type": "code",
   "execution_count": 35,
   "metadata": {},
   "outputs": [
    {
     "name": "stdout",
     "output_type": "stream",
     "text": [
      "My name is yaona\n",
      "My age is 19\n",
      "dana\n",
      "19\n",
      "Hello Nice to meet you too\n"
     ]
    }
   ],
   "source": [
    "class Teacher():\n",
    "    name = \"dana\"\n",
    "    age = 19 \n",
    "    def say(self):\n",
    "        self.name = \"yaona\"\n",
    "        self.age = 17\n",
    "        print(\"My name is {0}\".format(self.name))\n",
    "        # 调用类的成员变量需要用__class__.成员名\n",
    "        \n",
    "        print(\"My age is {0}\".format(__class__.age))\n",
    "    def sayAgain():\n",
    "        print(__class__.name)\n",
    "        print(__class__.age)\n",
    "        print(\"Hello Nice to meet you too\")\n",
    "t = Teacher()\n",
    "t.say()\n",
    "Teacher.sayAgain()"
   ]
  },
  {
   "cell_type": "code",
   "execution_count": 41,
   "metadata": {},
   "outputs": [
    {
     "name": "stdout",
     "output_type": "stream",
     "text": [
      "aaaa\n",
      "200\n",
      "aaaa\n",
      "200\n",
      "luowen\n",
      "18\n",
      "bbbb\n",
      "90\n"
     ]
    }
   ],
   "source": [
    "# 关于self的案例\n",
    "class A():\n",
    "    name = \"luowen\"\n",
    "    age = 18\n",
    "    \n",
    "    def __init__(self):\n",
    "        self.name = \"aaaa\"\n",
    "        self.age = 200\n",
    "    def say(self):\n",
    "        print(self.name)\n",
    "        print(self.age)\n",
    "class B():\n",
    "    name = \"bbbb\"\n",
    "    age  = 90\n",
    "a = A()\n",
    "# 此时系统会默认把a作为第一个参数传如函数\n",
    "\n",
    "a.say()\n",
    "\n",
    "# 此时，self被a替换\n",
    "A.say(a)\n",
    "# 同样，可以把A作为参数\n",
    "A.say(A)\n",
    "# 此时传入的类实例是B，因为B也具有name 和 age 属性，所以不会报错\n",
    "A.say(B)\n",
    "# 以上代码，利用了鸭子模型\n"
   ]
  },
  {
   "cell_type": "code",
   "execution_count": 51,
   "metadata": {},
   "outputs": [
    {
     "name": "stdout",
     "output_type": "stream",
     "text": [
      "luowen\n"
     ]
    },
    {
     "ename": "AttributeError",
     "evalue": "'Person' object has no attribute '__age'",
     "output_type": "error",
     "traceback": [
      "\u001b[1;31m---------------------------------------------------------------------------\u001b[0m",
      "\u001b[1;31mAttributeError\u001b[0m                            Traceback (most recent call last)",
      "\u001b[1;32m<ipython-input-51-51bc722f4582>\u001b[0m in \u001b[0;36m<module>\u001b[1;34m()\u001b[0m\n\u001b[0;32m      8\u001b[0m \u001b[0mprint\u001b[0m\u001b[1;33m(\u001b[0m\u001b[0mp\u001b[0m\u001b[1;33m.\u001b[0m\u001b[0mname\u001b[0m\u001b[1;33m)\u001b[0m\u001b[1;33m\u001b[0m\u001b[0m\n\u001b[0;32m      9\u001b[0m \u001b[1;31m# __age是私有变量\u001b[0m\u001b[1;33m\u001b[0m\u001b[1;33m\u001b[0m\u001b[0m\n\u001b[1;32m---> 10\u001b[1;33m \u001b[0mprint\u001b[0m\u001b[1;33m(\u001b[0m\u001b[0mp\u001b[0m\u001b[1;33m.\u001b[0m\u001b[0m__age\u001b[0m\u001b[1;33m)\u001b[0m\u001b[1;33m\u001b[0m\u001b[0m\n\u001b[0m",
      "\u001b[1;31mAttributeError\u001b[0m: 'Person' object has no attribute '__age'"
     ]
    }
   ],
   "source": [
    "# 私有变量案例\n",
    "class Person():\n",
    "    # name 是共有成员\n",
    "    name = \"luowen\"\n",
    "    # __age就是私有成员\n",
    "    __age = 18\n",
    "p = Person()\n",
    "print(p.name)\n",
    "# __age是私有变量\n",
    "print(p.__age)"
   ]
  },
  {
   "cell_type": "code",
   "execution_count": 53,
   "metadata": {},
   "outputs": [
    {
     "name": "stdout",
     "output_type": "stream",
     "text": [
      "{'__module__': '__main__', 'name': 'luowen', '_Person__age': 18, '__dict__': <attribute '__dict__' of 'Person' objects>, '__weakref__': <attribute '__weakref__' of 'Person' objects>, '__doc__': None}\n",
      "999\n"
     ]
    }
   ],
   "source": [
    "# name mangling技术\n",
    "print(Person.__dict__)\n",
    "p._Person__age = 999\n",
    "print(p._Person__age)"
   ]
  },
  {
   "cell_type": "code",
   "execution_count": 55,
   "metadata": {},
   "outputs": [
    {
     "name": "stdout",
     "output_type": "stream",
     "text": [
      "Noname\n",
      "Noname\n"
     ]
    }
   ],
   "source": [
    "# 继承的语法\n",
    "# 在python中，任何类都有一个共同的父类叫object\n",
    "class Person():\n",
    "    name = \"Noname\"\n",
    "    age = 0\n",
    "    def sleep(self):\n",
    "        print(\"睡觉\")\n",
    "# 父类写在括号里\n",
    "\n",
    "class Teacher(Person):\n",
    "    def make_test(self):\n",
    "        pass\n",
    "t = Teacher()\n",
    "print(t.name)\n",
    "print(Teacher.name)"
   ]
  },
  {
   "cell_type": "code",
   "execution_count": 62,
   "metadata": {},
   "outputs": [
    {
     "name": "stdout",
     "output_type": "stream",
     "text": [
      "Noname\n",
      "xiaoluo\n",
      "Sleeping.......\n",
      "9527\n",
      "Attention\n"
     ]
    }
   ],
   "source": [
    "class Person():\n",
    "    name = \"Noname\"\n",
    "    age = 18\n",
    "    __score = 0 # 考试成绩是秘密 只要自己知道\n",
    "    _petname = \"xiaoluo\" # 小名 受保护的 但不能公开\n",
    "    def sleep(self):\n",
    "        print(\"Sleeping.......\")\n",
    "class Teacher(Person):\n",
    "    teacher_id = \"9527\"\n",
    "    def make_test(self):\n",
    "        print(\"Attention\")\n",
    "    \n",
    "t = Teacher()\n",
    "print(t.name)\n",
    "# 受保护的\n",
    "print(t._petname)\n",
    "# 私有的，不能方法\n",
    "# print(t.__score)\n",
    "t.sleep()\n",
    "print(t.teacher_id)\n",
    "t.make_test()"
   ]
  },
  {
   "cell_type": "code",
   "execution_count": 64,
   "metadata": {},
   "outputs": [
    {
     "name": "stdout",
     "output_type": "stream",
     "text": [
      "Dana\n"
     ]
    }
   ],
   "source": [
    "# 子类和父类定义同一个变量名称，则优先使用子类本身的\n",
    "class Person():\n",
    "    name = \"Noname\"\n",
    "    age = 18\n",
    "    __score = 0 # 考试成绩是秘密 只要自己知道\n",
    "    _petname = \"xiaoluo\" # 小名 受保护的 但不能公开\n",
    "    def sleep(self):\n",
    "        print(\"Sleeping.......\")\n",
    "class Teacher(Person):\n",
    "    teacher_id = \"9527\"\n",
    "    name = \"Dana\" # 定义与父类相同的name\n",
    "    def make_test(self):\n",
    "        print(\"Attention\")\n",
    "\n",
    "t = Teacher()\n",
    "print(t.name)"
   ]
  },
  {
   "cell_type": "code",
   "execution_count": 71,
   "metadata": {},
   "outputs": [
    {
     "name": "stdout",
     "output_type": "stream",
     "text": [
      "赚钱：make some money\n",
      "赚钱：make some money\n",
      "Attention\n"
     ]
    }
   ],
   "source": [
    "# 子类扩充父类功能的案例\n",
    "# 人有工作函数，老师也有工作的函数， 但是老师的工作是讲课\n",
    "class Person():\n",
    "    name = \"Noname\"\n",
    "    age = 18\n",
    "    __score = 0 # 考试成绩是秘密 只要自己知道\n",
    "    _petname = \"xiaoluo\" # 小名 受保护的 但不能公开\n",
    "    def sleep(self):\n",
    "        print(\"Sleeping.......\")\n",
    "    def work(self):\n",
    "        print(\"赚钱：make some money\")\n",
    "class Teacher(Person):\n",
    "    teacher_id = \"9527\"\n",
    "    name = \"Dana\" # 定义与父类相同的name\n",
    "    def make_test(self):\n",
    "        print(\"Attention\")\n",
    "    def work(self):\n",
    "        # 扩充父类的功能，需要调用父类相同的函数\n",
    "        Person.work(self)\n",
    "        # super代表得到父类\n",
    "        super().work()\n",
    "        self.make_test()\n",
    "\n",
    "t = Teacher()\n",
    "t.work()"
   ]
  },
  {
   "cell_type": "code",
   "execution_count": 74,
   "metadata": {},
   "outputs": [
    {
     "name": "stdout",
     "output_type": "stream",
     "text": [
      "I am init in dog\n"
     ]
    }
   ],
   "source": [
    "# 构造函数的概念\n",
    "class Dog():\n",
    "    # __init__就是构造函数\n",
    "    # 每次实例化的时候第一个被自动调用\n",
    "    # 因为主要工作是进行初始化，所以得名\n",
    "    def __init__(self):\n",
    "        print(\"I am init in dog\")\n",
    "# 实例化的时候，括号中的参数需要跟构造函数的参数相匹配\n",
    "kaka = Dog()"
   ]
  },
  {
   "cell_type": "code",
   "execution_count": 76,
   "metadata": {},
   "outputs": [
    {
     "name": "stdout",
     "output_type": "stream",
     "text": [
      "I am init in dog\n"
     ]
    }
   ],
   "source": [
    "# 继承中的构造函数-1\n",
    "class Animel():\n",
    "    pass\n",
    "\n",
    "class PaxingAnimel(Animel):\n",
    "    pass\n",
    "\n",
    "class Dog(PaxingAnimel):\n",
    "    # __init__就是构造函数\n",
    "    # 每次实例化的时候第一个被自动调用\n",
    "    # 因为主要工作是进行初始化，所以得名\n",
    "    def __init__(self):\n",
    "        print(\"I am init in dog\")\n",
    "# 实例化的时候自动调用了Dog的构造函数\n",
    "kaka = Dog()"
   ]
  },
  {
   "cell_type": "code",
   "execution_count": 81,
   "metadata": {},
   "outputs": [
    {
     "name": "stdout",
     "output_type": "stream",
     "text": [
      "I am init in dog\n",
      "Paxin Dongwu\n"
     ]
    }
   ],
   "source": [
    "# 继承中的构造函数-2\n",
    "class Animel():\n",
    "    def __init__(self):\n",
    "        print(\"Animel\")\n",
    "\n",
    "class PaxingAnimel(Animel):\n",
    "    def __init__(self):\n",
    "        print(\"Paxin Dongwu\")\n",
    "\n",
    "class Dog(PaxingAnimel):\n",
    "    # __init__就是构造函数\n",
    "    # 每次实例化的时候第一个被自动调用\n",
    "    # 因为主要工作是进行初始化，所以得名\n",
    "    def __init__(self):\n",
    "        print(\"I am init in dog\")\n",
    "# 实例化的时候自动调用了Dog的构造函数\n",
    "# 因为找到了构造函数 则不在查找父类的构造函数\n",
    "kaka = Dog()\n",
    "# 猫，没有写构造函数\n",
    "class Cat(PaxingAnimel):\n",
    "    pass\n",
    "# 此时应该自动调用构造函数，因为Cat没有构造函数所以查找父类的构造幻术\n",
    "c = Cat()\n"
   ]
  },
  {
   "cell_type": "code",
   "execution_count": 92,
   "metadata": {},
   "outputs": [
    {
     "name": "stdout",
     "output_type": "stream",
     "text": [
      "I am init in dog\n"
     ]
    },
    {
     "ename": "TypeError",
     "evalue": "__init__() missing 1 required positional argument: 'name'",
     "output_type": "error",
     "traceback": [
      "\u001b[1;31m---------------------------------------------------------------------------\u001b[0m",
      "\u001b[1;31mTypeError\u001b[0m                                 Traceback (most recent call last)",
      "\u001b[1;32m<ipython-input-92-7151da735e48>\u001b[0m in \u001b[0;36m<module>\u001b[1;34m()\u001b[0m\n\u001b[0;32m     20\u001b[0m     \u001b[1;32mpass\u001b[0m\u001b[1;33m\u001b[0m\u001b[0m\n\u001b[0;32m     21\u001b[0m \u001b[1;31m# 因为Cat没有构造函数，所以找父类的，父类构造函数需要两个，实际给了一个，报错\u001b[0m\u001b[1;33m\u001b[0m\u001b[1;33m\u001b[0m\u001b[0m\n\u001b[1;32m---> 22\u001b[1;33m \u001b[0mc\u001b[0m \u001b[1;33m=\u001b[0m \u001b[0mCat\u001b[0m\u001b[1;33m(\u001b[0m\u001b[1;33m)\u001b[0m\u001b[1;33m\u001b[0m\u001b[0m\n\u001b[0m",
      "\u001b[1;31mTypeError\u001b[0m: __init__() missing 1 required positional argument: 'name'"
     ]
    }
   ],
   "source": [
    "# 继承中的构造函数-3\n",
    "class Animel():\n",
    "    def __init__(self):\n",
    "        print(\"Animel\")\n",
    "\n",
    "class PaxingAnimel(Animel):\n",
    "    def __init__(self, name):\n",
    "        print(\"Paxin Dongwu{0}\".format(name))\n",
    "\n",
    "class Dog(PaxingAnimel):\n",
    "    # __init__就是构造函数\n",
    "    # 每次实例化的时候第一个被自动调用\n",
    "    # 因为主要工作是进行初始化，所以得名\n",
    "    def __init__(self):\n",
    "        print(\"I am init in dog\")\n",
    "# 找到了Dog 的构造函数，参数匹配不报错\n",
    "d = Dog()\n",
    "\n",
    "class Cat(PaxingAnimel):\n",
    "    pass\n",
    "# 因为Cat没有构造函数，所以找父类的，父类构造函数需要两个，实际给了一个，报错\n",
    "c = Cat() "
   ]
  },
  {
   "cell_type": "code",
   "execution_count": 94,
   "metadata": {},
   "outputs": [
    {
     "name": "stdout",
     "output_type": "stream",
     "text": [
      "Animel\n",
      "Animel\n"
     ]
    }
   ],
   "source": [
    "# 继承中的构造函数-3\n",
    "class Animel():\n",
    "    def __init__(self):\n",
    "        print(\"Animel\")\n",
    "\n",
    "class PaxingAnimel(Animel):\n",
    "    pass\n",
    "class Dog(PaxingAnimel):\n",
    "    # __init__就是构造函数\n",
    "    # 每次实例化的时候第一个被自动调用\n",
    "    # 因为主要工作是进行初始化，所以得名\n",
    "    pass\n",
    "# 找到了Dog 的构造函数，参数匹配不报错\n",
    "d = Dog()\n",
    "\n",
    "class Cat(PaxingAnimel):\n",
    "    pass\n",
    "# 因为Cat没有构造函数，所以找父类的，父类构造函数需要两个，实际给了一个，报错\n",
    "c = Cat()"
   ]
  },
  {
   "cell_type": "code",
   "execution_count": 96,
   "metadata": {},
   "outputs": [
    {
     "name": "stdout",
     "output_type": "stream",
     "text": [
      "<class 'type'>\n",
      "Help on class super in module builtins:\n",
      "\n",
      "class super(object)\n",
      " |  super() -> same as super(__class__, <first argument>)\n",
      " |  super(type) -> unbound super object\n",
      " |  super(type, obj) -> bound super object; requires isinstance(obj, type)\n",
      " |  super(type, type2) -> bound super object; requires issubclass(type2, type)\n",
      " |  Typical use to call a cooperative superclass method:\n",
      " |  class C(B):\n",
      " |      def meth(self, arg):\n",
      " |          super().meth(arg)\n",
      " |  This works for class methods too:\n",
      " |  class C(B):\n",
      " |      @classmethod\n",
      " |      def cmeth(cls, arg):\n",
      " |          super().cmeth(arg)\n",
      " |  \n",
      " |  Methods defined here:\n",
      " |  \n",
      " |  __get__(self, instance, owner, /)\n",
      " |      Return an attribute of instance, which is of type owner.\n",
      " |  \n",
      " |  __getattribute__(self, name, /)\n",
      " |      Return getattr(self, name).\n",
      " |  \n",
      " |  __init__(self, /, *args, **kwargs)\n",
      " |      Initialize self.  See help(type(self)) for accurate signature.\n",
      " |  \n",
      " |  __repr__(self, /)\n",
      " |      Return repr(self).\n",
      " |  \n",
      " |  ----------------------------------------------------------------------\n",
      " |  Static methods defined here:\n",
      " |  \n",
      " |  __new__(*args, **kwargs) from builtins.type\n",
      " |      Create and return a new object.  See help(type) for accurate signature.\n",
      " |  \n",
      " |  ----------------------------------------------------------------------\n",
      " |  Data descriptors defined here:\n",
      " |  \n",
      " |  __self__\n",
      " |      the instance invoking super(); may be None\n",
      " |  \n",
      " |  __self_class__\n",
      " |      the type of the instance invoking super(); may be None\n",
      " |  \n",
      " |  __thisclass__\n",
      " |      the class invoking super()\n",
      "\n"
     ]
    }
   ],
   "source": [
    "print(type(super))\n",
    "help(super)"
   ]
  },
  {
   "cell_type": "code",
   "execution_count": 99,
   "metadata": {},
   "outputs": [
    {
     "name": "stdout",
     "output_type": "stream",
     "text": [
      "(<class '__main__.A'>, <class 'object'>)\n",
      "(<class '__main__.B'>, <class '__main__.A'>, <class 'object'>)\n"
     ]
    }
   ],
   "source": [
    "# MRO\n",
    "class A():\n",
    "    pass\n",
    "class B(A):\n",
    "    pass\n",
    "print(A.__mro__)\n",
    "print(B.__mro__)"
   ]
  },
  {
   "cell_type": "code",
   "execution_count": 107,
   "metadata": {},
   "outputs": [
    {
     "name": "stdout",
     "output_type": "stream",
     "text": [
      "Working.....\n",
      "I am flying\n",
      "I am Swimming\n",
      "Working.....\n"
     ]
    }
   ],
   "source": [
    "# 多继承的例子\n",
    "# 子类可以直接拥有父类的属性和方法，除私有的\n",
    "\n",
    "class Fish():\n",
    "    def __init__(self,name):\n",
    "        self.name = name\n",
    "    def swim(self):\n",
    "        print(\"I am Swimming\")\n",
    "class Bird():\n",
    "    def __init__(self,name):\n",
    "        self.name = name\n",
    "    def fly(self):\n",
    "        print(\"I am flying\")\n",
    "class Person():\n",
    "    def __init__(self,name):\n",
    "        self.name = name\n",
    "    def work(self):\n",
    "        print(\"Working.....\")\n",
    "class SuperMan(Person,Bird,Fish):\n",
    "    def __init__(self,name):\n",
    "        self.name = name\n",
    "        \n",
    "class SwimMan(Person,Fish):\n",
    "    def __init__(self,name):\n",
    "        self.name = name\n",
    "class Student(Person):\n",
    "    def __init__(self,name):\n",
    "        self.name = name\n",
    "s = SuperMan(\"luowen\")\n",
    "stu = Student(\"yueyue\")\n",
    "stu.work()\n",
    "s.fly()\n",
    "s.swim()\n",
    "s.work()\n",
    "    "
   ]
  },
  {
   "cell_type": "code",
   "execution_count": 108,
   "metadata": {},
   "outputs": [],
   "source": [
    "# 菱形继承问题\n",
    "class A():\n",
    "    pass\n",
    "class B(A):\n",
    "    pass\n",
    "class C(A):\n",
    "    pass\n",
    "class D(B,C):\n",
    "    pass\n"
   ]
  },
  {
   "cell_type": "code",
   "execution_count": 112,
   "metadata": {},
   "outputs": [
    {
     "name": "stdout",
     "output_type": "stream",
     "text": [
      "In init func\n",
      "Noname\n"
     ]
    }
   ],
   "source": [
    "# 构造函数的例子\n",
    "class Person():\n",
    "    # 对Person 进行实例话的时候\n",
    "    # 姓名要确定\n",
    "    # 年龄要确定\n",
    "    # 地址肯定有\n",
    "    def __init__(self):\n",
    "        self.name = \"Noname\"\n",
    "        self.age = 18\n",
    "        self.address = \"Student宿舍\"\n",
    "        print(\"In init func\")\n",
    "# 实例化一个人\n",
    "p = Person()\n",
    "print(p.name)"
   ]
  },
  {
   "cell_type": "code",
   "execution_count": 113,
   "metadata": {},
   "outputs": [],
   "source": [
    "# 构造函数的调用顺序\n",
    "# 如果子类中没有构造函数，则自动向上找父类构造函数，遭到为止\n"
   ]
  },
  {
   "cell_type": "code",
   "execution_count": 118,
   "metadata": {},
   "outputs": [
    {
     "name": "stdout",
     "output_type": "stream",
     "text": [
      "(<class '__main__.Tutor'>, <class '__main__.Teacher'>, <class '__main__.Student'>, <class '__main__.Person'>, <class 'object'>)\n",
      "{}\n",
      "{'__module__': '__main__', '__doc__': None}\n",
      "****************************************\n",
      "(<class '__main__.TutorM'>, <class '__main__.Person'>, <class '__main__.TeacherMixin'>, <class '__main__.StudentMixin'>, <class 'object'>)\n",
      "{}\n",
      "{'__module__': '__main__', '__doc__': None}\n"
     ]
    }
   ],
   "source": [
    "# Mixin 案例\n",
    "class Person():\n",
    "    def eat(self):\n",
    "        print(\"Eating..........\")\n",
    "    def drink(self):\n",
    "        print(\"Drinking..........\")\n",
    "    def sleep(self):\n",
    "        print(\"sleeping..........\")\n",
    "class Teacher(Person):\n",
    "    def work(self):\n",
    "        print(\"working.....\")\n",
    "class Student(Person):\n",
    "    def study(self):\n",
    "        print(\"Study\")\n",
    "\n",
    "class Tutor(Teacher,Student):\n",
    "    pass\n",
    "\n",
    "t = Tutor()\n",
    "print(Tutor.__mro__)\n",
    "print(t.__dict__)\n",
    "print(Tutor.__dict__)\n",
    "\n",
    "\n",
    "\n",
    "print(\"*\" * 40)\n",
    "# 老师的Mixin没有父类\n",
    "\n",
    "class TeacherMixin():\n",
    "    def work(self):\n",
    "        print(\"Work\")\n",
    "class StudentMixin():\n",
    "    def study(self):\n",
    "        print(\"Study\")\n",
    "class TutorM(Person,TeacherMixin,StudentMixin):\n",
    "    pass\n",
    "tt = TutorM()\n",
    "print(TutorM.__mro__)\n",
    "print(tt.__dict__)\n",
    "print(TutorM.__dict__)"
   ]
  },
  {
   "cell_type": "code",
   "execution_count": 130,
   "metadata": {},
   "outputs": [
    {
     "name": "stdout",
     "output_type": "stream",
     "text": [
      "True\n",
      "False\n",
      "True\n",
      "True\n",
      "True\n",
      "False\n"
     ]
    }
   ],
   "source": [
    "# issubclass\n",
    "# 检查子类\n",
    "class A():\n",
    "    name = \"daluo\"\n",
    "class B(A):\n",
    "    pass\n",
    "\n",
    "class C():\n",
    "    pass\n",
    "\n",
    "print(issubclass(B,A))\n",
    "print(issubclass(C,A))\n",
    "print(issubclass(C,object))\n",
    "a = A()\n",
    "# isinstance 检测对象是不是类的实例\n",
    "print(isinstance(a,A))\n",
    "\n",
    "# hasattr\n",
    "# 检查一个对象是不是有成员XXX\n",
    "print(hasattr(a,\"name\"))\n",
    "print(hasattr(a,\"age\"))"
   ]
  },
  {
   "cell_type": "code",
   "execution_count": 132,
   "metadata": {},
   "outputs": [
    {
     "name": "stdout",
     "output_type": "stream",
     "text": [
      "Help on built-in function setattr in module builtins:\n",
      "\n",
      "setattr(obj, name, value, /)\n",
      "    Sets the named attribute on the given object to the specified value.\n",
      "    \n",
      "    setattr(x, 'y', v) is equivalent to ``x.y = v''\n",
      "\n"
     ]
    }
   ],
   "source": [
    "# help案例\n",
    "# 我想知道setattr的具体用法\n",
    "help(setattr)"
   ]
  },
  {
   "cell_type": "code",
   "execution_count": 134,
   "metadata": {},
   "outputs": [
    {
     "data": {
      "text/plain": [
       "['__class__',\n",
       " '__delattr__',\n",
       " '__dict__',\n",
       " '__dir__',\n",
       " '__doc__',\n",
       " '__eq__',\n",
       " '__format__',\n",
       " '__ge__',\n",
       " '__getattribute__',\n",
       " '__gt__',\n",
       " '__hash__',\n",
       " '__init__',\n",
       " '__init_subclass__',\n",
       " '__le__',\n",
       " '__lt__',\n",
       " '__module__',\n",
       " '__ne__',\n",
       " '__new__',\n",
       " '__reduce__',\n",
       " '__reduce_ex__',\n",
       " '__repr__',\n",
       " '__setattr__',\n",
       " '__sizeof__',\n",
       " '__str__',\n",
       " '__subclasshook__',\n",
       " '__weakref__']"
      ]
     },
     "execution_count": 134,
     "metadata": {},
     "output_type": "execute_result"
    }
   ],
   "source": [
    "# dir 案例\n",
    "class A():\n",
    "    pass\n",
    "dir(A)"
   ]
  },
  {
   "cell_type": "code",
   "execution_count": 140,
   "metadata": {},
   "outputs": [
    {
     "name": "stdout",
     "output_type": "stream",
     "text": [
      "hi my name is LUO WEN\n",
      "hi my name is BRECE LEE\n"
     ]
    }
   ],
   "source": [
    "# 属性案例\n",
    "# 创建一个Student类，描述学生\n",
    "# 学生具有Student.name属性\n",
    "# 但name格式不统一\n",
    "# 可以增加一个函数，然后自动调用\n",
    "class Student():\n",
    "    def __init__(self,name,age):\n",
    "        self.name = name\n",
    "        self.age = age\n",
    "        # 如果不想修改代码\n",
    "        self.setName(name)\n",
    "    def intro(self):\n",
    "        print(\"hi my name is {0}\".format(self.name))\n",
    "    \n",
    "    # 增加一个函数，是规范的格式\n",
    "    def setName(self,name):\n",
    "        self.name = name.upper()\n",
    "        \n",
    "stu1 = Student(\"Luo Wen\",12)\n",
    "stu2 = Student(\"brece lee\",32)\n",
    "stu1.intro()\n",
    "stu2.intro()"
   ]
  },
  {
   "cell_type": "code",
   "execution_count": 159,
   "metadata": {},
   "outputs": [
    {
     "name": "stdout",
     "output_type": "stream",
     "text": [
      "LUOWENLUOWEN\n",
      "12\n"
     ]
    }
   ],
   "source": [
    "# property案例\n",
    "# 定义一个Person类，具有 name age 属性\n",
    "# 对定义的任意输入的姓名，我们希望都用大写保存\n",
    "# 年龄，我们希望内部统一用整数保存\n",
    "# x = porperty(fget,fset,fdel,edoc)\n",
    "class Person():\n",
    "    '''\n",
    "    这是一个人\n",
    "    他有属性\n",
    "    '''\n",
    "    def fget(self):\n",
    "        return self._name * 2\n",
    "    \n",
    "    def fset(self, name):\n",
    "        self._name = name.upper()\n",
    "        \n",
    "    def fdel(self):\n",
    "        self._name = \"Noname\"\n",
    "        \n",
    "    def ffget(self):\n",
    "        return int(self._age)\n",
    "    \n",
    "    def ffset(self, age):\n",
    "        self._age = age\n",
    "        \n",
    "    def ffdel(self):\n",
    "        self._age = \"00\"\n",
    "        \n",
    "    name = property(fget, fset, fdel, \"对name进行操作\")\n",
    "    age = property(ffget, ffset, ffdel, \"对name进行操作\")\n",
    "# 作业\n",
    "# 在用户输入年龄的时候可以输入整数，小数等\n",
    "#但内部为了数据清洁，我们统一需要保存为征税\n",
    "p = Person()\n",
    "p.name = \"Luowen\"\n",
    "p.age = 12.6\n",
    "print(p.name)\n",
    "print(p.age)\n",
    "\n",
    "\n",
    "\n",
    "\n",
    "\n"
   ]
  },
  {
   "cell_type": "code",
   "execution_count": 160,
   "metadata": {},
   "outputs": [
    {
     "name": "stdout",
     "output_type": "stream",
     "text": [
      "{'__module__': '__main__', '__doc__': '\\n    这是一个人\\n    他有属性\\n    ', 'fget': <function Person.fget at 0x00000159C1CA3EA0>, 'fset': <function Person.fset at 0x00000159C1CA3D08>, 'fdel': <function Person.fdel at 0x00000159C1CA3400>, 'ffget': <function Person.ffget at 0x00000159C1D58EA0>, 'ffset': <function Person.ffset at 0x00000159C1D58048>, 'ffdel': <function Person.ffdel at 0x00000159C1D580D0>, 'name': <property object at 0x00000159C1D7A318>, 'age': <property object at 0x00000159C1D7A3B8>, '__dict__': <attribute '__dict__' of 'Person' objects>, '__weakref__': <attribute '__weakref__' of 'Person' objects>}\n",
      "\n",
      "    这是一个人\n",
      "    他有属性\n",
      "    \n",
      "Person\n",
      "(<class 'object'>,)\n"
     ]
    }
   ],
   "source": [
    "# 类的内置属性距离\n",
    "print(Person.__dict__)\n",
    "print(Person.__doc__)\n",
    "print(Person.__name__)\n",
    "print(Person.__bases__)"
   ]
  },
  {
   "cell_type": "code",
   "execution_count": 164,
   "metadata": {},
   "outputs": [
    {
     "name": "stdout",
     "output_type": "stream",
     "text": [
      "我被调用了\n"
     ]
    }
   ],
   "source": [
    "# init 举例\n",
    "class A():\n",
    "    def __init__(self,name = \"77\"):\n",
    "        print(\"我被调用了\")\n",
    "a = A()"
   ]
  },
  {
   "cell_type": "code",
   "execution_count": 168,
   "metadata": {},
   "outputs": [
    {
     "name": "stdout",
     "output_type": "stream",
     "text": [
      "我被调用了\n",
      "我又被调用了\n"
     ]
    }
   ],
   "source": [
    "# __call__举例\n",
    "class A():\n",
    "    def __init__(self,name = \"77\"):\n",
    "        print(\"我被调用了\")\n",
    "        \n",
    "    def __call__(self):\n",
    "        print(\"我又被调用了\")\n",
    "a = A()\n",
    "# 对象当函数使用，实际调用的是call的功能\n",
    "a()"
   ]
  },
  {
   "cell_type": "code",
   "execution_count": 174,
   "metadata": {},
   "outputs": [
    {
     "name": "stdout",
     "output_type": "stream",
     "text": [
      "我被调用了\n",
      "学习Python的例子\n"
     ]
    }
   ],
   "source": [
    "# __str__举例\n",
    "class A():\n",
    "    def __init__(self,name = \"77\"):\n",
    "        print(\"我被调用了\")\n",
    "        \n",
    "    def __call__(self):\n",
    "        print(\"我又被调用了\")\n",
    "    def __str__(self):\n",
    "        return \"学习Python的例子\"\n",
    "a = A()\n",
    "# 对象当函数使用，实际调用的是call的功能\n",
    "print(a)\n"
   ]
  },
  {
   "cell_type": "code",
   "execution_count": 176,
   "metadata": {},
   "outputs": [
    {
     "name": "stdout",
     "output_type": "stream",
     "text": [
      "Noname\n"
     ]
    },
    {
     "ename": "AttributeError",
     "evalue": "'A' object has no attribute 'addr'",
     "output_type": "error",
     "traceback": [
      "\u001b[1;31m---------------------------------------------------------------------------\u001b[0m",
      "\u001b[1;31mAttributeError\u001b[0m                            Traceback (most recent call last)",
      "\u001b[1;32m<ipython-input-176-e463bba77600>\u001b[0m in \u001b[0;36m<module>\u001b[1;34m()\u001b[0m\n\u001b[0;32m     12\u001b[0m \u001b[0ma\u001b[0m \u001b[1;33m=\u001b[0m \u001b[0mA\u001b[0m\u001b[1;33m(\u001b[0m\u001b[1;33m)\u001b[0m\u001b[1;33m\u001b[0m\u001b[0m\n\u001b[0;32m     13\u001b[0m \u001b[0mprint\u001b[0m\u001b[1;33m(\u001b[0m\u001b[0ma\u001b[0m\u001b[1;33m.\u001b[0m\u001b[0mname\u001b[0m\u001b[1;33m)\u001b[0m\u001b[1;33m\u001b[0m\u001b[0m\n\u001b[1;32m---> 14\u001b[1;33m \u001b[0mprint\u001b[0m\u001b[1;33m(\u001b[0m\u001b[0ma\u001b[0m\u001b[1;33m.\u001b[0m\u001b[0maddr\u001b[0m\u001b[1;33m)\u001b[0m\u001b[1;33m\u001b[0m\u001b[0m\n\u001b[0m",
      "\u001b[1;31mAttributeError\u001b[0m: 'A' object has no attribute 'addr'"
     ]
    }
   ],
   "source": [
    "# __getattr__\n",
    "\n",
    "class A():\n",
    "    name = \"Noname\"\n",
    "    age = 19\n",
    "    '''\n",
    "    \n",
    "    def __getattr__(self):\n",
    "        print(\"没找到呀没找到\")\n",
    "        \n",
    "    '''\n",
    "a = A()\n",
    "print(a.name)\n",
    "print(a.addr)"
   ]
  },
  {
   "cell_type": "code",
   "execution_count": 178,
   "metadata": {},
   "outputs": [
    {
     "name": "stdout",
     "output_type": "stream",
     "text": [
      "Noname\n",
      "没找到呀没找到\n",
      "addr\n",
      "None\n"
     ]
    }
   ],
   "source": [
    "# __getattr__\n",
    "\n",
    "class A():\n",
    "    name = \"Noname\"\n",
    "    age = 19\n",
    "    \n",
    "    def __getattr__(self,name):\n",
    "        print(\"没找到呀没找到\")\n",
    "        print(name)\n",
    "        \n",
    "a = A()\n",
    "print(a.name)\n",
    "print(a.addr)\n",
    "# 作业\n",
    "# 为什么会打印第四句话，而且第四句话打印的是None\n"
   ]
  },
  {
   "cell_type": "code",
   "execution_count": 1,
   "metadata": {},
   "outputs": [
    {
     "name": "stdout",
     "output_type": "stream",
     "text": [
      "{}\n",
      "设置属性：age\n"
     ]
    }
   ],
   "source": [
    "# __setattr__案例\n",
    "\n",
    "class Person():\n",
    "    def __init__(self):\n",
    "        pass\n",
    "    def __setattr__(self,name,value):\n",
    "        print(\"设置属性：{0}\".format(name))\n",
    "        # 下面语句会导致 死循环\n",
    "        # self.name = value\n",
    "        #此种情况，为了避免死循环，规定统一调用父类魔法函数\n",
    "        super().__setattr__(name,value)\n",
    "p = Person()\n",
    "print(p.__dict__)\n",
    "p.age = 18"
   ]
  },
  {
   "cell_type": "code",
   "execution_count": 5,
   "metadata": {},
   "outputs": [
    {
     "ename": "TypeError",
     "evalue": "'>' not supported between instances of 'Student' and 'Student'",
     "output_type": "error",
     "traceback": [
      "\u001b[1;31m---------------------------------------------------------------------------\u001b[0m",
      "\u001b[1;31mTypeError\u001b[0m                                 Traceback (most recent call last)",
      "\u001b[1;32m<ipython-input-5-08f944022415>\u001b[0m in \u001b[0;36m<module>\u001b[1;34m()\u001b[0m\n\u001b[0;32m     13\u001b[0m \u001b[0mstu1\u001b[0m \u001b[1;33m=\u001b[0m \u001b[0mStudent\u001b[0m\u001b[1;33m(\u001b[0m\u001b[1;34m\"one\"\u001b[0m\u001b[1;33m)\u001b[0m\u001b[1;33m\u001b[0m\u001b[0m\n\u001b[0;32m     14\u001b[0m \u001b[0mstu2\u001b[0m \u001b[1;33m=\u001b[0m \u001b[0mStudent\u001b[0m\u001b[1;33m(\u001b[0m\u001b[1;34m\"two\"\u001b[0m\u001b[1;33m)\u001b[0m\u001b[1;33m\u001b[0m\u001b[0m\n\u001b[1;32m---> 15\u001b[1;33m \u001b[0mprint\u001b[0m\u001b[1;33m(\u001b[0m\u001b[0mstu1\u001b[0m \u001b[1;33m>\u001b[0m \u001b[0mstu2\u001b[0m\u001b[1;33m)\u001b[0m\u001b[1;33m\u001b[0m\u001b[0m\n\u001b[0m",
      "\u001b[1;31mTypeError\u001b[0m: '>' not supported between instances of 'Student' and 'Student'"
     ]
    }
   ],
   "source": [
    "# __gt__举例\n",
    "class Student():\n",
    "    def __init__(self,name):\n",
    "        self._name = name\n",
    "    '''\n",
    "    \n",
    "    def __gt__(self,obj):\n",
    "        print(\"哈哈 {0}会比{1}大吗\".format(self.name))\n",
    "        return self._name >obj._name\n",
    "    '''\n",
    "# 作业\n",
    "# 字符串的比较按什么规则\n",
    "stu1 = Student(\"one\")\n",
    "stu2 = Student(\"two\")\n",
    "print(stu1 > stu2)"
   ]
  },
  {
   "cell_type": "code",
   "execution_count": 13,
   "metadata": {},
   "outputs": [
    {
     "name": "stdout",
     "output_type": "stream",
     "text": [
      "哈哈 <__main__.Student object at 0x0000017FAB28EE48>会比<__main__.Student object at 0x0000017FAB28EE80>大吗\n",
      "True\n"
     ]
    }
   ],
   "source": [
    "# __gt__举例\n",
    "class Student():\n",
    "    def __init__(self,name):\n",
    "        self._name = name\n",
    "    \n",
    "    def __gt__(self,obj):\n",
    "        print(\"哈哈 {0}会比{1}大吗\".format(self,obj))\n",
    "        return self._name >obj._name\n",
    "# 作业\n",
    "# 字符串的比较按什么规则\n",
    "stu1 = Student(\"one\")\n",
    "stu2 = Student(\"two\")\n",
    "print(stu1 < stu2)\n",
    "\n",
    "# 作业\n",
    "# 下面显示不太美观，能够改进 one 会比 two 大吗\n"
   ]
  },
  {
   "cell_type": "code",
   "execution_count": 23,
   "metadata": {},
   "outputs": [
    {
     "name": "stdout",
     "output_type": "stream",
     "text": [
      "哈哈 two会比one大吗\n",
      "True\n"
     ]
    }
   ],
   "source": [
    "# __gt__举例\n",
    "class Student():\n",
    "    def __init__(self,name):\n",
    "        self._name = name\n",
    "    \n",
    "    def __gt__(self,obj):\n",
    "        print(\"哈哈 {0}会比{1}大吗\".format(self._name,obj._name))\n",
    "        return self._name >obj._name\n",
    "# 作业\n",
    "# 字符串的比较按什么规则\n",
    "stu1 = Student(\"one\")\n",
    "stu2 = Student(\"two\")\n",
    "print(stu1 < stu2)\n",
    "\n",
    "# 作业\n",
    "# 下面显示不太美观，能够改进 one 会比 two 大吗\n"
   ]
  },
  {
   "cell_type": "code",
   "execution_count": 24,
   "metadata": {},
   "outputs": [
    {
     "name": "stdout",
     "output_type": "stream",
     "text": [
      "<__main__.Person object at 0x0000017FAB296E80>\n",
      "Eating\n",
      "<class '__main__.Person'>\n",
      "Playing....\n",
      "<class '__main__.Person'>\n",
      "Playing....\n",
      "Saying\n",
      "Saying\n"
     ]
    }
   ],
   "source": [
    "# 三种方法案例\n",
    "\n",
    "class Person():\n",
    "    # 实例方法\n",
    "    def eat(self):\n",
    "        print(self)\n",
    "        print('Eating')\n",
    "    # 类方法\n",
    "    # 类方法的第一个参数，一般命名为cls 区别于self\n",
    "    @classmethod\n",
    "    def play(cls):\n",
    "        print(cls)\n",
    "        print(\"Playing....\")\n",
    "    # 静态方法\n",
    "    # 不需要用第一个参数表示自身或者类\n",
    "    @staticmethod\n",
    "    def say():\n",
    "        print(\"Saying\")\n",
    "yueyue = Person()\n",
    "# 实例方法\n",
    "yueyue.eat()\n",
    "# 类方法\n",
    "Person.play()\n",
    "yueyue.play()\n",
    "# 静态方法\n",
    "Person.say()\n",
    "yueyue.say()\n",
    "\n",
    "# 作业，自行查找三种方法的内存使用区别\n"
   ]
  },
  {
   "cell_type": "markdown",
   "metadata": {},
   "source": [
    "# 类-成员描述符\n"
   ]
  },
  {
   "cell_type": "code",
   "execution_count": 31,
   "metadata": {},
   "outputs": [
    {
     "name": "stdout",
     "output_type": "stream",
     "text": [
      "罗文\n"
     ]
    },
    {
     "ename": "AttributeError",
     "evalue": "'A' object has no attribute 'name'",
     "output_type": "error",
     "traceback": [
      "\u001b[1;31m---------------------------------------------------------------------------\u001b[0m",
      "\u001b[1;31mAttributeError\u001b[0m                            Traceback (most recent call last)",
      "\u001b[1;32m<ipython-input-31-84a7fc0e0921>\u001b[0m in \u001b[0;36m<module>\u001b[1;34m()\u001b[0m\n\u001b[0;32m     12\u001b[0m \u001b[0mprint\u001b[0m\u001b[1;33m(\u001b[0m\u001b[0ma\u001b[0m\u001b[1;33m.\u001b[0m\u001b[0mname\u001b[0m\u001b[1;33m)\u001b[0m\u001b[1;33m\u001b[0m\u001b[0m\n\u001b[0;32m     13\u001b[0m \u001b[1;32mdel\u001b[0m \u001b[0ma\u001b[0m\u001b[1;33m.\u001b[0m\u001b[0mname\u001b[0m\u001b[1;33m\u001b[0m\u001b[0m\n\u001b[1;32m---> 14\u001b[1;33m \u001b[0mprint\u001b[0m\u001b[1;33m(\u001b[0m\u001b[0ma\u001b[0m\u001b[1;33m.\u001b[0m\u001b[0mname\u001b[0m\u001b[1;33m)\u001b[0m\u001b[1;33m\u001b[0m\u001b[0m\n\u001b[0m",
      "\u001b[1;31mAttributeError\u001b[0m: 'A' object has no attribute 'name'"
     ]
    }
   ],
   "source": [
    "# 变量的三种用法\n",
    "class A():\n",
    "    def __init__(self):\n",
    "        self.name = \"hahah\"\n",
    "        self.age = 18\n",
    "a = A()\n",
    "# 属性的三种用法\n",
    "# 1、赋值\n",
    "# 2、读取\n",
    "# 3、删除\n",
    "a.name = \"罗文\"\n",
    "print(a.name)\n",
    "del a.name\n",
    "print(a.name)\n"
   ]
  },
  {
   "cell_type": "code",
   "execution_count": 35,
   "metadata": {},
   "outputs": [
    {
     "name": "stdout",
     "output_type": "stream",
     "text": [
      "hahah\n",
      "我被读取了\n",
      "hahah\n"
     ]
    }
   ],
   "source": [
    "# 属性类 property\n",
    "# 应用场景：\n",
    "# 对变量除了普通的三种操作，还想增加一些附加操作，那么可以通过property完成\n",
    "\n",
    "class A():\n",
    "    def __init__(self):\n",
    "        self.name = \"hahah\"\n",
    "        self.age = 18\n",
    "    # 此功能，是对变量进行读取操作的时候应该执行的函数功能\n",
    "    def fget(self):\n",
    "        print('我被读取了')\n",
    "        return self.name\n",
    "    # 模拟的是对变量进行写操作的时候的功能\n",
    "    def fset(self,name):\n",
    "        print('我被写入了，但是还可以做好多事情')\n",
    "        self.name = '图灵学院' + name\n",
    "    # fdel模拟的是删除变量的时候进行的操作\n",
    "    def fdel(self):\n",
    "        pass\n",
    "    # property的四个参数顺序是固定的\n",
    "    # 第一个参数代表的是读取的时候需要调用的函数\n",
    "    # 第二个参数代表的是写入的时候需要调用的函数\n",
    "    # 第三个参数代表删除\n",
    "    # 第四个参数说明文档\n",
    "    \n",
    "    name2 = property(fget,fset,fdel,\"这是一个property例子\")\n",
    "a = A()\n",
    "print(a.name)\n",
    "print(a.name2)"
   ]
  },
  {
   "cell_type": "code",
   "execution_count": 39,
   "metadata": {},
   "outputs": [
    {
     "name": "stdout",
     "output_type": "stream",
     "text": [
      "闻一下对方\n",
      "kiss me\n"
     ]
    }
   ],
   "source": [
    "# 抽象\n",
    "\n",
    "class Animel():\n",
    "    def sayHello(self):\n",
    "        pass\n",
    "class Dog(Animel):\n",
    "    def sayHello(self):\n",
    "        print(\"闻一下对方\")\n",
    "\n",
    "class Person(Animel):\n",
    "     def sayHello(self):\n",
    "        print(\"kiss me\")\n",
    "d = Dog()\n",
    "d.sayHello()\n",
    "p = Person()\n",
    "p.sayHello()"
   ]
  },
  {
   "cell_type": "code",
   "execution_count": 50,
   "metadata": {},
   "outputs": [],
   "source": [
    "# 抽象类的实现\n",
    "import abc\n",
    "\n",
    "# 声明一个类并且制定当前类的元类\n",
    "class Human(metaclass = abc.ABCMeta):\n",
    "    # 定义一个抽象方法\n",
    "    @abc.abstractmethod\n",
    "    def smoking(self):\n",
    "        pass\n",
    "    # 定义类抽象方法\n",
    "    @abc.abstractclassmethod\n",
    "    def drink():\n",
    "        pass\n",
    "    # 定义静态抽象方法\n",
    "    @abc.abstractstaticmethod\n",
    "    def play():\n",
    "        pass\n",
    "    def sleep(self):\n",
    "        print(\"sleeping....\")\n",
    "        "
   ]
  },
  {
   "cell_type": "code",
   "execution_count": 53,
   "metadata": {},
   "outputs": [
    {
     "name": "stdout",
     "output_type": "stream",
     "text": [
      "luowen你好，来一发嘛？\n",
      "yueyue你好，来一发嘛？\n"
     ]
    }
   ],
   "source": [
    "# 函数名可以当变量使用\n",
    "def sayHello(name):\n",
    "    print('{0}你好，来一发嘛？'.format(name))\n",
    "sayHello(\"luowen\")\n",
    "liumang = sayHello\n",
    "liumang(\"yueyue\")"
   ]
  },
  {
   "cell_type": "code",
   "execution_count": 57,
   "metadata": {},
   "outputs": [
    {
     "name": "stdout",
     "output_type": "stream",
     "text": [
      "Saying......\n",
      "Saying......\n",
      "Saying....\n"
     ]
    }
   ],
   "source": [
    "# 自己组装一个类\n",
    "class A():\n",
    "    pass\n",
    "def say(self):\n",
    "    print(\"Saying......\")\n",
    "\n",
    "class B():\n",
    "    def say(self):\n",
    "        print(\"Saying....\")\n",
    "say(9)  \n",
    "A.say = say\n",
    "a = A()\n",
    "a.say()\n",
    "b = B()\n",
    "b.say()"
   ]
  },
  {
   "cell_type": "code",
   "execution_count": 64,
   "metadata": {},
   "outputs": [
    {
     "ename": "TypeError",
     "evalue": "say() missing 1 required positional argument: 'self'",
     "output_type": "error",
     "traceback": [
      "\u001b[1;31m---------------------------------------------------------------------------\u001b[0m",
      "\u001b[1;31mTypeError\u001b[0m                                 Traceback (most recent call last)",
      "\u001b[1;32m<ipython-input-64-225a8c08721d>\u001b[0m in \u001b[0;36m<module>\u001b[1;34m()\u001b[0m\n\u001b[0;32m      8\u001b[0m \u001b[0ma\u001b[0m \u001b[1;33m=\u001b[0m \u001b[0mA\u001b[0m\u001b[1;33m(\u001b[0m\u001b[1;33m)\u001b[0m\u001b[1;33m\u001b[0m\u001b[0m\n\u001b[0;32m      9\u001b[0m \u001b[0ma\u001b[0m\u001b[1;33m.\u001b[0m\u001b[0msay\u001b[0m \u001b[1;33m=\u001b[0m \u001b[0msay\u001b[0m\u001b[1;33m\u001b[0m\u001b[0m\n\u001b[1;32m---> 10\u001b[1;33m \u001b[0ma\u001b[0m\u001b[1;33m.\u001b[0m\u001b[0msay\u001b[0m\u001b[1;33m(\u001b[0m\u001b[1;33m)\u001b[0m\u001b[1;33m\u001b[0m\u001b[0m\n\u001b[0m",
      "\u001b[1;31mTypeError\u001b[0m: say() missing 1 required positional argument: 'self'"
     ]
    }
   ],
   "source": [
    "# 组装类例子 2\n",
    "# 自己组装一个类\n",
    "class A():\n",
    "    pass\n",
    "def say(self):\n",
    "    print(\"Saying......\")\n",
    "# 先实例话，在绑定，无法通过实例调用\n",
    "a = A()\n",
    "a.say = say\n",
    "a.say()"
   ]
  },
  {
   "cell_type": "code",
   "execution_count": 67,
   "metadata": {},
   "outputs": [
    {
     "name": "stdout",
     "output_type": "stream",
     "text": [
      "Saying......\n"
     ]
    }
   ],
   "source": [
    "# 组装类例子 2\n",
    "# 自己组装一个类\n",
    "from types import MethodType\n",
    "class A():\n",
    "    pass\n",
    "def say(self):\n",
    "    print(\"Saying......\")\n",
    "# 先实例话，在绑定，无法通过实例调用\n",
    "a = A()\n",
    "# say 绑定在A类上边（两个参数）\n",
    "a.say = MethodType(say,A)\n",
    "a.say()"
   ]
  },
  {
   "cell_type": "code",
   "execution_count": 71,
   "metadata": {},
   "outputs": [
    {
     "name": "stdout",
     "output_type": "stream",
     "text": [
      "Help on class method in module builtins:\n",
      "\n",
      "class method(object)\n",
      " |  method(function, instance)\n",
      " |  \n",
      " |  Create a bound instance method object.\n",
      " |  \n",
      " |  Methods defined here:\n",
      " |  \n",
      " |  __call__(self, /, *args, **kwargs)\n",
      " |      Call self as a function.\n",
      " |  \n",
      " |  __delattr__(self, name, /)\n",
      " |      Implement delattr(self, name).\n",
      " |  \n",
      " |  __eq__(self, value, /)\n",
      " |      Return self==value.\n",
      " |  \n",
      " |  __ge__(self, value, /)\n",
      " |      Return self>=value.\n",
      " |  \n",
      " |  __get__(self, instance, owner, /)\n",
      " |      Return an attribute of instance, which is of type owner.\n",
      " |  \n",
      " |  __getattribute__(self, name, /)\n",
      " |      Return getattr(self, name).\n",
      " |  \n",
      " |  __gt__(self, value, /)\n",
      " |      Return self>value.\n",
      " |  \n",
      " |  __hash__(self, /)\n",
      " |      Return hash(self).\n",
      " |  \n",
      " |  __le__(self, value, /)\n",
      " |      Return self<=value.\n",
      " |  \n",
      " |  __lt__(self, value, /)\n",
      " |      Return self<value.\n",
      " |  \n",
      " |  __ne__(self, value, /)\n",
      " |      Return self!=value.\n",
      " |  \n",
      " |  __reduce__(...)\n",
      " |      Helper for pickle.\n",
      " |  \n",
      " |  __repr__(self, /)\n",
      " |      Return repr(self).\n",
      " |  \n",
      " |  __setattr__(self, name, value, /)\n",
      " |      Implement setattr(self, name, value).\n",
      " |  \n",
      " |  ----------------------------------------------------------------------\n",
      " |  Static methods defined here:\n",
      " |  \n",
      " |  __new__(*args, **kwargs) from builtins.type\n",
      " |      Create and return a new object.  See help(type) for accurate signature.\n",
      " |  \n",
      " |  ----------------------------------------------------------------------\n",
      " |  Data descriptors defined here:\n",
      " |  \n",
      " |  __func__\n",
      " |      the function (or other callable) implementing a method\n",
      " |  \n",
      " |  __self__\n",
      " |      the instance to which a method is bound\n",
      "\n"
     ]
    }
   ],
   "source": [
    "help(MethodType)"
   ]
  },
  {
   "cell_type": "code",
   "execution_count": 74,
   "metadata": {},
   "outputs": [
    {
     "data": {
      "text/plain": [
       "int"
      ]
     },
     "execution_count": 74,
     "metadata": {},
     "output_type": "execute_result"
    }
   ],
   "source": [
    "type(9)"
   ]
  },
  {
   "cell_type": "code",
   "execution_count": 77,
   "metadata": {},
   "outputs": [
    {
     "name": "stdout",
     "output_type": "stream",
     "text": [
      "Saying.....\n",
      "Talking.....\n"
     ]
    }
   ],
   "source": [
    "# 利用type造一个类\n",
    "# 先定义类应该具有的成员函数\n",
    "def say(self):\n",
    "    print('Saying.....')\n",
    "def talk(self):\n",
    "    print(\"Talking.....\")\n",
    "    \n",
    "# 用type来创建一个类\n",
    "A = type(\"AName\",(object, ), {\"class_say\":say, \"class_talk\":talk})\n",
    "# 然后可以正常访问一样使用类\n",
    "\n",
    "a = A()\n",
    "a.class_say()\n",
    "a.class_talk()"
   ]
  },
  {
   "cell_type": "code",
   "execution_count": 73,
   "metadata": {},
   "outputs": [
    {
     "name": "stdout",
     "output_type": "stream",
     "text": [
      "Help on class type in module builtins:\n",
      "\n",
      "class type(object)\n",
      " |  type(object_or_name, bases, dict)\n",
      " |  type(object) -> the object's type\n",
      " |  type(name, bases, dict) -> a new type\n",
      " |  \n",
      " |  Methods defined here:\n",
      " |  \n",
      " |  __call__(self, /, *args, **kwargs)\n",
      " |      Call self as a function.\n",
      " |  \n",
      " |  __delattr__(self, name, /)\n",
      " |      Implement delattr(self, name).\n",
      " |  \n",
      " |  __dir__(self, /)\n",
      " |      Specialized __dir__ implementation for types.\n",
      " |  \n",
      " |  __getattribute__(self, name, /)\n",
      " |      Return getattr(self, name).\n",
      " |  \n",
      " |  __init__(self, /, *args, **kwargs)\n",
      " |      Initialize self.  See help(type(self)) for accurate signature.\n",
      " |  \n",
      " |  __instancecheck__(self, instance, /)\n",
      " |      Check if an object is an instance.\n",
      " |  \n",
      " |  __repr__(self, /)\n",
      " |      Return repr(self).\n",
      " |  \n",
      " |  __setattr__(self, name, value, /)\n",
      " |      Implement setattr(self, name, value).\n",
      " |  \n",
      " |  __sizeof__(self, /)\n",
      " |      Return memory consumption of the type object.\n",
      " |  \n",
      " |  __subclasscheck__(self, subclass, /)\n",
      " |      Check if a class is a subclass.\n",
      " |  \n",
      " |  __subclasses__(self, /)\n",
      " |      Return a list of immediate subclasses.\n",
      " |  \n",
      " |  mro(self, /)\n",
      " |      Return a type's method resolution order.\n",
      " |  \n",
      " |  ----------------------------------------------------------------------\n",
      " |  Class methods defined here:\n",
      " |  \n",
      " |  __prepare__(...)\n",
      " |      __prepare__() -> dict\n",
      " |      used to create the namespace for the class statement\n",
      " |  \n",
      " |  ----------------------------------------------------------------------\n",
      " |  Static methods defined here:\n",
      " |  \n",
      " |  __new__(*args, **kwargs)\n",
      " |      Create and return a new object.  See help(type) for accurate signature.\n",
      " |  \n",
      " |  ----------------------------------------------------------------------\n",
      " |  Data descriptors defined here:\n",
      " |  \n",
      " |  __abstractmethods__\n",
      " |  \n",
      " |  __dict__\n",
      " |  \n",
      " |  __text_signature__\n",
      " |  \n",
      " |  ----------------------------------------------------------------------\n",
      " |  Data and other attributes defined here:\n",
      " |  \n",
      " |  __base__ = <class 'object'>\n",
      " |      The most base type\n",
      " |  \n",
      " |  __bases__ = (<class 'object'>,)\n",
      " |  \n",
      " |  __basicsize__ = 864\n",
      " |  \n",
      " |  __dictoffset__ = 264\n",
      " |  \n",
      " |  __flags__ = -2146675712\n",
      " |  \n",
      " |  __itemsize__ = 40\n",
      " |  \n",
      " |  __mro__ = (<class 'type'>, <class 'object'>)\n",
      " |  \n",
      " |  __weakrefoffset__ = 368\n",
      "\n"
     ]
    }
   ],
   "source": [
    "help(type)"
   ]
  },
  {
   "cell_type": "code",
   "execution_count": 81,
   "metadata": {},
   "outputs": [
    {
     "name": "stdout",
     "output_type": "stream",
     "text": [
      "哈哈，我是元类呀\n"
     ]
    },
    {
     "data": {
      "text/plain": [
       "'000000'"
      ]
     },
     "execution_count": 81,
     "metadata": {},
     "output_type": "execute_result"
    }
   ],
   "source": [
    "# 元类演示\n",
    "# 元类写法是固定的，必须继承type\n",
    "# 一般命名以MetaClass结尾\n",
    "class TulingMetaClass(type):\n",
    "    # 注意一下写法\n",
    "    def __new__(cls, name, bases, attrs):\n",
    "        # 自己的业务处理\n",
    "        print('哈哈，我是元类呀')\n",
    "        attrs['id'] = '000000'\n",
    "        attrs['addr'] = \"成都是郫都区大古井借\"\n",
    "        return type.__new__(cls, name, bases, attrs)\n",
    "# 元类定义完就可以使用，使用注意注意写法\n",
    "\n",
    "class Teacher(object, metaclass = TulingMetaClass):\n",
    "    pass\n",
    "t = Teacher()\n",
    "t.id\n"
   ]
  }
 ],
 "metadata": {
  "kernelspec": {
   "display_name": "Python 3",
   "language": "python",
   "name": "python3"
  },
  "language_info": {
   "codemirror_mode": {
    "name": "ipython",
    "version": 3
   },
   "file_extension": ".py",
   "mimetype": "text/x-python",
   "name": "python",
   "nbconvert_exporter": "python",
   "pygments_lexer": "ipython3",
   "version": "3.7.0"
  }
 },
 "nbformat": 4,
 "nbformat_minor": 2
}
