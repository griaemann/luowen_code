{
 "cells": [
  {
   "cell_type": "markdown",
   "metadata": {},
   "source": [
    "# 变量作用域\n",
    "- 变量有作用范围限制\n",
    "- 分类\n",
    "    - 按照作用域分类\n",
    "    - 全局（global）：函数外部定义\n",
    "    - 局部（local）：在函数内部定义\n",
    "- 变量的作用范围：\n",
    "    - 全局变量：在整个全局范围都有效\n",
    "    - 全局变量在局部可以使用，（即在函数内部可以访问函数外部定义的变量）\n",
    "    - 局部变量在局部范围可以使用\n",
    "    - 局部变量在全局范围无法使用\n",
    "- LEGB原则\n",
    "    - L(local)局部作用域\n",
    "    - E(Enclosing function local)外部嵌套作用域\n",
    "    - G(Global module)函数定义所在模块作用域\n",
    "    - B(Buildin)python内置模块的作用域"
   ]
  },
  {
   "cell_type": "code",
   "execution_count": 4,
   "metadata": {},
   "outputs": [
    {
     "name": "stdout",
     "output_type": "stream",
     "text": [
      "100\n",
      "100\n",
      "I am in fun\n",
      "99\n"
     ]
    },
    {
     "ename": "NameError",
     "evalue": "name 'a2' is not defined",
     "output_type": "error",
     "traceback": [
      "\u001b[1;31m---------------------------------------------------------------------------\u001b[0m",
      "\u001b[1;31mNameError\u001b[0m                                 Traceback (most recent call last)",
      "\u001b[1;32m<ipython-input-4-f1e809b5ea22>\u001b[0m in \u001b[0;36m<module>\u001b[1;34m()\u001b[0m\n\u001b[0;32m      8\u001b[0m \u001b[0mprint\u001b[0m\u001b[1;33m(\u001b[0m\u001b[0ma1\u001b[0m\u001b[1;33m)\u001b[0m\u001b[1;33m\u001b[0m\u001b[0m\n\u001b[0;32m      9\u001b[0m \u001b[0mfun\u001b[0m\u001b[1;33m(\u001b[0m\u001b[1;33m)\u001b[0m\u001b[1;33m\u001b[0m\u001b[0m\n\u001b[1;32m---> 10\u001b[1;33m \u001b[0mprint\u001b[0m\u001b[1;33m(\u001b[0m\u001b[0ma2\u001b[0m\u001b[1;33m)\u001b[0m\u001b[1;33m\u001b[0m\u001b[0m\n\u001b[0m",
      "\u001b[1;31mNameError\u001b[0m: name 'a2' is not defined"
     ]
    }
   ],
   "source": [
    "a1 = 100\n",
    "def fun():\n",
    "    print(a1)\n",
    "    print('I am in fun')\n",
    "    # a2 的作用域是fun\n",
    "    a2 = 99\n",
    "    print(a2)\n",
    "print(a1)\n",
    "fun()\n",
    "print(a2)"
   ]
  },
  {
   "cell_type": "markdown",
   "metadata": {},
   "source": [
    "## 提升局部变量为全局变量\n",
    "- 使用 global\n",
    "- 案例如下"
   ]
  },
  {
   "cell_type": "code",
   "execution_count": 9,
   "metadata": {},
   "outputs": [
    {
     "name": "stdout",
     "output_type": "stream",
     "text": [
      "100\n",
      "I am in fun\n",
      "99\n",
      "100 8888\n"
     ]
    }
   ],
   "source": [
    "def fun():\n",
    "    global b1 \n",
    "    b1 = 100\n",
    "    print(b1)\n",
    "    print('I am in fun')\n",
    "    # b2 的作用域是fun\n",
    "    b2 = 99\n",
    "    print(b2)\n",
    "fun()\n",
    "print(b1,'8888')\n",
    "# print(b2)"
   ]
  },
  {
   "cell_type": "markdown",
   "metadata": {},
   "source": [
    "# globals,locals函数\n",
    "- 可以通过globals和locals显示处局部变量和全局变量\n",
    "- 参看以下案例"
   ]
  },
  {
   "cell_type": "code",
   "execution_count": 12,
   "metadata": {},
   "outputs": [
    {
     "name": "stdout",
     "output_type": "stream",
     "text": [
      "Locals={'c': 100, 'd': 200, 'e': 111}\n",
      "Globals={'__name__': '__main__', '__doc__': 'Automatically created module for IPython interactive environment', '__package__': None, '__loader__': None, '__spec__': None, '__builtin__': <module 'builtins' (built-in)>, '__builtins__': <module 'builtins' (built-in)>, '_ih': ['', \"a1 = 100\\ndef fun():\\n    print(a1)\\n    print('I am in fun')\\n    # a2 的作用域是fun\\n    a2 = 99\\n    print(a2)\\nprint(a1)\", \"a1 = 100\\ndef fun():\\n    print(a1)\\n    print('I am in fun')\\n    # a2 的作用域是fun\\n    a2 = 99\\n    print(a2)\\nprint(a1)\\nfun()\", \"a1 = 100\\ndef fun():\\n    print(a1)\\n    print('I am in fun')\\n    # a2 的作用域是fun\\n    a2 = 99\\n    print(a2)\\nprint(a1)\\nfun()\\n# print(a2)\", \"a1 = 100\\ndef fun():\\n    print(a1)\\n    print('I am in fun')\\n    # a2 的作用域是fun\\n    a2 = 99\\n    print(a2)\\nprint(a1)\\nfun()\\nprint(a2)\", \"def fun():\\n    global b1 = 100\\n    print(b1)\\n    print('I am in fun')\\n    # b2 的作用域是fun\\n    b2 = 99\\n    print(b2)\\nprint(b1)\\n# print(b2)\\nfun()\", \"def fun():\\n    global b1 \\n    b1 = 100\\n    print(b1)\\n    print('I am in fun')\\n    # b2 的作用域是fun\\n    b2 = 99\\n    print(b2)\\nprint(b1)\\n# print(b2)\\nfun()\", \"def fun():\\n    global b1 \\n    b1 = 100\\n    print(b1)\\n    print('I am in fun')\\n    # b2 的作用域是fun\\n    b2 = 99\\n    print(b2)\\nfun()\\nprint(b1)\\n# print(b2)\", \"def fun():\\n    global b1 \\n    b1 = 100\\n    print(b1)\\n    print('I am in fun')\\n    # b2 的作用域是fun\\n    b2 = 99\\n    print(b2)\\nfun()\\nprint(b1,'8888')\\n# print(b2)\", \"def fun():\\n    global b1 \\n    b1 = 100\\n    print(b1)\\n    print('I am in fun')\\n    # b2 的作用域是fun\\n    b2 = 99\\n    print(b2)\\nfun()\\nprint(b1,'8888')\\n# print(b2)\", \"# globals 和 locals\\na = 1\\nb = 2\\ndef fun(c,d):\\n    e = 111\\n    print('Locals={0}'.format(locals()))\\n    print('Globals={0}'.format(globals()))\", \"# globals 和 locals\\na = 1\\nb = 2\\ndef fun(c,d):\\n    e = 111\\n    print('Locals={0}'.format(locals()))\\n    print('Globals={0}'.format(globals()))\\nfun(100,200)\", \"# globals 和 locals\\na = 1\\nb = 2\\ndef fun(c,d):\\n    e = 111\\n    print('Locals={0}'.format(locals()))\\n    print('Globals={0}'.format(globals()))\\nfun(100,200)\"], '_oh': {}, '_dh': ['C:\\\\Users\\\\Administrator\\\\python'], 'In': ['', \"a1 = 100\\ndef fun():\\n    print(a1)\\n    print('I am in fun')\\n    # a2 的作用域是fun\\n    a2 = 99\\n    print(a2)\\nprint(a1)\", \"a1 = 100\\ndef fun():\\n    print(a1)\\n    print('I am in fun')\\n    # a2 的作用域是fun\\n    a2 = 99\\n    print(a2)\\nprint(a1)\\nfun()\", \"a1 = 100\\ndef fun():\\n    print(a1)\\n    print('I am in fun')\\n    # a2 的作用域是fun\\n    a2 = 99\\n    print(a2)\\nprint(a1)\\nfun()\\n# print(a2)\", \"a1 = 100\\ndef fun():\\n    print(a1)\\n    print('I am in fun')\\n    # a2 的作用域是fun\\n    a2 = 99\\n    print(a2)\\nprint(a1)\\nfun()\\nprint(a2)\", \"def fun():\\n    global b1 = 100\\n    print(b1)\\n    print('I am in fun')\\n    # b2 的作用域是fun\\n    b2 = 99\\n    print(b2)\\nprint(b1)\\n# print(b2)\\nfun()\", \"def fun():\\n    global b1 \\n    b1 = 100\\n    print(b1)\\n    print('I am in fun')\\n    # b2 的作用域是fun\\n    b2 = 99\\n    print(b2)\\nprint(b1)\\n# print(b2)\\nfun()\", \"def fun():\\n    global b1 \\n    b1 = 100\\n    print(b1)\\n    print('I am in fun')\\n    # b2 的作用域是fun\\n    b2 = 99\\n    print(b2)\\nfun()\\nprint(b1)\\n# print(b2)\", \"def fun():\\n    global b1 \\n    b1 = 100\\n    print(b1)\\n    print('I am in fun')\\n    # b2 的作用域是fun\\n    b2 = 99\\n    print(b2)\\nfun()\\nprint(b1,'8888')\\n# print(b2)\", \"def fun():\\n    global b1 \\n    b1 = 100\\n    print(b1)\\n    print('I am in fun')\\n    # b2 的作用域是fun\\n    b2 = 99\\n    print(b2)\\nfun()\\nprint(b1,'8888')\\n# print(b2)\", \"# globals 和 locals\\na = 1\\nb = 2\\ndef fun(c,d):\\n    e = 111\\n    print('Locals={0}'.format(locals()))\\n    print('Globals={0}'.format(globals()))\", \"# globals 和 locals\\na = 1\\nb = 2\\ndef fun(c,d):\\n    e = 111\\n    print('Locals={0}'.format(locals()))\\n    print('Globals={0}'.format(globals()))\\nfun(100,200)\", \"# globals 和 locals\\na = 1\\nb = 2\\ndef fun(c,d):\\n    e = 111\\n    print('Locals={0}'.format(locals()))\\n    print('Globals={0}'.format(globals()))\\nfun(100,200)\"], 'Out': {}, 'get_ipython': <bound method InteractiveShell.get_ipython of <ipykernel.zmqshell.ZMQInteractiveShell object at 0x0000028D2AFFB320>>, 'exit': <IPython.core.autocall.ZMQExitAutocall object at 0x0000028D2B86C630>, 'quit': <IPython.core.autocall.ZMQExitAutocall object at 0x0000028D2B86C630>, '_': '', '__': '', '___': '', '_i': \"# globals 和 locals\\na = 1\\nb = 2\\ndef fun(c,d):\\n    e = 111\\n    print('Locals={0}'.format(locals()))\\n    print('Globals={0}'.format(globals()))\\nfun(100,200)\", '_ii': \"# globals 和 locals\\na = 1\\nb = 2\\ndef fun(c,d):\\n    e = 111\\n    print('Locals={0}'.format(locals()))\\n    print('Globals={0}'.format(globals()))\", '_iii': \"def fun():\\n    global b1 \\n    b1 = 100\\n    print(b1)\\n    print('I am in fun')\\n    # b2 的作用域是fun\\n    b2 = 99\\n    print(b2)\\nfun()\\nprint(b1,'8888')\\n# print(b2)\", '_i1': \"a1 = 100\\ndef fun():\\n    print(a1)\\n    print('I am in fun')\\n    # a2 的作用域是fun\\n    a2 = 99\\n    print(a2)\\nprint(a1)\", 'a1': 100, 'fun': <function fun at 0x0000028D2BA03E18>, '_i2': \"a1 = 100\\ndef fun():\\n    print(a1)\\n    print('I am in fun')\\n    # a2 的作用域是fun\\n    a2 = 99\\n    print(a2)\\nprint(a1)\\nfun()\", '_i3': \"a1 = 100\\ndef fun():\\n    print(a1)\\n    print('I am in fun')\\n    # a2 的作用域是fun\\n    a2 = 99\\n    print(a2)\\nprint(a1)\\nfun()\\n# print(a2)\", '_i4': \"a1 = 100\\ndef fun():\\n    print(a1)\\n    print('I am in fun')\\n    # a2 的作用域是fun\\n    a2 = 99\\n    print(a2)\\nprint(a1)\\nfun()\\nprint(a2)\", '_i5': \"def fun():\\n    global b1 = 100\\n    print(b1)\\n    print('I am in fun')\\n    # b2 的作用域是fun\\n    b2 = 99\\n    print(b2)\\nprint(b1)\\n# print(b2)\\nfun()\", '_i6': \"def fun():\\n    global b1 \\n    b1 = 100\\n    print(b1)\\n    print('I am in fun')\\n    # b2 的作用域是fun\\n    b2 = 99\\n    print(b2)\\nprint(b1)\\n# print(b2)\\nfun()\", '_i7': \"def fun():\\n    global b1 \\n    b1 = 100\\n    print(b1)\\n    print('I am in fun')\\n    # b2 的作用域是fun\\n    b2 = 99\\n    print(b2)\\nfun()\\nprint(b1)\\n# print(b2)\", 'b1': 100, '_i8': \"def fun():\\n    global b1 \\n    b1 = 100\\n    print(b1)\\n    print('I am in fun')\\n    # b2 的作用域是fun\\n    b2 = 99\\n    print(b2)\\nfun()\\nprint(b1,'8888')\\n# print(b2)\", '_i9': \"def fun():\\n    global b1 \\n    b1 = 100\\n    print(b1)\\n    print('I am in fun')\\n    # b2 的作用域是fun\\n    b2 = 99\\n    print(b2)\\nfun()\\nprint(b1,'8888')\\n# print(b2)\", '_i10': \"# globals 和 locals\\na = 1\\nb = 2\\ndef fun(c,d):\\n    e = 111\\n    print('Locals={0}'.format(locals()))\\n    print('Globals={0}'.format(globals()))\", 'a': 1, 'b': 2, '_i11': \"# globals 和 locals\\na = 1\\nb = 2\\ndef fun(c,d):\\n    e = 111\\n    print('Locals={0}'.format(locals()))\\n    print('Globals={0}'.format(globals()))\\nfun(100,200)\", '_i12': \"# globals 和 locals\\na = 1\\nb = 2\\ndef fun(c,d):\\n    e = 111\\n    print('Locals={0}'.format(locals()))\\n    print('Globals={0}'.format(globals()))\\nfun(100,200)\"}\n"
     ]
    }
   ],
   "source": [
    "# globals 和 locals\n",
    "a = 1\n",
    "b = 2\n",
    "def fun(c,d):\n",
    "    e = 111\n",
    "    print('Locals={0}'.format(locals()))\n",
    "    print('Globals={0}'.format(globals()))\n",
    "fun(100,200)"
   ]
  },
  {
   "cell_type": "markdown",
   "metadata": {},
   "source": [
    "# eval()函数\n",
    "- 把字符串当成一个表达式来执行，返回表倒是执行后的结果\n",
    "- 语法\n",
    "        eval(string_code, globals=None, locals=None)\n",
    "# exec()函数\n",
    "- 跟eval功能类似，但是不返回结果\n",
    "        exec(string_code, globals=None, locals=None)"
   ]
  },
  {
   "cell_type": "code",
   "execution_count": 19,
   "metadata": {},
   "outputs": [
    {
     "name": "stdout",
     "output_type": "stream",
     "text": [
      "300\n",
      "x+y 300\n",
      "None\n"
     ]
    }
   ],
   "source": [
    "x = 100\n",
    "y = 200\n",
    "# 执行 x+y\n",
    "# z = x + y\n",
    "z = eval(\"x + y\")\n",
    "print(z)\n",
    "z1 = exec(\"print('x+y',x+y)\")\n",
    "z1 = exec(\"x + y\")\n",
    "print(z1)"
   ]
  },
  {
   "cell_type": "markdown",
   "metadata": {},
   "source": [
    "# 递归函数\n",
    "- 函数直接或间接调用自身\n",
    "- 优点：简洁，容易理解\n",
    "- 缺点：对递归深度有限制，消耗资源大\n",
    "- python 对递归深度有店址，超过限制报错\n",
    "- 注意结束条件："
   ]
  },
  {
   "cell_type": "code",
   "execution_count": null,
   "metadata": {},
   "outputs": [],
   "source": [
    "# 递归调用深度限制代码\n",
    "x = 0\n",
    "def fun():\n",
    "    global x\n",
    "    x += 1\n",
    "    print(x)\n",
    "    fun()\n",
    "# 调用函数\n",
    "fun()\n",
    "\n"
   ]
  },
  {
   "cell_type": "code",
   "execution_count": 26,
   "metadata": {},
   "outputs": [
    {
     "name": "stdout",
     "output_type": "stream",
     "text": [
      "5\n",
      "55\n"
     ]
    }
   ],
   "source": [
    "# 斐波那契数列\n",
    "# 1 1 2 3 5 8 .....(第三个数开始每一个数字等于前两个数值的和)\n",
    "# f(1) = 1 f(2) = 1 f(n) = f(n-1)+f(n-2)\n",
    "# n表示求第n个数字的斐波那契数列的值\n",
    "def fib(n):\n",
    "    if n == 1:\n",
    "        return 1\n",
    "    if n == 2:\n",
    "        return 1\n",
    "    # 思考为什么后面return能够正确执行，而不用else语句\n",
    "    return fib(n-1) + fib(n-2)\n",
    "print(fib(5))\n",
    "print(fib(10))\n",
    "# 思考：如果是负数如何修正\n"
   ]
  },
  {
   "cell_type": "markdown",
   "metadata": {},
   "source": [
    "# 内置数据结构（变量类型）\n",
    "- list\n",
    "- set\n",
    "- dict\n",
    "- tuple\n",
    "## list（列表）\n",
    "- 一组有顺序的数据的组合\n",
    "- 创建列表\n",
    "    - 空列表"
   ]
  },
  {
   "cell_type": "code",
   "execution_count": 33,
   "metadata": {},
   "outputs": [
    {
     "name": "stdout",
     "output_type": "stream",
     "text": [
      "<class 'list'>\n",
      "<class 'list'>\n",
      "[100]\n",
      "[2, 3, 4, 5, 6, 2]\n",
      "[]\n"
     ]
    }
   ],
   "source": [
    "# 创建列表\n",
    "l1 = []\n",
    "print(type(l1))\n",
    "# 创建带值的列表\n",
    "l2 = [100]\n",
    "print(type(l2))\n",
    "print(l2)\n",
    "l3 = [2,3,4,5,6,2]\n",
    "print(l3)\n",
    "l4 = list()\n",
    "print(l4)"
   ]
  },
  {
   "cell_type": "markdown",
   "metadata": {},
   "source": [
    "## 列表常用操作\n",
    "- 访问\n",
    "    - 使用下标操作（索引）\n",
    "    - 列表的下标位置是0开始\n",
    "- 分片操作\n",
    "    - 对列表进行任意一段的截取\n",
    "    - l[ : ]"
   ]
  },
  {
   "cell_type": "code",
   "execution_count": 36,
   "metadata": {},
   "outputs": [
    {
     "name": "stdout",
     "output_type": "stream",
     "text": [
      "5\n",
      "2\n"
     ]
    }
   ],
   "source": [
    "# 小标访问\n",
    "l = [2,3,4,5,3,21,1]\n",
    "print(l[3])\n",
    "print(l[0])"
   ]
  },
  {
   "cell_type": "code",
   "execution_count": 49,
   "metadata": {},
   "outputs": [
    {
     "name": "stdout",
     "output_type": "stream",
     "text": [
      "[4, 5]\n",
      "[2, 3, 4, 5, 3, 21, 1, 56, 6]\n",
      "[4, 5, 3, 21, 1, 56, 6]\n",
      "[3, 5, 21]\n",
      "[4, 5, 3, 21, 1, 56, 6]\n",
      "[4]\n",
      "[]\n",
      "[21, 1]\n",
      "[56, 1]\n"
     ]
    }
   ],
   "source": [
    "# 分片操作\n",
    "l = [2,3,4,5,3,21,1,56,6]\n",
    "print(l[2:4])\n",
    "print(l[:]) # 全部\n",
    "print(l[2:])# 下标为2 到最后\n",
    "# 分片可以控制增长幅度\n",
    "print(l[1:6:2])\n",
    "print(l[2:10])# 超过了下标不考虑多余的\n",
    "print(l[-7:3])\n",
    "# 下标的值，增长幅度可以为负数，为负表示从右往左，最后一个数字是-1\n",
    "# 分片默认是从左向右截取。左边一定小于右边\n",
    "print(l[-2:-4])\n",
    "print(l[-4:-2])\n",
    "print(l[-2:-4:-1])"
   ]
  },
  {
   "cell_type": "markdown",
   "metadata": {},
   "source": [
    "## 分片操作是生成一个新的list\n",
    "- 内置函数id 负责显示一个变量或者数据是唯一确定编号\n"
   ]
  },
  {
   "cell_type": "code",
   "execution_count": 56,
   "metadata": {},
   "outputs": [
    {
     "name": "stdout",
     "output_type": "stream",
     "text": [
      "140713586981728\n",
      "140713586984928\n",
      "140713586981728\n",
      "101\n",
      "100\n",
      "140713586981760\n"
     ]
    }
   ],
   "source": [
    "# id 函数举例\n",
    "a = 100\n",
    "b = 200\n",
    "print(id(a))\n",
    "print(id(b))\n",
    "c = a \n",
    "print(id(c))\n",
    "a = 101\n",
    "print(a)\n",
    "print(c)\n",
    "print(id(a))"
   ]
  },
  {
   "cell_type": "code",
   "execution_count": 58,
   "metadata": {
    "scrolled": true
   },
   "outputs": [
    {
     "name": "stdout",
     "output_type": "stream",
     "text": [
      "2805349302920\n",
      "2805349305096\n",
      "2805349305096\n"
     ]
    }
   ],
   "source": [
    "l = [3,4,5,6,7,77,43,5]\n",
    "ll = l[:]\n",
    "lll = ll\n",
    "# 如果两个ID值一样，则表明分片产生的列表是使用的同一份地址，同一份ID，否则就是一份新的数据\n",
    "\n",
    "print(id(l))\n",
    "print(id(ll))\n",
    "print(id(lll))"
   ]
  }
 ],
 "metadata": {
  "kernelspec": {
   "display_name": "Python 3",
   "language": "python",
   "name": "python3"
  },
  "language_info": {
   "codemirror_mode": {
    "name": "ipython",
    "version": 3
   },
   "file_extension": ".py",
   "mimetype": "text/x-python",
   "name": "python",
   "nbconvert_exporter": "python",
   "pygments_lexer": "ipython3",
   "version": "3.7.0"
  }
 },
 "nbformat": 4,
 "nbformat_minor": 2
}
