{
 "cells": [
  {
   "cell_type": "markdown",
   "metadata": {},
   "source": [
    "# 参数四类\n",
    "- 普通参数\n",
    "- 默认参数\n",
    "- 关键字参数\n",
    "- 收集参数\n",
    "## 关键字参数\n",
    "- 语法\n",
    "        def func(p1 = v1,p2 = v2,...)\n",
    "            func_body\n",
    "        #调用\n",
    "        func(p1 = value1,p2 = value2,....)\n",
    "- 比较麻烦，但是也有好处\n",
    "    - 不容易混淆，一般是参合形参只是按照位置一一对应即可，容易出错\n",
    "    - 使用关键子参数，可以不考虑位置"
   ]
  },
  {
   "cell_type": "code",
   "execution_count": null,
   "metadata": {},
   "outputs": [],
   "source": [
    "# 关键字参数案例\n",
    "def stu(name,age,addr):\n",
    "    print('I am a student')\n",
    "    print('我叫{0}，我今年{1}岁了，我住在{2}'.format(name,age,addr))\n",
    "name = 'luowen'\n",
    "a = 23\n",
    "addr = '我家'\n",
    "# 普通参数只是按照位置传递，容易出错\n",
    "stu(name,a,addr)\n",
    "\n",
    "\n",
    "def stu_key(name = 'No name',age = 0,addr = 'No addr'):\n",
    "    print('I am a student')\n",
    "    print('我叫{0}，我今年{1}岁了，我住在{2}'.format(name,age,addr))\n",
    "name = 'luowen'\n",
    "a = 23\n",
    "addr = '我家'\n",
    "# 普通参数只是按照位置传递，容易出错\n",
    "stu(age=a, name=name, addr=addr)"
   ]
  },
  {
   "cell_type": "markdown",
   "metadata": {},
   "source": [
    "## 收集参数\n",
    "- 把没有位置，不能和定义时的参数位置相对应的参数，放入一个特定的数据结构中\n",
    "- 语法\n",
    "        def func(*args):\n",
    "            func_body\n",
    "            按照list使用的方式访问args得到传入的参数\n",
    "        调用\n",
    "        func（p1,p2,p3,p4,p5,....）\n",
    "- 参数名称args 不是必须这么写，但是没有特殊的原因，我们强烈推荐，约定俗成\n",
    "- 参数名args前需要有*号\n",
    "- 收集参数可以和其他参数共存\n"
   ]
  },
  {
   "cell_type": "code",
   "execution_count": 9,
   "metadata": {
    "scrolled": true
   },
   "outputs": [
    {
     "name": "stdout",
     "output_type": "stream",
     "text": [
      "Hello 大家好，自我介绍一下，我简单说两句\n",
      "<class 'tuple'>\n",
      "18\n",
      "四川省郫都区\n",
      "我喜欢刘晓霞\n",
      "single\n",
      "Hello 大家好，自我介绍一下，我简单说两句\n",
      "<class 'tuple'>\n",
      "12\n",
      "Hello 大家好，自我介绍一下，我简单说两句\n",
      "<class 'tuple'>\n"
     ]
    }
   ],
   "source": [
    "# 收集参数代码\n",
    "# 函数模拟一个学生进行自我介绍，但具体内容不清楚\n",
    "# args把他看做一个列表\n",
    "def stu(name,*args ):\n",
    "    print('Hello 大家好，自我介绍一下，我简单说两句')\n",
    "    #type函数的作用是检测变量的类型\n",
    "    print(type(args))\n",
    "    for item in args:\n",
    "        print(item)\n",
    "stu('luoern',18,'四川省郫都区','我喜欢刘晓霞','single')\n",
    "stu('周大神',12)\n",
    "# 收集参数可以不塞任何的实参调用，此时收集参数为空tuple\n",
    "stu('luowen')"
   ]
  },
  {
   "cell_type": "code",
   "execution_count": 10,
   "metadata": {},
   "outputs": [
    {
     "ename": "TypeError",
     "evalue": "stu() got an unexpected keyword argument 'age'",
     "output_type": "error",
     "traceback": [
      "\u001b[1;31m---------------------------------------------------------------------------\u001b[0m",
      "\u001b[1;31mTypeError\u001b[0m                                 Traceback (most recent call last)",
      "\u001b[1;32m<ipython-input-10-37d0203aee4f>\u001b[0m in \u001b[0;36m<module>\u001b[1;34m()\u001b[0m\n\u001b[1;32m----> 1\u001b[1;33m \u001b[0mstu\u001b[0m\u001b[1;33m(\u001b[0m\u001b[0mname\u001b[0m \u001b[1;33m=\u001b[0m \u001b[1;34m'liuying'\u001b[0m\u001b[1;33m,\u001b[0m\u001b[0mage\u001b[0m \u001b[1;33m=\u001b[0m \u001b[1;36m20\u001b[0m\u001b[1;33m)\u001b[0m\u001b[1;33m\u001b[0m\u001b[0m\n\u001b[0m",
      "\u001b[1;31mTypeError\u001b[0m: stu() got an unexpected keyword argument 'age'"
     ]
    }
   ],
   "source": [
    "stu(name = 'liuying',age = 20)"
   ]
  },
  {
   "cell_type": "markdown",
   "metadata": {},
   "source": [
    "### 收集参数之关键字收集参数\n",
    "- 把关键子参数按照字典的格式存入收集参数\n",
    "        def func(**kwargs):\n",
    "            func_body\n",
    "        # 调用\n",
    "        func(p1=v1, p2=v2, p3=v3,...)\n",
    "     - kwargs一般是约定俗成\n",
    "     - 调用的时候把多余的关键子参数放入kwargs\n",
    "     - 访问kwargs需要按照字典格式访问"
   ]
  },
  {
   "cell_type": "code",
   "execution_count": 15,
   "metadata": {},
   "outputs": [
    {
     "name": "stdout",
     "output_type": "stream",
     "text": [
      "Hello，大家好，我先自我介绍一下，简单说两句\n",
      "<class 'dict'>\n",
      "name ------ luowen\n",
      "age ------ 19\n",
      "addr ------ 北京大通州区\n",
      "lover ------ 王小静\n",
      "work ------ 教师\n",
      "******************************\n",
      "Hello，大家好，我先自我介绍一下，简单说两句\n",
      "<class 'dict'>\n",
      "name ------ 周大神\n"
     ]
    }
   ],
   "source": [
    "# 收集参数案例\n",
    "# 自我介绍\n",
    "#调用的时候使用关键子参数调用\n",
    "def stu(**kwargs):\n",
    "    print('Hello，大家好，我先自我介绍一下，简单说两句')\n",
    "    print(type(kwargs))\n",
    "    # 对弈字典的访问，Python2和Python3 有区别\n",
    "    for k, v in kwargs.items():\n",
    "        print(k,'------', v)\n",
    "    \n",
    "stu(name='luowen', age=19, addr='北京大通州区', lover='王小静',work='教师')\n",
    "print('*'*30)\n",
    "stu(name='周大神')"
   ]
  },
  {
   "cell_type": "code",
   "execution_count": 17,
   "metadata": {},
   "outputs": [
    {
     "name": "stdout",
     "output_type": "stream",
     "text": [
      "Hello，大家好，我先自我介绍一下，简单说两句\n",
      "<class 'dict'>\n"
     ]
    }
   ],
   "source": [
    "# 收集参数可以为空的案例\n",
    "stu()"
   ]
  },
  {
   "cell_type": "markdown",
   "metadata": {},
   "source": [
    "### 收集参数混合调用的顺序问题\n",
    "- 收集参数，关键字参数，普通参数，可以混合使用\n",
    "- 使用规则：普通参数和关键字参数优先\n",
    "- 定义的时候一般找普通参数，关键字参数，收集参数tuple,收集参数dict\n"
   ]
  },
  {
   "cell_type": "code",
   "execution_count": 27,
   "metadata": {},
   "outputs": [
    {
     "name": "stdout",
     "output_type": "stream",
     "text": [
      "hello 大家好\n",
      "我叫luowen,我今年19大了。\n",
      "我没有爱好，很遗憾\n",
      "******************************\n",
      "##############################\n",
      "hello 大家好\n",
      "我叫luowen,我今年19大了。\n",
      "我的爱好是游泳\n",
      "******************************\n",
      "##############################\n",
      "hello 大家好\n",
      "我叫luowen,我今年19大了。\n",
      "我的爱好是游泳\n",
      "******************************\n",
      "刘霞霞\n",
      "高圆圆\n",
      "##############################\n",
      "hobby2 ---- 做饭\n",
      "hobby3 ---- 我喜欢跟不同的女生聊天\n"
     ]
    }
   ],
   "source": [
    "# 收集参数混合调用案例\n",
    "# stu 模拟一个学生的自我介绍\n",
    "def stu(name,age, *args, hobby='没有',**kwargs):\n",
    "    print('hello 大家好')\n",
    "    print('我叫{0},我今年{1}大了。'.format(name,age))\n",
    "    if hobby == '没有':\n",
    "        print('我没有爱好，很遗憾')\n",
    "    else:\n",
    "        print('我的爱好是{0}'.format(hobby))\n",
    "    print(\"*\"*30)\n",
    "    for i in args:\n",
    "        print(i)\n",
    "    print('#'*30)\n",
    "    for k, v in kwargs.items():\n",
    "        print(k,'----',v)\n",
    "# 开始调用\n",
    "name = 'luowen'\n",
    "age = 19\n",
    "# 调用的不同格式\n",
    "stu(name,age)\n",
    "stu(name, age, hobby='游泳')\n",
    "stu(name, age, '刘霞霞', '高圆圆', hobby='游泳', hobby2='做饭', hobby3='我喜欢跟不同的女生聊天')"
   ]
  },
  {
   "cell_type": "markdown",
   "metadata": {},
   "source": [
    "### 收集参数的解包问题\n",
    "- 把参数放入list或者字典中，直接把list或者字典的值放入收集参数中\n",
    "- 语法：看案例"
   ]
  },
  {
   "cell_type": "code",
   "execution_count": 34,
   "metadata": {},
   "outputs": [
    {
     "name": "stdout",
     "output_type": "stream",
     "text": [
      "哈哈哈哈\n",
      "<class 'list'>\n",
      "0\n",
      "['liuying', 10, 300]\n",
      "哈哈哈哈\n",
      "<class 'str'>\n",
      "0\n",
      "liuying\n",
      "<class 'int'>\n",
      "1\n",
      "10\n",
      "<class 'int'>\n",
      "2\n",
      "300\n"
     ]
    }
   ],
   "source": [
    "# 收集参数的解包问题\n",
    "def stu(*args):\n",
    "    print('哈哈哈哈')\n",
    "    # 用来表示虚幻的次数，，主要用来调试\n",
    "    n = 0\n",
    "    for i in args:\n",
    "        print(type(i))\n",
    "        print(n)\n",
    "        n += 1\n",
    "        print(i)\n",
    "# stu('luowen', '刘霞霞', 12, 400)\n",
    "l = list()\n",
    "l.append('liuying')\n",
    "l.append(10)\n",
    "l.append(300)\n",
    "stu(l)\n",
    "# l 值表示一个元素\n",
    "# 此时需要使用解包符号\n",
    "stu(*l)"
   ]
  },
  {
   "cell_type": "markdown",
   "metadata": {},
   "source": [
    "### 同理，dict类型收集参数也可以解包，但是\n",
    "- 对dict进行解包需要加两个**号\n"
   ]
  },
  {
   "cell_type": "markdown",
   "metadata": {},
   "source": [
    "## 返回值\n",
    "- 函数和过程的区别：有无返回值\n",
    "- 需要用return显示返回内容\n",
    "- 如果没有返回则默认返回为None\n",
    "- 推荐写法，无论有无返回值，最后都要以return结束"
   ]
  },
  {
   "cell_type": "code",
   "execution_count": 37,
   "metadata": {},
   "outputs": [
    {
     "name": "stdout",
     "output_type": "stream",
     "text": [
      "有返回值呀\n",
      "1\n",
      "没有返回值\n",
      "None\n"
     ]
    }
   ],
   "source": [
    "# 返回值实例\n",
    "def func_1():\n",
    "    print('有返回值呀')\n",
    "    return 1\n",
    "def func_2():\n",
    "    print('没有返回值')\n",
    "f1 = func_1()\n",
    "print(f1)\n",
    "f2 = func_2()\n",
    "print(f2)"
   ]
  },
  {
   "cell_type": "markdown",
   "metadata": {},
   "source": [
    "# 函数文档\n",
    "- 函数的文档的作用是对于当前函数提供使用相关的参考信息\n",
    "- 文档的写法\n",
    "    - 在函数内部开始第一行使用三引号字符串定义符\n",
    "    - 一般具有特定格式\n",
    "    - 参看案例\n",
    "- 文档查看\n",
    "    - 使用help函数，形如help(func)\n",
    "    - 使用__doc__,参看案例\n",
    "    "
   ]
  },
  {
   "cell_type": "code",
   "execution_count": 40,
   "metadata": {},
   "outputs": [
    {
     "name": "stdout",
     "output_type": "stream",
     "text": [
      "Help on function stu in module __main__:\n",
      "\n",
      "stu(name, age, *args)\n",
      "    这是第一行\n",
      "    这是第二行\n",
      "    这是第三行\n",
      "\n"
     ]
    },
    {
     "data": {
      "text/plain": [
       "'\\n    这是第一行\\n    这是第二行\\n    这是第三行\\n    '"
      ]
     },
     "execution_count": 40,
     "metadata": {},
     "output_type": "execute_result"
    }
   ],
   "source": [
    "# 函数文档\n",
    "# 我写一个函数模拟学生的自我介绍\n",
    "def stu (name, age, *args):\n",
    "    '''\n",
    "    这是第一行\n",
    "    这是第二行\n",
    "    这是第三行\n",
    "    '''\n",
    "    print('This is hanshu stu')\n",
    "# 查看函数文档\n",
    "help(stu)\n",
    "stu.__doc__\n",
    "# pycharm 的自动生成函数说明"
   ]
  }
 ],
 "metadata": {
  "kernelspec": {
   "display_name": "Python 3",
   "language": "python",
   "name": "python3"
  },
  "language_info": {
   "codemirror_mode": {
    "name": "ipython",
    "version": 3
   },
   "file_extension": ".py",
   "mimetype": "text/x-python",
   "name": "python",
   "nbconvert_exporter": "python",
   "pygments_lexer": "ipython3",
   "version": "3.7.0"
  }
 },
 "nbformat": 4,
 "nbformat_minor": 2
}
