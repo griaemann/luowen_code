{
 "cells": [
  {
   "cell_type": "markdown",
   "metadata": {},
   "source": [
    "# 三大结构\n",
    "- 顺序\n",
    "- 分支\n",
    "- 循环"
   ]
  },
  {
   "cell_type": "markdown",
   "metadata": {},
   "source": [
    "# 分支\n",
    "- 分支的基本语法\n",
    "    - if 条件表达式：\n",
    "        语句1\n",
    "        语句2\n",
    "             .....\n",
    "- 条件表达式就是计算结果必须是布尔值，表达是后面的冒号不能少\n",
    "- if后面的语句块，如果属于if语句必须统一缩进\n",
    "- 条件表达式为真执行缩进的代码块"
   ]
  },
  {
   "cell_type": "code",
   "execution_count": 1,
   "metadata": {},
   "outputs": [
    {
     "name": "stdout",
     "output_type": "stream",
     "text": [
      "叫家长吧，孩子\n",
      "我们不带你玩\n",
      "滚球的\n",
      "开课咯，老司机们\n"
     ]
    }
   ],
   "source": [
    "# if 语句练习\n",
    "age = 17\n",
    "if age < 18:\n",
    "    print('叫家长吧，孩子')\n",
    "    print('我们不带你玩')\n",
    "    print('滚球的')"
   ]
  },
  {
   "cell_type": "code",
   "execution_count": 3,
   "metadata": {},
   "outputs": [
    {
     "name": "stdout",
     "output_type": "stream",
     "text": [
      "开课咯，老司机们\n"
     ]
    }
   ],
   "source": [
    "# if 语句练习\n",
    "age = 19\n",
    "if age < 18: # 条件表达式为假，if下的语句块不执行\n",
    "    print('叫家长吧，孩子')\n",
    "    print('我们不带你玩')\n",
    "    print('滚球的')\n",
    "print('开课咯，老司机们') # if条件为假的是后往下执行。"
   ]
  },
  {
   "cell_type": "markdown",
   "metadata": {},
   "source": [
    "### 双向分支\n",
    "- if ... else ...语句\n",
    "    if 条件表达式：\n",
    "        语句1\n",
    "        语句2\n",
    "        ...\n",
    "    else:\n",
    "        语句1\n",
    "        语句2\n",
    "        ...\n",
    "- 双向分支有两个分支，当执行if ... else ...语句的时候，一定会执行其中的一个，而且只能执行一个。\n",
    "- 缩进问题：if else一个层级，其他语句一个层级"
   ]
  },
  {
   "cell_type": "code",
   "execution_count": 6,
   "metadata": {},
   "outputs": [
    {
     "name": "stdout",
     "output_type": "stream",
     "text": [
      "请输入性别nan\n",
      "你输入的性别是：nan\n",
      "来，我们纪念一下今天吧，代码敲十遍\n",
      "开始上课咯\n"
     ]
    }
   ],
   "source": [
    "# input 返回的内容是一个字符串。\n",
    "gender = input('请输入性别')\n",
    "print('你输入的性别是：{0}'.format(gender))\n",
    "\n",
    "if gender == 'nan':\n",
    "    print('来，我们纪念一下今天吧，代码敲十遍')\n",
    "else:\n",
    "    print('发糖咯，嘻嘻')\n",
    "print('开始上课咯')"
   ]
  },
  {
   "cell_type": "code",
   "execution_count": 11,
   "metadata": {},
   "outputs": [
    {
     "name": "stdout",
     "output_type": "stream",
     "text": [
      "请输入学生成绩：30\n",
      "没你这傻学生\n"
     ]
    }
   ],
   "source": [
    "# 考试成绩判断\n",
    "# 90以上：输出优秀\n",
    "# 80-90：良\n",
    "# 70-80：中\n",
    "# 60-79：及格\n",
    "# 60以下，输出：没你这傻学生\n",
    "score = input('请输入学生成绩：')\n",
    "score = int(score)\n",
    "if score > 90:\n",
    "    print('优秀')\n",
    "elif score >= 80:\n",
    "    print('良好')\n",
    "elif score >= 70:\n",
    "    print('中等')\n",
    "elif score >= 60:\n",
    "    print('及格')\n",
    "else:\n",
    "    print('没你这傻学生')\n",
    "\n",
    "\n"
   ]
  },
  {
   "cell_type": "markdown",
   "metadata": {},
   "source": [
    "## 多路分支\n",
    "- 很多分支的情况，简称多路分支\n",
    "- 多路分支只执行一个。\n"
   ]
  },
  {
   "cell_type": "markdown",
   "metadata": {},
   "source": [
    "## if语句其他：\n",
    "- if语句可以嵌套使用，但不推荐\n",
    "- Python没有switch - case语句"
   ]
  },
  {
   "cell_type": "markdown",
   "metadata": {},
   "source": [
    "# 循环语句\n",
    "- 重复执行某些固定动作或者处理基本固定的事物\n",
    "- 分类\n",
    "    - for循环\n",
    "    - while循环\n",
    "## for循环\n",
    "- for 循环\n",
    "    for 变量 in 序列:\n",
    "        语句1\n",
    "        语句2\n",
    "        ..."
   ]
  },
  {
   "cell_type": "code",
   "execution_count": 12,
   "metadata": {},
   "outputs": [
    {
     "name": "stdout",
     "output_type": "stream",
     "text": [
      "李白\n",
      "同学我们不约，不约，同学请自重\n",
      "zhangsan\n",
      "同学我们不约，不约，同学请自重\n",
      "lisi\n",
      "同学我们不约，不约，同学请自重\n",
      "wangwu\n",
      "同学我们不约，不约，同学请自重\n",
      "jingjing\n",
      "我的最爱jingjing出现了\n"
     ]
    }
   ],
   "source": [
    "for name in ['李白','zhangsan','lisi','wangwu','jingjing']:\n",
    "    print(name)\n",
    "    if name == 'jingjing':\n",
    "        print('我的最爱{0}出现了'.format(name))\n",
    "    else:\n",
    "        print('同学我们不约，不约，同学请自重')"
   ]
  },
  {
   "cell_type": "markdown",
   "metadata": {},
   "source": [
    "## range介绍\n",
    "- 生成一个数字序列\n",
    "- 具体范围可设定\n"
   ]
  },
  {
   "cell_type": "code",
   "execution_count": 14,
   "metadata": {},
   "outputs": [
    {
     "name": "stdout",
     "output_type": "stream",
     "text": [
      "1\n",
      "2\n",
      "3\n",
      "4\n",
      "5\n",
      "6\n",
      "7\n",
      "8\n",
      "9\n",
      "10\n"
     ]
    }
   ],
   "source": [
    "for i in range(1,11):\n",
    "    print(i)"
   ]
  },
  {
   "cell_type": "markdown",
   "metadata": {},
   "source": [
    "## for-else 语句\n",
    "- 当for循环结束的时候，会执行else语句\n",
    "- else语句是可选语句\n"
   ]
  },
  {
   "cell_type": "code",
   "execution_count": 15,
   "metadata": {},
   "outputs": [
    {
     "name": "stdout",
     "output_type": "stream",
     "text": [
      "李白\n",
      "同学我们不约，不约，同学请自重\n",
      "zhangsan\n",
      "同学我们不约，不约，同学请自重\n",
      "lisi\n",
      "同学我们不约，不约，同学请自重\n",
      "wangwu\n",
      "同学我们不约，不约，同学请自重\n",
      "jingjing\n",
      "我的最爱jingjing出现了\n",
      "别的都不是我的学生，不会再爱了\n"
     ]
    }
   ],
   "source": [
    "for name in ['李白','zhangsan','lisi','wangwu','jingjing']:\n",
    "    print(name)\n",
    "    if name == 'jingjing':\n",
    "        print('我的最爱{0}出现了'.format(name))\n",
    "    else:\n",
    "        print('同学我们不约，不约，同学请自重')\n",
    "else:\n",
    "    print('别的都不是我的学生，不会再爱了')"
   ]
  },
  {
   "cell_type": "markdown",
   "metadata": {},
   "source": [
    "## for循环之contineu,pass\n",
    "- break:无条件结束整个循环，简称循环猝死\n",
    "- continue：无条件结束本次循环，从新进入下一轮循环\n",
    "- pass:表示路过"
   ]
  },
  {
   "cell_type": "code",
   "execution_count": 17,
   "metadata": {},
   "outputs": [
    {
     "name": "stdout",
     "output_type": "stream",
     "text": [
      "1\n",
      "2\n",
      "3\n",
      "4\n",
      "5\n",
      "6\n",
      "我找到了\n"
     ]
    }
   ],
   "source": [
    "# 在1-10的数字中，寻找数字7，一旦找到，打印出来，其余什么都不做\n",
    "# for 循环中的变量表示，一般用i，k,m,n或者index idx,item之类的\n",
    "# 在Python中，如果循环变量名称不重要，可以用下划线（-）代替\n",
    "for i in range(1,11):\n",
    "    if i == 7:\n",
    "        print('我找到了')\n",
    "        break\n",
    "    else:\n",
    "        print(i)\n",
    "        \n",
    "    "
   ]
  },
  {
   "cell_type": "code",
   "execution_count": 19,
   "metadata": {},
   "outputs": [
    {
     "name": "stdout",
     "output_type": "stream",
     "text": [
      "2是偶数\n",
      "4是偶数\n",
      "6是偶数\n",
      "8是偶数\n",
      "10是偶数\n"
     ]
    }
   ],
   "source": [
    "# 在1-10的数字中，寻找偶数，找到后打印偶数\n",
    "for i in range(1,11):\n",
    "    if i % 2 == 1:\n",
    "        continue\n",
    "    else:\n",
    "        print('{0}是偶数'.format(i))"
   ]
  },
  {
   "cell_type": "code",
   "execution_count": 21,
   "metadata": {},
   "outputs": [
    {
     "name": "stdout",
     "output_type": "stream",
     "text": [
      "2是偶数\n",
      "4是偶数\n",
      "6是偶数\n",
      "8是偶数\n",
      "10是偶数\n"
     ]
    }
   ],
   "source": [
    "# continue 语句 版本2\n",
    "# 在1-10的数字中，寻找偶数，找到后打印偶数\n",
    "for i in range(1,11):\n",
    "    if i % 2 == 1:\n",
    "        continue\n",
    "    print('{0}是偶数'.format(i))"
   ]
  },
  {
   "cell_type": "code",
   "execution_count": 22,
   "metadata": {},
   "outputs": [],
   "source": [
    "# pass 例子，一般用于占位\n",
    "# 没有跳过功能\n",
    "for i in range(1,11):\n",
    "    pass\n"
   ]
  },
  {
   "cell_type": "code",
   "execution_count": null,
   "metadata": {},
   "outputs": [],
   "source": []
  }
 ],
 "metadata": {
  "kernelspec": {
   "display_name": "Python 3",
   "language": "python",
   "name": "python3"
  },
  "language_info": {
   "codemirror_mode": {
    "name": "ipython",
    "version": 3
   },
   "file_extension": ".py",
   "mimetype": "text/x-python",
   "name": "python",
   "nbconvert_exporter": "python",
   "pygments_lexer": "ipython3",
   "version": "3.7.0"
  }
 },
 "nbformat": 4,
 "nbformat_minor": 2
}
