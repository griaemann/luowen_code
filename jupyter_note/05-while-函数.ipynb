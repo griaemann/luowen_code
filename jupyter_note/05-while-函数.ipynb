{
 "cells": [
  {
   "cell_type": "markdown",
   "metadata": {},
   "source": [
    "# while循环\n",
    "- 一个循环语句\n",
    "- 表示当某条件成立的时候，就循环\n",
    "- 不知道具体的循环次数，但是能够确定循环成立的条件用while\n",
    "- while语法：\n",
    "        while 条件表达式:\n",
    "            语句块\n",
    "         # 另外一种表达，else只执行一次\n",
    "        while 条件表达式:\n",
    "            语句块\n",
    "        else:\n",
    "            语句块"
   ]
  },
  {
   "cell_type": "code",
   "execution_count": 4,
   "metadata": {},
   "outputs": [
    {
     "name": "stdout",
     "output_type": "stream",
     "text": [
      "第1年拿了 106700.0 块钱\n",
      "第2年拿了 113848.9 块钱\n",
      "第3年拿了 121476.77629999998 块钱\n",
      "第4年拿了 129615.72031209998 块钱\n",
      "第5年拿了 138299.97357301068 块钱\n",
      "第6年拿了 147566.07180240238 块钱\n",
      "第7年拿了 157452.99861316333 块钱\n",
      "第8年拿了 168002.34952024528 块钱\n",
      "第9年拿了 179258.5069381017 块钱\n",
      "第10年拿了 191268.8269029545 块钱\n",
      "第11年拿了 204083.83830545243 块钱\n"
     ]
    }
   ],
   "source": [
    "# 如果说年利率是6.7 本利是每年翻滚，则多少年后本钱会翻倍\n",
    "benqian = 100000\n",
    "year = 0\n",
    "while benqian< 200000:\n",
    "    benqian = benqian*(1+0.067)\n",
    "    year += 1\n",
    "    print('第{0}年拿了 {1} 块钱'.format(year,benqian))"
   ]
  },
  {
   "cell_type": "code",
   "execution_count": 5,
   "metadata": {},
   "outputs": [
    {
     "name": "stdout",
     "output_type": "stream",
     "text": [
      "第1年拿了 106700.0 块钱\n",
      "第2年拿了 113848.9 块钱\n",
      "第3年拿了 121476.77629999998 块钱\n",
      "第4年拿了 129615.72031209998 块钱\n",
      "第5年拿了 138299.97357301068 块钱\n",
      "第6年拿了 147566.07180240238 块钱\n",
      "第7年拿了 157452.99861316333 块钱\n",
      "第8年拿了 168002.34952024528 块钱\n",
      "第9年拿了 179258.5069381017 块钱\n",
      "第10年拿了 191268.8269029545 块钱\n",
      "第11年拿了 204083.83830545243 块钱\n",
      "大爷的，终于翻倍了，10多年啊\n"
     ]
    }
   ],
   "source": [
    "# 本钱翻倍，必须庆祝一下\n",
    "benqian = 100000\n",
    "year = 0\n",
    "while benqian< 200000:\n",
    "    benqian = benqian*(1+0.067)\n",
    "    year += 1\n",
    "    print('第{0}年拿了 {1} 块钱'.format(year,benqian))\n",
    "else:\n",
    "    print('大爷的，终于翻倍了，10多年啊')"
   ]
  },
  {
   "cell_type": "markdown",
   "metadata": {},
   "source": [
    "# 函数\n",
    "- 代码的一种组织形式\n",
    "- 一个函数一般完成一项特定的功能\n",
    "- 函数使用\n",
    "    - 函数需要先定义\n",
    "    - 使用函数，俗称调用"
   ]
  },
  {
   "cell_type": "code",
   "execution_count": 9,
   "metadata": {},
   "outputs": [
    {
     "name": "stdout",
     "output_type": "stream",
     "text": [
      "我是一个函数\n",
      "我要完成一定功能\n",
      "我结束了\n"
     ]
    }
   ],
   "source": [
    "# 定义一个函数\n",
    "# 只是定义的话，不会执行\n",
    "# 1、def 关键字，后跟一个空格\n",
    "# 2、函数名，自己定义，不要使用大驼峰（大驼峰给类起名）\n",
    "# 3、后面括号+冒号，括号内可以有参数\n",
    "def func():\n",
    "    print('我是一个函数')\n",
    "    print('我要完成一定功能')\n",
    "    print('我结束了')\n",
    "# 函数的调用：直接函数名，后面加括号\n",
    "func()"
   ]
  },
  {
   "cell_type": "markdown",
   "metadata": {},
   "source": [
    "### 函数的参数和返回值\n",
    "- 参数：负责给函数传递一个必要的数据或者信息\n",
    "    - 形参 （形式参数）：在函数定义的时候用的参数没有具体的值，只是一个占位符\n",
    "    - 实参 （实际参数）：在调用函数的时候输入的值\n",
    "- 返回值：函数执行的结果\n",
    "    - 使用return关键字\n",
    "    - 如果没有返回值，默认返回None\n",
    "    - 函数一旦执行return语句，则无条件返回，函数结束了\n"
   ]
  },
  {
   "cell_type": "code",
   "execution_count": 12,
   "metadata": {},
   "outputs": [
    {
     "name": "stdout",
     "output_type": "stream",
     "text": [
      "罗文,你肿么了\n",
      "Sir，你不理我我就走咧\n"
     ]
    }
   ],
   "source": [
    "# 参数的定义和使用\n",
    "# 参数person只是一个符号，代表的是调用的时候的某个数据\n",
    "# \n",
    "def hello(person):\n",
    "    print('{0},你肿么了'.format(person))\n",
    "    print('Sir，你不理我我就走咧')\n",
    "p = '罗文'\n",
    "hello(p)"
   ]
  },
  {
   "cell_type": "code",
   "execution_count": 14,
   "metadata": {},
   "outputs": [
    {
     "name": "stdout",
     "output_type": "stream",
     "text": [
      "罗文,你肿么了\n",
      "Sir，你不理我我就走咧\n",
      "我已经跟罗文打招呼了，罗文不理我\n"
     ]
    }
   ],
   "source": [
    "# return语句的基本使用\n",
    "# 函数打完招呼返回一句话\n",
    "def hello(person):\n",
    "    print('{0},你肿么了'.format(person))\n",
    "    print('Sir，你不理我我就走咧')\n",
    "    return '我已经跟{0}打招呼了，{0}不理我'.format(person)\n",
    "p = '罗文'\n",
    "rst = hello(p)\n",
    "print(rst)"
   ]
  },
  {
   "cell_type": "code",
   "execution_count": 17,
   "metadata": {},
   "outputs": [
    {
     "name": "stdout",
     "output_type": "stream",
     "text": [
      "罗文,你肿么了\n",
      "哈哈，我是提前结束\n"
     ]
    }
   ],
   "source": [
    "# return案例2\n",
    "def hello(person):\n",
    "    print('{0},你肿么了'.format(person))\n",
    "    return '哈哈，我是提前结束'\n",
    "    print('Sir，你不理我我就走咧')\n",
    "    return '我已经跟{0}打招呼了，{0}不理我'.format(person)\n",
    "p = '罗文'\n",
    "rst = hello(p)\n",
    "print(rst)"
   ]
  },
  {
   "cell_type": "code",
   "execution_count": 53,
   "metadata": {},
   "outputs": [
    {
     "name": "stdout",
     "output_type": "stream",
     "text": [
      "1 * 1 = 1\t \n",
      "2 * 1 = 2\t2 * 2 = 4\t \n",
      "3 * 1 = 3\t3 * 2 = 6\t3 * 3 = 9\t \n",
      "4 * 1 = 4\t4 * 2 = 8\t4 * 3 = 12\t4 * 4 = 16\t \n",
      "5 * 1 = 5\t5 * 2 = 10\t5 * 3 = 15\t5 * 4 = 20\t5 * 5 = 25\t \n",
      "6 * 1 = 6\t6 * 2 = 12\t6 * 3 = 18\t6 * 4 = 24\t6 * 5 = 30\t6 * 6 = 36\t \n",
      "7 * 1 = 7\t7 * 2 = 14\t7 * 3 = 21\t7 * 4 = 28\t7 * 5 = 35\t7 * 6 = 42\t7 * 7 = 49\t \n",
      "8 * 1 = 8\t8 * 2 = 16\t8 * 3 = 24\t8 * 4 = 32\t8 * 5 = 40\t8 * 6 = 48\t8 * 7 = 56\t8 * 8 = 64\t \n",
      "9 * 1 = 9\t9 * 2 = 18\t9 * 3 = 27\t9 * 4 = 36\t9 * 5 = 45\t9 * 6 = 54\t9 * 7 = 63\t9 * 8 = 72\t9 * 9 = 81\t \n"
     ]
    }
   ],
   "source": [
    "# 九九乘法表\n",
    "# version 1.0\n",
    "j = 0\n",
    "for i in range(1,10):\n",
    "    for j in range(1,i+1):\n",
    "        print('{0} * {1} = {2}'.format(i,j,i*j),end = '\\t')\n",
    "    print(' ')"
   ]
  },
  {
   "cell_type": "code",
   "execution_count": 39,
   "metadata": {},
   "outputs": [
    {
     "name": "stdout",
     "output_type": "stream",
     "text": [
      "Help on built-in function print in module builtins:\n",
      "\n",
      "print(...)\n",
      "    print(value, ..., sep=' ', end='\\n', file=sys.stdout, flush=False)\n",
      "    \n",
      "    Prints the values to a stream, or to sys.stdout by default.\n",
      "    Optional keyword arguments:\n",
      "    file:  a file-like object (stream); defaults to the current sys.stdout.\n",
      "    sep:   string inserted between values, default a space.\n",
      "    end:   string appended after the last value, default a newline.\n",
      "    flush: whether to forcibly flush the stream.\n",
      "\n"
     ]
    }
   ],
   "source": [
    "# 查找函数帮助文档\n",
    "# 1、用help 函数\n",
    "help(print)"
   ]
  },
  {
   "cell_type": "code",
   "execution_count": 43,
   "metadata": {},
   "outputs": [
    {
     "name": "stdout",
     "output_type": "stream",
     "text": [
      "1 \n",
      "2 4 \n",
      "3 6 9 \n",
      "4 8 12 16 \n",
      "5 10 15 20 25 \n",
      "6 12 18 24 30 36 \n",
      "7 14 21 28 35 42 49 \n",
      "8 16 24 32 40 48 56 64 \n",
      "9 18 27 36 45 54 63 72 81 \n"
     ]
    }
   ],
   "source": [
    "# 九九乘法变\n",
    "for row in range(1,10):\n",
    "    # 打印一行\n",
    "    for col in range(1,row+1):\n",
    "        print(row * col,sep = ' ',end = ' ')\n",
    "    print()"
   ]
  },
  {
   "cell_type": "code",
   "execution_count": 54,
   "metadata": {},
   "outputs": [
    {
     "name": "stdout",
     "output_type": "stream",
     "text": [
      "1 * 1 = 1\t \n",
      "2 * 1 = 2\t 2 * 2 = 4\t \n",
      "3 * 1 = 3\t 3 * 2 = 6\t 3 * 3 = 9\t \n",
      "4 * 1 = 4\t 4 * 2 = 8\t 4 * 3 = 12\t 4 * 4 = 16\t \n",
      "5 * 1 = 5\t 5 * 2 = 10\t 5 * 3 = 15\t 5 * 4 = 20\t 5 * 5 = 25\t \n",
      "6 * 1 = 6\t 6 * 2 = 12\t 6 * 3 = 18\t 6 * 4 = 24\t 6 * 5 = 30\t 6 * 6 = 36\t \n",
      "7 * 1 = 7\t 7 * 2 = 14\t 7 * 3 = 21\t 7 * 4 = 28\t 7 * 5 = 35\t 7 * 6 = 42\t 7 * 7 = 49\t \n",
      "8 * 1 = 8\t 8 * 2 = 16\t 8 * 3 = 24\t 8 * 4 = 32\t 8 * 5 = 40\t 8 * 6 = 48\t 8 * 7 = 56\t 8 * 8 = 64\t \n",
      "9 * 1 = 9\t 9 * 2 = 18\t 9 * 3 = 27\t 9 * 4 = 36\t 9 * 5 = 45\t 9 * 6 = 54\t 9 * 7 = 63\t 9 * 8 = 72\t 9 * 9 = 81\t \n"
     ]
    }
   ],
   "source": [
    "# 定义一个函数，打印九九乘法表\n",
    "# version 2.0\n",
    "def printLine(row):\n",
    "    for col in range(1,row+1):\n",
    "        print('%d * %d = %d'%(row,col,row * col),sep = ' ',end = '\\t ')\n",
    "    print()\n",
    "for row in range(1,10):\n",
    "    printLine(row)"
   ]
  },
  {
   "cell_type": "markdown",
   "metadata": {},
   "source": [
    "## 参数详解\n",
    "- 【参考资料】（https://www.cnblogs.com/bingabcd/p/6671368.html）\n",
    "- Python参考资料，headfirst Python-->零基础入门学习Python（小甲鱼）-->习题-->腾讯免费公开课\n",
    "- 参数分类\n",
    "    - 普通参数\n",
    "    - 默认参数\n",
    "    - 关键字参数\n",
    "    - 收集参数\n",
    "- 普通参数\n",
    "    - 参见上例\n",
    "    - 定义的时候直接定义变量名\n",
    "    - 调用的时候直接把变量或者值放入指定的位置\n",
    "            def 函数名（参数1，参数2，...）：\n",
    "                函数体\n",
    "            # 调用:按位置调用\n",
    "            函数名（value1，value2，...）\n",
    "- 默认参数\n",
    "    - 形参带有默认值\n",
    "    - 调用的时候，如果没有对相应的形参赋值，则默认使用默认值\n",
    "            def func_name(p1=v1,p2=v2,....)\n",
    "                func_block\n",
    "            # 调用1\n",
    "            func_name()\n",
    "            #调用2\n",
    "            value1 = 100\n",
    "            value2 = 200\n",
    "            func_name(value1,value2)"
   ]
  },
  {
   "cell_type": "code",
   "execution_count": 56,
   "metadata": {},
   "outputs": [
    {
     "name": "stdout",
     "output_type": "stream",
     "text": [
      "luowen is 25,and he is a good student\n",
      "xiaojing is 23,and she is a good student\n"
     ]
    }
   ],
   "source": [
    "# 默认参数示例\n",
    "# 报名需要知道学生的性别\n",
    "# 学习python 的学生基本都是男的，所以报名的时候没有特别指定，我们默认为男的\n",
    "def reg(name,age,gender = 'male'):\n",
    "    if gender == 'male':\n",
    "        print('{0} is {1},and he is a good student'.format(name,age))\n",
    "    else:\n",
    "        print('{0} is {1},and she is a good student'.format(name,age))\n",
    "# 调用默认参数函数案例\n",
    "reg('luowen',25)\n",
    "reg('xiaojing',23,'female')"
   ]
  }
 ],
 "metadata": {
  "kernelspec": {
   "display_name": "Python 3",
   "language": "python",
   "name": "python3"
  },
  "language_info": {
   "codemirror_mode": {
    "name": "ipython",
    "version": 3
   },
   "file_extension": ".py",
   "mimetype": "text/x-python",
   "name": "python",
   "nbconvert_exporter": "python",
   "pygments_lexer": "ipython3",
   "version": "3.7.0"
  }
 },
 "nbformat": 4,
 "nbformat_minor": 2
}
