{
 "cells": [
  {
   "cell_type": "code",
   "execution_count": 3,
   "metadata": {},
   "outputs": [
    {
     "name": "stdout",
     "output_type": "stream",
     "text": [
      "[1, 2, 3, 4, 5, 6]\n",
      "[1, 2, 300, 4, 5, 6]\n",
      "[1, 2, 300, 4, 5, 6]\n",
      "9\n",
      "109\n",
      "9\n"
     ]
    }
   ],
   "source": [
    "# 传值和传地址的区别\n",
    "# 对于简单的数值，采用传值，即在函数内对参数操作不影响外面的变量\n",
    "# 对于复杂的变量，采用传地址，和外部变量是同一份内容\n",
    "\n",
    "def a(n):\n",
    "    n[2] = 300\n",
    "    print(n)\n",
    "    return None\n",
    "\n",
    "def b(n):\n",
    "    n += 100\n",
    "    print(n)\n",
    "    return None\n",
    "an = [1,2,3,4,5,6]\n",
    "bn = 9\n",
    "print(an)\n",
    "a(an) # 传止\n",
    "print(an)\n",
    "\n",
    "print(bn)\n",
    "b(bn) # 传值\n",
    "print(bn)\n"
   ]
  },
  {
   "cell_type": "markdown",
   "metadata": {},
   "source": [
    "# 关于列表的函数\n"
   ]
  },
  {
   "cell_type": "code",
   "execution_count": 7,
   "metadata": {},
   "outputs": [
    {
     "name": "stdout",
     "output_type": "stream",
     "text": [
      "[1, 2, 3, 4, 5]\n",
      "[1, 2, 3, 4, 5, 100]\n"
     ]
    }
   ],
   "source": [
    "# append 插入一个内容\n",
    "a = [i for i in range(1,6)]\n",
    "print(a)\n",
    "a.append(100)\n",
    "print(a)"
   ]
  },
  {
   "cell_type": "code",
   "execution_count": 12,
   "metadata": {},
   "outputs": [
    {
     "name": "stdout",
     "output_type": "stream",
     "text": [
      "[1, 2, 3, 4, 5]\n",
      "[1, 2, 3, 666, 4, 5]\n"
     ]
    }
   ],
   "source": [
    "# insert 插入指定位置\n",
    "# insert（index data）\n",
    "a = [i for i in range(1,6)]\n",
    "print(a)\n",
    "a.insert(3,666)\n",
    "print(a)"
   ]
  },
  {
   "cell_type": "code",
   "execution_count": 17,
   "metadata": {},
   "outputs": [
    {
     "name": "stdout",
     "output_type": "stream",
     "text": [
      "[1, 2, 3, 4, 5]\n",
      "5\n",
      "[1, 2, 3, 4]\n"
     ]
    }
   ],
   "source": [
    "# 删除\n",
    "# del 删除\n",
    "# pop 从对应拿出一个元素，把最后一个元素取出来\n",
    "a = [i for i in range(1,6)]\n",
    "print(a)\n",
    "b = a.pop()\n",
    "print(b)\n",
    "print(a)"
   ]
  },
  {
   "cell_type": "code",
   "execution_count": 20,
   "metadata": {},
   "outputs": [
    {
     "name": "stdout",
     "output_type": "stream",
     "text": [
      "[1, 2, 3, 4, 5]\n",
      "2514473322504\n",
      "[1, 2, 3, 4]\n",
      "2514473322504\n"
     ]
    }
   ],
   "source": [
    "# remove:在列表中删除指定的值,原地修改\n",
    "# 如果被删除的值不在list中则报错\n",
    "# 即 删除指定值操作使用try ...except 语句，或先行判断\n",
    "# if x in list:\n",
    "#    list.remove(x)\n",
    "\n",
    "a = [i for i in range(1,6)]\n",
    "print(a)\n",
    "print(id(a))\n",
    "a.remove(5)\n",
    "print(a)\n",
    "print(id(a))"
   ]
  },
  {
   "cell_type": "code",
   "execution_count": 24,
   "metadata": {},
   "outputs": [
    {
     "name": "stdout",
     "output_type": "stream",
     "text": [
      "[1, 2, 3, 4, 5]\n",
      "[]\n"
     ]
    }
   ],
   "source": [
    "# clear 清空 原地\n",
    "a = [i for i in range(1,6)]\n",
    "print(a)\n",
    "a.clear()\n",
    "print(a)"
   ]
  },
  {
   "cell_type": "code",
   "execution_count": 26,
   "metadata": {},
   "outputs": [
    {
     "name": "stdout",
     "output_type": "stream",
     "text": [
      "[1, 2, 3, 4, 5, 6]\n",
      "2514473324040\n",
      "[6, 5, 4, 3, 2, 1]\n",
      "2514473324040\n"
     ]
    }
   ],
   "source": [
    "# reverse 翻转,原地翻转\n",
    "a = [1,2,3,4,5,6]\n",
    "print(a)\n",
    "print(id(a))\n",
    "a.reverse()\n",
    "print(a)\n",
    "print(id(a))"
   ]
  },
  {
   "cell_type": "code",
   "execution_count": 28,
   "metadata": {},
   "outputs": [
    {
     "name": "stdout",
     "output_type": "stream",
     "text": [
      "[1, 2, 3, 4, 5, 6, 7, 8, 9, 10]\n"
     ]
    }
   ],
   "source": [
    "# extend 扩展列表\n",
    "a = [1,2,3,4,5]\n",
    "b = [6,7,8,9,10]\n",
    "a.extend(b)\n",
    "print(a)"
   ]
  },
  {
   "cell_type": "code",
   "execution_count": 33,
   "metadata": {},
   "outputs": [
    {
     "name": "stdout",
     "output_type": "stream",
     "text": [
      "2\n"
     ]
    }
   ],
   "source": [
    "#count 查找列表中指定值或元素的个数\n",
    "a = [i for i in range(1,7)]\n",
    "a.append(1)\n",
    "a_len = a.count(1)\n",
    "print(a_len)"
   ]
  },
  {
   "cell_type": "code",
   "execution_count": 38,
   "metadata": {},
   "outputs": [
    {
     "name": "stdout",
     "output_type": "stream",
     "text": [
      "[1, 2, 3, 4, 5, 6]\n",
      "2514473142472\n",
      "2514473142472\n",
      "[1, 2, 3, 777, 5, 6]\n",
      "[1, 2, 3, 777, 5, 6]\n",
      "2514473143880\n",
      "[1, 2, 3, 999, 5, 6]\n"
     ]
    }
   ],
   "source": [
    "# copy：拷贝，浅拷贝\n",
    "a = [1,2,3,4,5,6]\n",
    "print(a)\n",
    "print(id(a))\n",
    "b = a\n",
    "print(id(a))\n",
    "b[3] = 777\n",
    "print(a)\n",
    "print(b)\n",
    "c = a.copy()\n",
    "c[3] = 999\n",
    "print(id(c))\n",
    "print(c)"
   ]
  },
  {
   "cell_type": "code",
   "execution_count": 40,
   "metadata": {},
   "outputs": [
    {
     "name": "stdout",
     "output_type": "stream",
     "text": [
      "2514473144200\n",
      "2514473144264\n",
      "2514473369352\n",
      "2514473369352\n",
      "[1, 2, 3, [10, 20, 666]]\n",
      "[1, 2, 3, [10, 20, 666]]\n"
     ]
    }
   ],
   "source": [
    "# 深拷贝和浅拷贝的区别\n",
    "a = [1,2,3,[10,20,30]]\n",
    "b = a.copy()\n",
    "print(id(a))\n",
    "print(id(b))\n",
    "print(id(a[3]))\n",
    "print(id(b[3]))\n",
    "a[3][2] = 666\n",
    "print(a)\n",
    "print(b)"
   ]
  }
 ],
 "metadata": {
  "kernelspec": {
   "display_name": "Python 3",
   "language": "python",
   "name": "python3"
  },
  "language_info": {
   "codemirror_mode": {
    "name": "ipython",
    "version": 3
   },
   "file_extension": ".py",
   "mimetype": "text/x-python",
   "name": "python",
   "nbconvert_exporter": "python",
   "pygments_lexer": "ipython3",
   "version": "3.7.0"
  }
 },
 "nbformat": 4,
 "nbformat_minor": 2
}
