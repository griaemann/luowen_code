{
 "cells": [
  {
   "cell_type": "markdown",
   "metadata": {},
   "source": [
    "# 汉诺塔问题\n",
    "- 规则：一次只能移动一个盘子，小盘子必须在大盘子上\n",
    "- 方法：\n",
    "    - 1、n = 1 直接把A上的盘子移动到C上 A->C\n",
    "    - 2、n = 2\n",
    "        1、把小盘子放到B上 A->B\n",
    "        2、把大盘子放到C上 A->C\n",
    "        3、把小盘子放到C上 B->C\n",
    "    - 3、n = n:\n",
    "        - 1、把A上的n-1个盘子借助C移动到B上去 调用递归\n",
    "        - 2、把A上的最大盘子，唯一一个，移动到C上 A-C\n",
    "        - 3、把B上的n-1个盘子，借助A 移动到C上，调用递归"
   ]
  },
  {
   "cell_type": "code",
   "execution_count": 16,
   "metadata": {},
   "outputs": [
    {
     "name": "stdout",
     "output_type": "stream",
     "text": [
      "A -------> C\n",
      "A -------> B\n",
      "C -------> B\n",
      "A -------> C\n",
      "B -------> A\n",
      "B -------> C\n",
      "A -------> C\n"
     ]
    }
   ],
   "source": [
    "def hano(n, x, y, z):\n",
    "    '''\n",
    "    n:代表几层\n",
    "    x:表示第一个塔\n",
    "    y:表示第二个塔\n",
    "    z:表示第三个塔\n",
    "    '''\n",
    "    if n == 1:\n",
    "        print(x,\"------->\",z)\n",
    "        return None\n",
    "    '''\n",
    "    if n == 2:\n",
    "        print(x,\"------->\",y)\n",
    "        print(x,\"------->\",z)\n",
    "        print(y,\"------->\",z)\n",
    "        return None\n",
    "    '''\n",
    "    # 把n-1个盘子，从x借助z 移到y上去\n",
    "    hano(n-1, x, z, y)\n",
    "    print(x,\"------->\",z)\n",
    "    # 把n-1个盘子，从y借助x 移到z上去\n",
    "    hano(n-1, y, x, z)\n",
    "\n",
    "x = \"A\"\n",
    "y = \"B\"\n",
    "z = \"C\"\n",
    "\n",
    "n = 3\n",
    "hano(n, x, y, z)"
   ]
  },
  {
   "cell_type": "markdown",
   "metadata": {},
   "source": [
    "# lise(列表)\n",
    "- del 删除命令"
   ]
  },
  {
   "cell_type": "code",
   "execution_count": 21,
   "metadata": {},
   "outputs": [
    {
     "name": "stdout",
     "output_type": "stream",
     "text": [
      "2561421418440\n",
      "[1, 2, 4, 5, 6]\n",
      "2561421418440\n"
     ]
    }
   ],
   "source": [
    "# del 删除:原地删除\n",
    "a = [1,2,3,4,5,6]\n",
    "print(id(a))\n",
    "del a[2]\n",
    "print(a)\n",
    "print(id(a))"
   ]
  },
  {
   "cell_type": "code",
   "execution_count": 23,
   "metadata": {},
   "outputs": [
    {
     "ename": "NameError",
     "evalue": "name 'a' is not defined",
     "output_type": "error",
     "traceback": [
      "\u001b[1;31m---------------------------------------------------------------------------\u001b[0m",
      "\u001b[1;31mNameError\u001b[0m                                 Traceback (most recent call last)",
      "\u001b[1;32m<ipython-input-23-e92f8b8f3524>\u001b[0m in \u001b[0;36m<module>\u001b[1;34m()\u001b[0m\n\u001b[0;32m      1\u001b[0m \u001b[1;31m# 删掉了一个变量，就不能再用了\u001b[0m\u001b[1;33m\u001b[0m\u001b[1;33m\u001b[0m\u001b[0m\n\u001b[1;32m----> 2\u001b[1;33m \u001b[1;32mdel\u001b[0m \u001b[0ma\u001b[0m\u001b[1;33m\u001b[0m\u001b[0m\n\u001b[0m\u001b[0;32m      3\u001b[0m \u001b[0mprint\u001b[0m\u001b[1;33m(\u001b[0m\u001b[0ma\u001b[0m\u001b[1;33m)\u001b[0m\u001b[1;33m\u001b[0m\u001b[0m\n",
      "\u001b[1;31mNameError\u001b[0m: name 'a' is not defined"
     ]
    }
   ],
   "source": [
    "# 删掉了一个变量，就不能再用了\n",
    "del a\n",
    "print(a)"
   ]
  },
  {
   "cell_type": "code",
   "execution_count": 27,
   "metadata": {},
   "outputs": [
    {
     "name": "stdout",
     "output_type": "stream",
     "text": [
      "[1, 2, 3, 4, 5, 5, 6, 7, 8, 9, 'a', 'B', 'C']\n"
     ]
    }
   ],
   "source": [
    "# 加号连接两个列表\n",
    "a = [1,2,3,4,5,]\n",
    "b = [5,6,7,8,9]\n",
    "d = ['a',\"B\",\"C\"]\n",
    "c = a + b +d\n",
    "print(c)"
   ]
  },
  {
   "cell_type": "code",
   "execution_count": 29,
   "metadata": {},
   "outputs": [
    {
     "name": "stdout",
     "output_type": "stream",
     "text": [
      "[1, 2, 3, 4, 1, 2, 3, 4, 1, 2, 3, 4]\n"
     ]
    }
   ],
   "source": [
    "# 乘号操作列表，重复n次\n",
    "a = [1,2,3,4]\n",
    "b = a * 3\n",
    "print(b)"
   ]
  },
  {
   "cell_type": "code",
   "execution_count": 35,
   "metadata": {},
   "outputs": [
    {
     "name": "stdout",
     "output_type": "stream",
     "text": [
      "False\n",
      "True\n"
     ]
    }
   ],
   "source": [
    "# 成员资格运算\n",
    "a = [1,2,3,4,5,6]\n",
    "b = 8\n",
    "# c是一个布尔值\n",
    "c  = b in a\n",
    "print(c)\n",
    "b = 4\n",
    "print(b in a)"
   ]
  },
  {
   "cell_type": "code",
   "execution_count": 37,
   "metadata": {},
   "outputs": [
    {
     "name": "stdout",
     "output_type": "stream",
     "text": [
      "True\n"
     ]
    }
   ],
   "source": [
    "# not in \n",
    "a = [1,2,3,4,5,6]\n",
    "b = 9\n",
    "print(b not in a)"
   ]
  },
  {
   "cell_type": "markdown",
   "metadata": {},
   "source": [
    "## 列表的遍历\n",
    "- for \n",
    "- while"
   ]
  },
  {
   "cell_type": "code",
   "execution_count": 39,
   "metadata": {},
   "outputs": [
    {
     "name": "stdout",
     "output_type": "stream",
     "text": [
      "1\n",
      "2\n",
      "3\n",
      "4\n",
      "5\n"
     ]
    }
   ],
   "source": [
    "#  for in list\n",
    "a = [1,2,3,4,5]\n",
    "for i in a:\n",
    "    print(i)"
   ]
  },
  {
   "cell_type": "code",
   "execution_count": 42,
   "metadata": {},
   "outputs": [
    {
     "name": "stdout",
     "output_type": "stream",
     "text": [
      "luowen\n",
      "i love mameiting\n"
     ]
    }
   ],
   "source": [
    "b= [\"luowen\",\"i love mameiting\"]\n",
    "for i in b:\n",
    "    print(i)"
   ]
  },
  {
   "cell_type": "code",
   "execution_count": 44,
   "metadata": {},
   "outputs": [
    {
     "name": "stdout",
     "output_type": "stream",
     "text": [
      "1\n",
      "2\n",
      "3\n",
      "4\n",
      "5\n",
      "6\n"
     ]
    }
   ],
   "source": [
    "# while 循环访问list\n",
    "# 一般不用while遍历list\n",
    "a = [1,2,3,4,5,6]\n",
    "length = len(a)\n",
    "index = 0\n",
    "while index < length:\n",
    "    print(a[index])\n",
    "    index+=1"
   ]
  },
  {
   "cell_type": "code",
   "execution_count": 47,
   "metadata": {},
   "outputs": [
    {
     "name": "stdout",
     "output_type": "stream",
     "text": [
      "one -- 1\n",
      "two -- 2\n",
      "three -- 3\n"
     ]
    }
   ],
   "source": [
    "# 双层列表\n",
    "a = [[\"one\", 1], [\"two\", 2], [\"three\", 3]]\n",
    "for k ,v in a:\n",
    "    print(k, \"--\", v)"
   ]
  },
  {
   "cell_type": "code",
   "execution_count": 50,
   "metadata": {},
   "outputs": [
    {
     "name": "stdout",
     "output_type": "stream",
     "text": [
      "one -- 1 --- 我\n",
      "two -- 2 --- 爱\n",
      "three -- 3 --- 美婷子\n"
     ]
    }
   ],
   "source": [
    "# 双层列表\n",
    "a = [[\"one\", 1, \"我\"], [\"two\", 2,\"爱\"], [\"three\", 3, \"美婷子\"]]\n",
    "for k ,v, w in a:\n",
    "    print(k, \"--\", v,\"---\",w)"
   ]
  },
  {
   "cell_type": "markdown",
   "metadata": {},
   "source": [
    "## 列表内涵：list content\n",
    "- 通过简单方法创建列表"
   ]
  },
  {
   "cell_type": "code",
   "execution_count": 53,
   "metadata": {},
   "outputs": [
    {
     "name": "stdout",
     "output_type": "stream",
     "text": [
      "['a', 'b', 'c']\n"
     ]
    }
   ],
   "source": [
    "# for 创建\n",
    "a = ['a', 'b', 'c']\n",
    "# 用list a创建一个list b\n",
    "# 下面代码的含义是，对于所有a中的元素，逐个放入新列表b中\n",
    "b = [i for i in a]\n",
    "print(b)"
   ]
  },
  {
   "cell_type": "code",
   "execution_count": 55,
   "metadata": {},
   "outputs": [
    {
     "name": "stdout",
     "output_type": "stream",
     "text": [
      "[10, 20, 30, 40, 50, 60]\n"
     ]
    }
   ],
   "source": [
    "# 对于a 中所有的元素乘以10，生成一个新的列表\n",
    "a = [1,2,3,4,5,6]\n",
    "# 用list a创建一个list b\n",
    "# 下面代码的含义是，对于所有a中的元素，逐个放入新列表b中\n",
    "b = [i*10 for i in a]\n",
    "print(b)"
   ]
  },
  {
   "cell_type": "code",
   "execution_count": 58,
   "metadata": {},
   "outputs": [
    {
     "name": "stdout",
     "output_type": "stream",
     "text": [
      "[2, 4, 6, 8, 10, 12, 14]\n"
     ]
    }
   ],
   "source": [
    "# 还可以过滤原来的list中的内容并放入新列表中\n",
    "# 比如原有列表a，需要把a中的偶数放到列表b中\n",
    "a = [x for x in range(1,15)]\n",
    "b = [x for x in a if x % 2 == 0]\n",
    "print(b)"
   ]
  },
  {
   "cell_type": "code",
   "execution_count": 66,
   "metadata": {},
   "outputs": [
    {
     "name": "stdout",
     "output_type": "stream",
     "text": [
      "[1, 2, 3]\n",
      "[100, 200, 300]\n",
      "[101, 201, 301, 102, 202, 302, 103, 203, 303]\n",
      "101 201 301 102 202 302 103 203 303 \n",
      "[101, 201, 102, 202, 103, 203]\n"
     ]
    }
   ],
   "source": [
    "# 列表生成式也可以嵌套\n",
    "# 有两个列表a b\n",
    "a = [x for x in range(1, 4)]\n",
    "print(a)\n",
    "b = [x for x in range(100,400) if x % 100 == 0]\n",
    "print(b)\n",
    "# 此时等于两个for循环\n",
    "c = [m+n for m in a for n in b]\n",
    "print(c)\n",
    "# 等价于\n",
    "for i in a:\n",
    "    for v in b:\n",
    "        print(i + v,end= ' ')\n",
    "print()\n",
    "# 也空一用条件表达式\n",
    "c = [m+n for m in a for n in b if m+n < 250]\n",
    "print(c)"
   ]
  },
  {
   "cell_type": "markdown",
   "metadata": {},
   "source": [
    "# 关于列表的常用函数\n"
   ]
  },
  {
   "cell_type": "code",
   "execution_count": 72,
   "metadata": {},
   "outputs": [
    {
     "name": "stdout",
     "output_type": "stream",
     "text": [
      "9\n",
      "[1, 2, 3, 4, 5, 6, 7, 8, 9]\n",
      "9\n",
      "python\n"
     ]
    }
   ],
   "source": [
    "# len:求列表长度\n",
    "a = [x for x in range(1,10)]\n",
    "print(len(a))\n",
    "print(a)\n",
    "# max:求最大值\n",
    "# min:求最小值\n",
    "print(max(a))\n",
    "b = ['man', 'film', 'python']\n",
    "print(max(b))"
   ]
  },
  {
   "cell_type": "code",
   "execution_count": 75,
   "metadata": {},
   "outputs": [
    {
     "name": "stdout",
     "output_type": "stream",
     "text": [
      "['l', ' ', 'l', 'o', 'v', 'e', ' ', 'w', 'a', 'n', 'g', 'x', 'i', 'a', 'o', 'j', 'i', 'n', 'g']\n",
      "[12, 13, 14, 15, 16, 17, 18]\n"
     ]
    }
   ],
   "source": [
    "# list:将其他格式的数据转换成list\n",
    "s = \"l love wangxiaojing\"\n",
    "print(list(s))\n",
    "# 把range产生的内容转换成list\n",
    "print(list(range(12,19)))"
   ]
  }
 ],
 "metadata": {
  "kernelspec": {
   "display_name": "Python 3",
   "language": "python",
   "name": "python3"
  },
  "language_info": {
   "codemirror_mode": {
    "name": "ipython",
    "version": 3
   },
   "file_extension": ".py",
   "mimetype": "text/x-python",
   "name": "python",
   "nbconvert_exporter": "python",
   "pygments_lexer": "ipython3",
   "version": "3.7.0"
  }
 },
 "nbformat": 4,
 "nbformat_minor": 2
}
