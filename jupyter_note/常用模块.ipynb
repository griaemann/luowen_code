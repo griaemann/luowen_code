{
 "cells": [
  {
   "cell_type": "markdown",
   "metadata": {},
   "source": [
    "# 常用模块\n",
    "- calender\n",
    "- time\n",
    "- datatime\n",
    "- os\n",
    "- shutil\n",
    "- zip\n",
    "- math\n",
    "- string\n",
    "- 上诉所有模块使用理论上受应该先导入，string是特例\n",
    "- calender，time，datetime 的区别参考中文意思"
   ]
  },
  {
   "cell_type": "markdown",
   "metadata": {},
   "source": [
    "# calender\n",
    " - 跟日历相关的模块"
   ]
  },
  {
   "cell_type": "code",
   "execution_count": 2,
   "metadata": {},
   "outputs": [],
   "source": [
    "# 使用需要先导入\n",
    "import calendar\n"
   ]
  },
  {
   "cell_type": "code",
   "execution_count": 6,
   "metadata": {},
   "outputs": [
    {
     "name": "stdout",
     "output_type": "stream",
     "text": [
      "<class 'str'>\n"
     ]
    }
   ],
   "source": [
    "# calender 获取一年的日历字符串\n",
    "# 参数\n",
    "# w = 每个日期之间的间隔字符数\n",
    "# l = 每周所占用的行数\n",
    "# c = 每个月之间的间隔字符数\n",
    "cal = calendar.calendar(2017)\n",
    "print(type(cal))\n"
   ]
  },
  {
   "cell_type": "code",
   "execution_count": 8,
   "metadata": {},
   "outputs": [
    {
     "name": "stdout",
     "output_type": "stream",
     "text": [
      "                                 2018\n",
      "\n",
      "      January                  February                  March\n",
      "Mo Tu We Th Fr Sa Su     Mo Tu We Th Fr Sa Su     Mo Tu We Th Fr Sa Su\n",
      " 1  2  3  4  5  6  7               1  2  3  4               1  2  3  4\n",
      " 8  9 10 11 12 13 14      5  6  7  8  9 10 11      5  6  7  8  9 10 11\n",
      "15 16 17 18 19 20 21     12 13 14 15 16 17 18     12 13 14 15 16 17 18\n",
      "22 23 24 25 26 27 28     19 20 21 22 23 24 25     19 20 21 22 23 24 25\n",
      "29 30 31                 26 27 28                 26 27 28 29 30 31\n",
      "\n",
      "       April                     May                      June\n",
      "Mo Tu We Th Fr Sa Su     Mo Tu We Th Fr Sa Su     Mo Tu We Th Fr Sa Su\n",
      "                   1         1  2  3  4  5  6                  1  2  3\n",
      " 2  3  4  5  6  7  8      7  8  9 10 11 12 13      4  5  6  7  8  9 10\n",
      " 9 10 11 12 13 14 15     14 15 16 17 18 19 20     11 12 13 14 15 16 17\n",
      "16 17 18 19 20 21 22     21 22 23 24 25 26 27     18 19 20 21 22 23 24\n",
      "23 24 25 26 27 28 29     28 29 30 31              25 26 27 28 29 30\n",
      "30\n",
      "\n",
      "        July                    August                 September\n",
      "Mo Tu We Th Fr Sa Su     Mo Tu We Th Fr Sa Su     Mo Tu We Th Fr Sa Su\n",
      "                   1            1  2  3  4  5                     1  2\n",
      " 2  3  4  5  6  7  8      6  7  8  9 10 11 12      3  4  5  6  7  8  9\n",
      " 9 10 11 12 13 14 15     13 14 15 16 17 18 19     10 11 12 13 14 15 16\n",
      "16 17 18 19 20 21 22     20 21 22 23 24 25 26     17 18 19 20 21 22 23\n",
      "23 24 25 26 27 28 29     27 28 29 30 31           24 25 26 27 28 29 30\n",
      "30 31\n",
      "\n",
      "      October                  November                 December\n",
      "Mo Tu We Th Fr Sa Su     Mo Tu We Th Fr Sa Su     Mo Tu We Th Fr Sa Su\n",
      " 1  2  3  4  5  6  7               1  2  3  4                     1  2\n",
      " 8  9 10 11 12 13 14      5  6  7  8  9 10 11      3  4  5  6  7  8  9\n",
      "15 16 17 18 19 20 21     12 13 14 15 16 17 18     10 11 12 13 14 15 16\n",
      "22 23 24 25 26 27 28     19 20 21 22 23 24 25     17 18 19 20 21 22 23\n",
      "29 30 31                 26 27 28 29 30           24 25 26 27 28 29 30\n",
      "                                                  31\n",
      "\n"
     ]
    }
   ],
   "source": [
    "cal = calendar.calendar(2018, l=0, c=5)\n",
    "print(cal)"
   ]
  },
  {
   "cell_type": "code",
   "execution_count": 12,
   "metadata": {},
   "outputs": [
    {
     "name": "stdout",
     "output_type": "stream",
     "text": [
      "True\n"
     ]
    },
    {
     "data": {
      "text/plain": [
       "False"
      ]
     },
     "execution_count": 12,
     "metadata": {},
     "output_type": "execute_result"
    }
   ],
   "source": [
    "# isleap:判断某一年是否闰年\n",
    "print(calendar.isleap(2000))\n",
    "calendar.isleap(2019)\n",
    "    "
   ]
  },
  {
   "cell_type": "code",
   "execution_count": 14,
   "metadata": {},
   "outputs": [
    {
     "data": {
      "text/plain": [
       "5"
      ]
     },
     "execution_count": 14,
     "metadata": {},
     "output_type": "execute_result"
    }
   ],
   "source": [
    "# leapdays:获取指定年份之间的闰年的个数\n",
    "calendar.leapdays(1998,2018)"
   ]
  },
  {
   "cell_type": "code",
   "execution_count": 18,
   "metadata": {},
   "outputs": [
    {
     "name": "stdout",
     "output_type": "stream",
     "text": [
      "Help on function leapdays in module calendar:\n",
      "\n",
      "leapdays(y1, y2)\n",
      "    Return number of leap years in range [y1, y2).\n",
      "    Assume y1 <= y2.\n",
      "\n"
     ]
    },
    {
     "data": {
      "text/plain": [
       "-5"
      ]
     },
     "execution_count": 18,
     "metadata": {},
     "output_type": "execute_result"
    }
   ],
   "source": [
    "help(calendar.leapdays)\n",
    "calendar.leapdays(2018, 1998)"
   ]
  },
  {
   "cell_type": "code",
   "execution_count": 28,
   "metadata": {},
   "outputs": [
    {
     "name": "stdout",
     "output_type": "stream",
     "text": [
      "     March 2017\n",
      "Mo Tu We Th Fr Sa Su\n",
      "       1  2  3  4  5\n",
      " 6  7  8  9 10 11 12\n",
      "13 14 15 16 17 18 19\n",
      "20 21 22 23 24 25 26\n",
      "27 28 29 30 31\n",
      "\n"
     ]
    }
   ],
   "source": [
    "# month()获取某个月的日历字符串\n",
    "# 格式： calender.month(年，月)\n",
    "# 回值：月日历的自古城\n",
    "m3 = calendar.month(2017,3)\n",
    "print(m3)"
   ]
  },
  {
   "cell_type": "code",
   "execution_count": 30,
   "metadata": {},
   "outputs": [
    {
     "name": "stdout",
     "output_type": "stream",
     "text": [
      "Help on function monthrange in module calendar:\n",
      "\n",
      "monthrange(year, month)\n",
      "    Return weekday (0-6 ~ Mon-Sun) and number of days (28-31) for\n",
      "    year, month.\n",
      "\n",
      "(2, 31)\n"
     ]
    }
   ],
   "source": [
    "# monthrange（） 获取一个月的周几开始即和天数\n",
    "# 格式：calendar.monthrange(年,月)\n",
    "# 回值：元组(周几开始,总天数)\n",
    "# 注意：周默认 0 -6 表示周一到周天\n",
    "help(calendar.monthrange)\n",
    "t= calendar.monthrange(2017,3)\n",
    "print(t)"
   ]
  },
  {
   "cell_type": "code",
   "execution_count": 44,
   "metadata": {},
   "outputs": [
    {
     "name": "stdout",
     "output_type": "stream",
     "text": [
      "<class 'list'>\n",
      "[[0, 0, 0, 1, 2, 3, 4], [5, 6, 7, 8, 9, 10, 11], [12, 13, 14, 15, 16, 17, 18], [19, 20, 21, 22, 23, 24, 25], [26, 27, 28, 29, 30, 31, 0]]\n",
      "\n",
      "0\t0\t0\t1\t2\t3\t4\t\n",
      "5\t6\t7\t8\t9\t10\t11\t\n",
      "12\t13\t14\t15\t16\t17\t18\t\n",
      "19\t20\t21\t22\t23\t24\t25\t\n",
      "26\t27\t28\t29\t30\t31\t0\t"
     ]
    }
   ],
   "source": [
    "# monthcalendar() 返回一个月每天的矩阵列表\n",
    "# 格式：calendar.monthcalendar(年，月)\n",
    "# 回值：二级列表\n",
    "# 注意：矩阵中没有天数用0表示\n",
    "m = calendar.monthcalendar(2018,3)\n",
    "print(type(m))\n",
    "print(m)\n",
    "for i in m:\n",
    "    print()\n",
    "    for j in i:\n",
    "        print(j, end = \"\\t\")"
   ]
  },
  {
   "cell_type": "code",
   "execution_count": 42,
   "metadata": {},
   "outputs": [
    {
     "name": "stdout",
     "output_type": "stream",
     "text": [
      "Help on method pryear in module calendar:\n",
      "\n",
      "pryear(theyear, w=0, l=0, c=6, m=3) method of calendar.TextCalendar instance\n",
      "    Print a year's calendar.\n",
      "\n"
     ]
    }
   ],
   "source": [
    "# 直接打印日历\n",
    "#calendar.prcal(2018)\n",
    "help(calendar.prcal)"
   ]
  },
  {
   "cell_type": "code",
   "execution_count": 46,
   "metadata": {},
   "outputs": [
    {
     "name": "stdout",
     "output_type": "stream",
     "text": [
      "     March 2019\n",
      "Mo Tu We Th Fr Sa Su\n",
      "             1  2  3\n",
      " 4  5  6  7  8  9 10\n",
      "11 12 13 14 15 16 17\n",
      "18 19 20 21 22 23 24\n",
      "25 26 27 28 29 30 31\n"
     ]
    }
   ],
   "source": [
    "# prmonth()直接打印整个月的日历\n",
    "# 格式：ccalender.prmonth(年，月)\n",
    "#返回值 无\n",
    "calendar.prmonth(2019,3)"
   ]
  },
  {
   "cell_type": "code",
   "execution_count": 48,
   "metadata": {},
   "outputs": [
    {
     "data": {
      "text/plain": [
       "6"
      ]
     },
     "execution_count": 48,
     "metadata": {},
     "output_type": "execute_result"
    }
   ],
   "source": [
    "# weekday() 获取周几\n",
    "# 格式:calendar.weekday(年，月，日)\n",
    "# 返回值:周几对应的数字\n",
    "calendar.weekday(2019, 2, 24)"
   ]
  },
  {
   "cell_type": "markdown",
   "metadata": {},
   "source": [
    "# time 模块\n",
    "### 时间戳\n",
    "    - 一个时间表示，根据不同语言，可以是整数也可以是浮点数\n",
    "    - 是从1970年1月1月0时0份0秒到现在经历的秒数\n",
    "    - 如果表示的时间是1970年以前或者太遥远的未来，可能出现异常\n",
    "    - 32位操作系统能够支持到2038年\n",
    "### UTC时间\n",
    "    - UTC又称为世界协调时间，以英国的格林尼治天文所在地区的时间作为参考的时间也叫世界标准时间\n",
    "    - 中国时间是UTC+8 东8区\n",
    "### 夏令时\n",
    "    - 夏令时就是在夏天的时候将时间调快一小时，本意是督促大家早睡早起节省蜡烛！ 每天变成25个小时，本质没变还是24小时\n",
    "### 时间元组\n",
    "    - 一个包含时间内容的普通元组\n",
    "\n",
    "\n",
    "        索引      内容    属性            值\n",
    "\n",
    "        0       年       tm_year     2015\n",
    "        1       月       tm_mon      1～12\n",
    "        2       日       tm_mday     1～31\n",
    "        3       时       tm_hour     0～23\n",
    "        4       分       tm_min      0～59\n",
    "        5       秒       tm_sec      0～61  60表示闰秒  61保留值\n",
    "        6       周几     tm_wday     0～6\n",
    "        7       第几天    tm_yday     1～366\n",
    "        8       夏令时    tm_isdst    0，1，-1（表示夏令时）"
   ]
  },
  {
   "cell_type": "code",
   "execution_count": 49,
   "metadata": {},
   "outputs": [],
   "source": [
    "# 需要导入\n",
    "import time\n"
   ]
  },
  {
   "cell_type": "code",
   "execution_count": 55,
   "metadata": {},
   "outputs": [
    {
     "name": "stdout",
     "output_type": "stream",
     "text": [
      "-28800\n",
      "-32400\n",
      "0\n"
     ]
    }
   ],
   "source": [
    "# 时间模块的属性\n",
    "# timezone:当前时区和UTC时间相差的秒数，在没有夏令时的情况下的间隔,东八区是-28800\n",
    "# altzone  获取当前时区与UTC时间相差的秒数，在有夏令时的情况下，\n",
    "# daylight 测当前是否是夏令时时间状态, 0 表示是\n",
    "print(time.timezone)\n",
    "print(time.altzone)\n",
    "print(time.daylight)"
   ]
  },
  {
   "cell_type": "code",
   "execution_count": 57,
   "metadata": {},
   "outputs": [
    {
     "data": {
      "text/plain": [
       "1550995915.6503792"
      ]
     },
     "execution_count": 57,
     "metadata": {},
     "output_type": "execute_result"
    }
   ],
   "source": [
    "# 得到时间戳\n",
    "time.time()"
   ]
  },
  {
   "cell_type": "code",
   "execution_count": 63,
   "metadata": {},
   "outputs": [
    {
     "name": "stdout",
     "output_type": "stream",
     "text": [
      "16\n",
      "<class 'time.struct_time'>\n"
     ]
    }
   ],
   "source": [
    "# localtime 得到当前时间的时间结构\n",
    "# 可以通过点号操作符的到相应的元素的内容\n",
    "t = time.localtime()\n",
    "print(t.tm_hour)\n",
    "type(t)\n",
    "print(type(t))"
   ]
  },
  {
   "cell_type": "code",
   "execution_count": 66,
   "metadata": {},
   "outputs": [
    {
     "name": "stdout",
     "output_type": "stream",
     "text": [
      "<class 'str'>\n",
      "Sun Feb 24 16:17:36 2019\n"
     ]
    }
   ],
   "source": [
    "#asctime() 返回元组的正常字符串化之后的时间格式 \n",
    "# 格式：time.asctime（时间元组）\n",
    "# 返回值:字符串 Tue Jun  6 11:11:00 2017\n",
    "t = time.localtime()\n",
    "tt = time.asctime(t)\n",
    "print(type(tt))\n",
    "print(tt)"
   ]
  },
  {
   "cell_type": "code",
   "execution_count": 69,
   "metadata": {},
   "outputs": [
    {
     "name": "stdout",
     "output_type": "stream",
     "text": [
      "<class 'str'>\n",
      "Sun Feb 24 16:19:16 2019\n"
     ]
    }
   ],
   "source": [
    "# ctime 获取字符串话的当前时间\n",
    "t = time.ctime()\n",
    "print(type(t))\n",
    "print(t)"
   ]
  },
  {
   "cell_type": "code",
   "execution_count": 71,
   "metadata": {},
   "outputs": [
    {
     "name": "stdout",
     "output_type": "stream",
     "text": [
      "<class 'float'>\n",
      "1550996489.0\n"
     ]
    }
   ],
   "source": [
    "# mktime() 使用时间元组获取对应的时间戳\n",
    "# 格式：time.mktime（时间元组）\n",
    "# 返回值：浮点数时间戳\n",
    "lt = time.localtime()\n",
    "ts = time.mktime(lt)\n",
    "print(type(ts))\n",
    "print(ts)"
   ]
  },
  {
   "cell_type": "code",
   "execution_count": 72,
   "metadata": {},
   "outputs": [],
   "source": [
    "# clock : 获取CPU时间 3.0-3.3版本直接使用 3.6调用有问题\n"
   ]
  },
  {
   "cell_type": "code",
   "execution_count": 74,
   "metadata": {},
   "outputs": [
    {
     "name": "stdout",
     "output_type": "stream",
     "text": [
      "0\n",
      "1\n",
      "2\n",
      "3\n",
      "4\n",
      "5\n",
      "6\n",
      "7\n",
      "8\n",
      "9\n"
     ]
    }
   ],
   "source": [
    "# sleep:使程序进入睡眠，n秒后继续\n",
    "for i in range(10):\n",
    "    print(i)\n",
    "    time.sleep(1)"
   ]
  },
  {
   "cell_type": "code",
   "execution_count": 76,
   "metadata": {},
   "outputs": [
    {
     "name": "stderr",
     "output_type": "stream",
     "text": [
      "C:\\Anaconda\\lib\\site-packages\\ipykernel_launcher.py:3: DeprecationWarning: time.clock has been deprecated in Python 3.3 and will be removed from Python 3.8: use time.perf_counter or time.process_time instead\n",
      "  This is separate from the ipykernel package so we can avoid doing imports until\n"
     ]
    },
    {
     "name": "stdout",
     "output_type": "stream",
     "text": [
      "3.0014881730003253\n"
     ]
    },
    {
     "name": "stderr",
     "output_type": "stream",
     "text": [
      "C:\\Anaconda\\lib\\site-packages\\ipykernel_launcher.py:6: DeprecationWarning: time.clock has been deprecated in Python 3.3 and will be removed from Python 3.8: use time.perf_counter or time.process_time instead\n",
      "  \n"
     ]
    }
   ],
   "source": [
    "def p():\n",
    "    time.sleep(2.5)\n",
    "t0 = time.clock()\n",
    "# p()\n",
    "time.sleep(3)\n",
    "t1 = time.clock()\n",
    "print(t1 - t0)"
   ]
  },
  {
   "cell_type": "markdown",
   "metadata": {},
   "source": [
    "# strftime 将时间元祖转化为自定义的字符串格式\n",
    "        格式  含义  备注\n",
    "        %a  本地（locale）简化星期名称    \n",
    "        %A  本地完整星期名称    \n",
    "        %b  本地简化月份名称    \n",
    "        %B  本地完整月份名称    \n",
    "        %c  本地相应的日期和时间表示    \n",
    "        %d  一个月中的第几天（01 - 31）   \n",
    "        %H  一天中的第几个小时（24 小时制，00 - 23）   \n",
    "        %I  一天中的第几个小时（12 小时制，01 - 12）   \n",
    "        %j  一年中的第几天（001 - 366）  \n",
    "        %m  月份（01 - 12） \n",
    "        %M  分钟数（00 - 59）    \n",
    "        %p  本地 am 或者 pm 的相应符    注1\n",
    "        %S  秒（01 - 61）  注2\n",
    "        %U  一年中的星期数（00 - 53 星期天是一个星期的开始）第一个星期天之前的所有天数都放在第 0 周   注3\n",
    "        %w  一个星期中的第几天（0 - 6，0 是星期天） 注3\n",
    "        %W  和 %U 基本相同，不同的是 %W 以星期一为一个星期的开始  \n",
    "        %x  本地相应日期  \n",
    "        %X  本地相应时间  \n",
    "        %y  去掉世纪的年份（00 - 99）    \n",
    "        %Y  完整的年份   \n",
    "        %z  用 +HHMM 或 -HHMM 表示距离格林威治的时区偏移（H 代表十进制的小时数，M 代表十进制的分钟数）      \n",
    "        %%  %号本身"
   ]
  },
  {
   "cell_type": "code",
   "execution_count": 97,
   "metadata": {},
   "outputs": [
    {
     "name": "stdout",
     "output_type": "stream",
     "text": [
      "Help on built-in function strftime in module time:\n",
      "\n",
      "strftime(...)\n",
      "    strftime(format[, tuple]) -> string\n",
      "    \n",
      "    Convert a time tuple to a string according to a format specification.\n",
      "    See the library reference manual for formatting codes. When the time tuple\n",
      "    is not present, current time as returned by localtime() is used.\n",
      "    \n",
      "    Commonly used format codes:\n",
      "    \n",
      "    %Y  Year with century as a decimal number.\n",
      "    %m  Month as a decimal number [01,12].\n",
      "    %d  Day of the month as a decimal number [01,31].\n",
      "    %H  Hour (24-hour clock) as a decimal number [00,23].\n",
      "    %M  Minute as a decimal number [00,59].\n",
      "    %S  Second as a decimal number [00,61].\n",
      "    %z  Time zone offset from UTC.\n",
      "    %a  Locale's abbreviated weekday name.\n",
      "    %A  Locale's full weekday name.\n",
      "    %b  Locale's abbreviated month name.\n",
      "    %B  Locale's full month name.\n",
      "    %c  Locale's appropriate date and time representation.\n",
      "    %I  Hour (12-hour clock) as a decimal number [01,12].\n",
      "    %p  Locale's equivalent of either AM or PM.\n",
      "    \n",
      "    Other codes may be available on your platform.  See documentation for\n",
      "    the C library strftime function.\n",
      "\n",
      "2019 02 24 16:51\n"
     ]
    }
   ],
   "source": [
    "# 把时间表示成 2019年2月24日 16.39\n",
    "t = time.localtime()\n",
    "help(time.strftime)\n",
    "ft = time.strftime(\"%Y %m %d %H:%M\")\n",
    "print(ft)\n"
   ]
  },
  {
   "cell_type": "markdown",
   "metadata": {},
   "source": [
    "# datetime 模块\n",
    "- datetime提供日期和时间的运算和表示"
   ]
  },
  {
   "cell_type": "code",
   "execution_count": 98,
   "metadata": {},
   "outputs": [],
   "source": [
    "import datetime"
   ]
  },
  {
   "cell_type": "code",
   "execution_count": 102,
   "metadata": {},
   "outputs": [
    {
     "name": "stdout",
     "output_type": "stream",
     "text": [
      "2019-02-24\n",
      "24\n",
      "2019\n",
      "2\n"
     ]
    }
   ],
   "source": [
    "# datetime常见的属性\n",
    "# datetime.date 一个理想和的日期 提供year month day 属性\n",
    "dt = datetime.date(2019, 2, 24)\n",
    "print(dt)\n",
    "print(dt.day)\n",
    "print(dt.year)\n",
    "print(dt.month)\n",
    "\n",
    "# datetime.time:提供一个理想和的时间 具有hour minute sec microse等内置属性\n",
    "# datetime.datetime:提供日期跟时间组合\n",
    "# datetime。timedelte:提供一个时间差，时间长度"
   ]
  },
  {
   "cell_type": "code",
   "execution_count": 107,
   "metadata": {},
   "outputs": [
    {
     "name": "stdout",
     "output_type": "stream",
     "text": [
      "2019-02-24 17:04:28.205955\n",
      "2019-02-24 17:04:28.205955\n",
      "2019-02-24 17:04:28.206955\n"
     ]
    }
   ],
   "source": [
    "# datetime.datetime\n",
    "from datetime import datetime\n",
    "# 常用的类方法\n",
    "# today\n",
    "# now\n",
    "# utcnow\n",
    "# fromtimestamp:从时间戳返回本地时间\n",
    "dt = datetime(2019, 2, 24)\n",
    "print(dt.today())\n",
    "print(dt.now())\n",
    "print(dt.fromtimestamp(time.time()))"
   ]
  },
  {
   "cell_type": "code",
   "execution_count": 111,
   "metadata": {},
   "outputs": [
    {
     "name": "stdout",
     "output_type": "stream",
     "text": [
      "2019-02-24 17:10:56.218539\n",
      "2019-02-24 17:10:56\n",
      "2019-02-24 18:10:56\n"
     ]
    }
   ],
   "source": [
    "# datetime.timedelte\n",
    "# 表示一个时间间隔\n",
    "from datetime import datetime,timedelta\n",
    "t1 = datetime.now()\n",
    "print(t1)\n",
    "print(t1.strftime(\"%Y-%m-%d %H:%M:%S\"))\n",
    "# td 表示一小时的时间长度\n",
    "td = timedelta(hours = 1)\n",
    "# 当前的时间加上时间间隔后，把得到的一个小时后的时间格式化输出\n",
    "print((t1+td).strftime(\"%Y-%m-%d %H:%M:%S\"))"
   ]
  },
  {
   "cell_type": "code",
   "execution_count": 114,
   "metadata": {},
   "outputs": [
    {
     "name": "stdout",
     "output_type": "stream",
     "text": [
      "3.6001923084259033\n"
     ]
    }
   ],
   "source": [
    "# timeit - 时间测量工具\n",
    "# 测量程序运行时间间隔实验\n",
    "def p():\n",
    "    time.sleep(3.6)\n",
    "t1 = time.time()\n",
    "p()\n",
    "print(time.time() - t1)"
   ]
  },
  {
   "cell_type": "code",
   "execution_count": 122,
   "metadata": {},
   "outputs": [
    {
     "name": "stdout",
     "output_type": "stream",
     "text": [
      "4.324170032000438\n",
      "8.773669649000112\n"
     ]
    }
   ],
   "source": [
    "import timeit\n",
    "# 生成列表两种方法比较\n",
    "# 如果单纯比较生成一个列表的时间，可能很难实现\n",
    "c = '''sum = []\n",
    "for i in range(1000):\n",
    "    sum.append(i)\n",
    "'''\n",
    "# 利用timeit代用代码执行100000 次，查看运行时间\n",
    "t1 = timeit.timeit(stmt='[i for i in range(1000)]',number=100000)\n",
    "# 测量代码c执行100000次运行结果\n",
    "t2 = timeit.timeit(stmt=c,number=100000)\n",
    "print(t1)\n",
    "print(t2)"
   ]
  },
  {
   "cell_type": "code",
   "execution_count": 124,
   "metadata": {},
   "outputs": [
    {
     "name": "stdout",
     "output_type": "stream",
     "text": [
      "Help on function timeit in module timeit:\n",
      "\n",
      "timeit(stmt='pass', setup='pass', timer=<built-in function perf_counter>, number=1000000, globals=None)\n",
      "    Convenience function to create Timer object and call timeit method.\n",
      "\n"
     ]
    }
   ],
   "source": [
    "help(timeit.timeit)"
   ]
  },
  {
   "cell_type": "code",
   "execution_count": 127,
   "metadata": {},
   "outputs": [
    {
     "name": "stdout",
     "output_type": "stream",
     "text": [
      "repeat for 0\n",
      "repeat for 1\n",
      "repeat for 2\n",
      "repeat for 0\n",
      "repeat for 1\n",
      "repeat for 2\n",
      "repeat for 0\n",
      "repeat for 1\n",
      "repeat for 2\n",
      "repeat for 0\n",
      "repeat for 1\n",
      "repeat for 2\n",
      "repeat for 0\n",
      "repeat for 1\n",
      "repeat for 2\n",
      "repeat for 0\n",
      "repeat for 1\n",
      "repeat for 2\n",
      "repeat for 0\n",
      "repeat for 1\n",
      "repeat for 2\n",
      "repeat for 0\n",
      "repeat for 1\n",
      "repeat for 2\n",
      "repeat for 0\n",
      "repeat for 1\n",
      "repeat for 2\n",
      "repeat for 0\n",
      "repeat for 1\n",
      "repeat for 2\n",
      "0.001959794000867987\n"
     ]
    }
   ],
   "source": [
    "# tiemit 可以执行一个函数，来测量一个函数的执行时间\n",
    "def doIt():\n",
    "    num = 3\n",
    "    for i in range(num):\n",
    "        print(\"repeat for {0}\".format(i))\n",
    "# 执行函数，重复10次\n",
    "t = timeit.timeit(stmt=doIt,number=10)\n",
    "print(t)"
   ]
  },
  {
   "cell_type": "code",
   "execution_count": 130,
   "metadata": {},
   "outputs": [
    {
     "name": "stdout",
     "output_type": "stream",
     "text": [
      "repeat for 0\n",
      "repeat for 1\n",
      "repeat for 2\n",
      "repeat for 0\n",
      "repeat for 1\n",
      "repeat for 2\n",
      "repeat for 0\n",
      "repeat for 1\n",
      "repeat for 2\n",
      "repeat for 0\n",
      "repeat for 1\n",
      "repeat for 2\n",
      "repeat for 0\n",
      "repeat for 1\n",
      "repeat for 2\n",
      "repeat for 0\n",
      "repeat for 1\n",
      "repeat for 2\n",
      "repeat for 0\n",
      "repeat for 1\n",
      "repeat for 2\n",
      "repeat for 0\n",
      "repeat for 1\n",
      "repeat for 2\n",
      "repeat for 0\n",
      "repeat for 1\n",
      "repeat for 2\n",
      "repeat for 0\n",
      "repeat for 1\n",
      "repeat for 2\n",
      "0.001041477000399027\n"
     ]
    }
   ],
   "source": [
    "s = '''\n",
    "def doIt(num):\n",
    "    for i in range(num):\n",
    "        print(\"repeat for {0}\".format(i))\n",
    "'''\n",
    "# 执行doIt(num)\n",
    "# setup负责把环境变量准备好\n",
    "# 实际相当于给timeit 创造了一个小环境\n",
    "# 在创作的小环境中，代码执行顺序是\n",
    "# \n",
    "'''\n",
    "def doIt(num):\n",
    "    ....\n",
    "    num = 3\n",
    "doIt(num)\n",
    "'''\n",
    "t = timeit.timeit(\"doIt(num)\",setup=s+\"num=3\",number=10)\n",
    "print(t)"
   ]
  },
  {
   "cell_type": "markdown",
   "metadata": {},
   "source": [
    "# datetime.datetime 模块\n",
    "- 提供比较好用的时间而已\n",
    "- 类定义\n",
    "\n",
    "         class datetime.datetime(year, month, day[, hour\n",
    "              [, minute\n",
    "              [, second\n",
    "              [, microsecond\n",
    "              [, tzinfo]]]]])\n",
    "        # The year, month and day arguments are required.\n",
    "        MINYEAR <= year <= MAXYEAR\n",
    "        1 <= month <= 12\n",
    "        1 <= day <= n\n",
    "        0 <= hour < 24\n",
    "        0 <= minute < 60\n",
    "        0 <= second < 60\n",
    "        0 <= microsecond < 10**\n",
    "- 类方法\n",
    "`\n",
    "datetime.today(): 返回当前本地datetime.随着 tzinfo None. datetime.fromtimestamp(time.time()). datetime.now([tz]): 返回当前本地日期和时间, 如果可选参数tz为None或没有详细说明,这个方法会像today(). datetime.utcnow(): 返回当前的UTC日期和时间, 如果tzinfo None ,那么与now()类似. datetime.fromtimestamp(timestamp[, tz]): 根据时间戳返回本地的日期和时间.tz指定时区. datetime.utcfromtimestamp(timestamp): 根据时间戳返回 UTC datetime. datetime.fromordinal(ordinal): 根据Gregorian ordinal 返回datetime. datetime.combine(date, time): 根据date和time返回一个新的datetime. datetime.strptime(date_string, format): 根据date_string和format返回一个datetime.\n",
    "\n",
    "实例方法\n",
    "\n",
    "datetime.date(): 返回相同年月日的date对象. datetime.time(): 返回相同时分秒微秒的time对象. datetime.replace(kw): kw in [year, month, day, hour, minute, second, microsecond, tzinfo], 与date类似. 类属性\n",
    "\n",
    "datetime.min: datetime(MINYEAR, 1, 1). datetime.max: datetime(MAXYEAR, 12, 31, 23, 59, 59, 999999).\n",
    "\n",
    "实例属性(read-only)\n",
    "\n",
    "datetime.year: 1 至 9999 datetime.month: 1 至 12 datetime.day: 1 至 n datetime.hour: In range(24). 0 至 23 datetime.minute: In range(60). datetime.second: In range(60). datetime.microsecond: In range(1000000). "
   ]
  },
  {
   "cell_type": "code",
   "execution_count": 132,
   "metadata": {},
   "outputs": [
    {
     "name": "stdout",
     "output_type": "stream",
     "text": [
      "2019-02-24 19:42:01.245905\n"
     ]
    }
   ],
   "source": [
    "from datetime import datetime as dt\n",
    "print(dt.now())"
   ]
  },
  {
   "cell_type": "markdown",
   "metadata": {},
   "source": [
    "# OS - 操作系统相关\n",
    "- 跟操作系统相关，主要是文件操作\n",
    "- 与操作系统相关，主要包含在三个模块里\n",
    "    - os,操作系统目录相关\n",
    "    - os.path,系统路径相关\n",
    "    - shutil,高级文件操作，目录树的操作，文件赋值，删除 移动\n",
    "- 路径\n",
    "    - 绝对路径：总是从根目录上开始\n",
    "    - 相对路径：基本以当前环境为开始的一个相对的吃顿饭\n",
    "    \n",
    "# os 模块\n"
   ]
  },
  {
   "cell_type": "code",
   "execution_count": 133,
   "metadata": {},
   "outputs": [],
   "source": [
    "import os"
   ]
  },
  {
   "cell_type": "code",
   "execution_count": 136,
   "metadata": {},
   "outputs": [
    {
     "name": "stdout",
     "output_type": "stream",
     "text": [
      "C:\\Users\\Administrator\\python\n"
     ]
    }
   ],
   "source": [
    "# getcwd() 获取当前的工作目录\n",
    "# 格式：os.getcwd()\n",
    "# 返回值：当前工作目录的字符串\n",
    "# 当前工作目录就是程序在进行文件相关操作，默认查找文件的目录\n",
    "mydir = os.getcwd()\n",
    "print(mydir)"
   ]
  },
  {
   "cell_type": "code",
   "execution_count": 139,
   "metadata": {},
   "outputs": [
    {
     "name": "stdout",
     "output_type": "stream",
     "text": [
      "C:\\Users\\Administrator\n"
     ]
    }
   ],
   "source": [
    "# chdir() 改变当前的工作目录\n",
    "# change directory\n",
    "#  格式：os.chdir（路径）\n",
    "#  返回值：无\n",
    "os.chdir('/Users/Administrator')\n",
    "mydir = os.getcwd()\n",
    "print(mydir)\n"
   ]
  },
  {
   "cell_type": "code",
   "execution_count": 142,
   "metadata": {},
   "outputs": [
    {
     "name": "stdout",
     "output_type": "stream",
     "text": [
      "['.anaconda', '.android', '.conda', '.condarc', '.gitconfig', '.idlerc', '.ipynb_checkpoints', '.ipython', '.jupyter', '.PyCharmCE2018.3', 'AppData', 'Application Data', 'Contacts', 'Cookies', 'Desktop', 'Documents', 'Links', 'Local Settings', 'Music', 'My Documents', 'NetHood', 'NTUSER.DAT', 'ntuser.dat.LOG1', 'ntuser.dat.LOG2', 'NTUSER.DAT{a8d39039-6bba-11e8-ab86-844bf5db6c8c}.TM.blf', 'NTUSER.DAT{a8d39039-6bba-11e8-ab86-844bf5db6c8c}.TMContainer00000000000000000001.regtrans-ms', 'NTUSER.DAT{a8d39039-6bba-11e8-ab86-844bf5db6c8c}.TMContainer00000000000000000002.regtrans-ms', 'ntuser.ini', 'ntuser.pol', 'PrintHood', 'PycharmProjects', 'python', 'Recent', 'Saved Games', 'Searches', 'SendTo', 'Templates', 'Videos', '「开始」菜单']\n"
     ]
    }
   ],
   "source": [
    "# listdir() 获取一个目录中所有子目录和文件的名称列表\n",
    "#  格式:os.listdir(路径)\n",
    "#  返回值：所有子目录和文件名称的列表\n",
    "ld = os.listdir()\n",
    "print(ld)"
   ]
  },
  {
   "cell_type": "code",
   "execution_count": 145,
   "metadata": {},
   "outputs": [
    {
     "name": "stdout",
     "output_type": "stream",
     "text": [
      "None\n"
     ]
    }
   ],
   "source": [
    "# makedirs（） 递归创建文件夹\n",
    "# 格式：os.makedirs(递归路径)\n",
    "# 返回值：无\n",
    "#  递归路径：多个文件夹层层包含的路径就是递归路径 例如 a/b/c...\n",
    "#help(os.makedirs)\n",
    "# 不给出绝对路径，默认在当前下创建\n",
    "rst = os.makedirs(\"dana\")\n",
    "print(rst)"
   ]
  },
  {
   "cell_type": "code",
   "execution_count": 149,
   "metadata": {},
   "outputs": [
    {
     "name": "stdout",
     "output_type": "stream",
     "text": [
      "0\n",
      "1\n"
     ]
    }
   ],
   "source": [
    "# system() 运行系统shell命令\n",
    "# 格式：os.system(系统命令)\n",
    "#  返回值：打开一个shell或者终端界面\n",
    "# 一般推荐使用subprocess代替\n",
    "#help(os.system)\n",
    "# dir表示列出当前路径下的文件和文件夹 Windows命令\n",
    "rst = os.system('dir')\n",
    "print(rst) #结果是0 表示执行成功\n",
    "\n",
    "# 在当前目录下创建一个dana.haha的文件\n",
    "rst = os.system('touch dana.hahah')\n",
    "# 1便是执行失败\n",
    "print(rst)"
   ]
  },
  {
   "cell_type": "code",
   "execution_count": 151,
   "metadata": {},
   "outputs": [
    {
     "name": "stdout",
     "output_type": "stream",
     "text": [
      "C:\\Anaconda;C:\\Anaconda\\Library\\mingw-w64\\bin;C:\\Anaconda\\Library\\usr\\bin;C:\\Anaconda\\Library\\bin;C:\\Anaconda\\Scripts;C:\\Program Files (x86)\\AMD APP\\bin\\x86_64;C:\\Program Files (x86)\\AMD APP\\bin\\x86;C:\\Windows\\system32;C:\\Windows;C:\\Windows\\System32\\Wbem;C:\\Windows\\System32\\WindowsPowerShell\\v1.0\\;C:\\Program Files (x86)\\ATI Technologies\\ATI.ACE\\Core-Static;C:\\Python27\\Scripts;C:\\Python27;C:\\Anaconda;C:\\Anaconda\\Scripts;C:\\Anaconda\\Library\\bin;C:\\Anaconda\\Library\\mingw-w64\\bin;C:\\Program Files\\Git\\cmd;C:\\Users\\Administrator\\AppData\\Local\\Programs\\Python\\Python36\\Scripts\\;C:\\Users\\Administrator\\AppData\\Local\\Programs\\Python\\Python36\\;C:\\Users\\Administrator\\AppData\\Local\\Microsoft\\WindowsApps;;C:\\Program Files\\JetBrains\\PyCharm Community Edition 2018.3.4\\bin;\n"
     ]
    }
   ],
   "source": [
    "#getenv() 获取指定的系统环境变量值\n",
    "# 相应的还有putenv：添加环境变量\n",
    "#  格式：os.getenv('环境变量名')\n",
    "#  返回值：指定环境变量名对应的值\n",
    "rst = os.getenv(\"PATH\")\n",
    "print(rst)"
   ]
  },
  {
   "cell_type": "code",
   "execution_count": 152,
   "metadata": {},
   "outputs": [],
   "source": [
    "# exit() 退出当前程序\n",
    "#  格式：exit()\n",
    "#  返回值:无\n"
   ]
  },
  {
   "cell_type": "markdown",
   "metadata": {},
   "source": [
    "# 值部分\n",
    "- os.curdir: curretn dir,当前目录\n",
    "- os.pardir: parent dir， 父亲目录\n",
    "- os.sep: 当前系统的路径分隔符\n",
    "    - windows: \"\\\\\"\n",
    "    - linux: \"/\"\n",
    "- os.linesep: 当前系统的换行符号\n",
    "    - windows: \"\\r\\n\"\n",
    "    - unix,linux,macos: \"\\n\"\n",
    "- os.name： 当前系统名称\n",
    "    - windows： nt\n",
    "    - mac，unix，linux： posix"
   ]
  },
  {
   "cell_type": "code",
   "execution_count": 154,
   "metadata": {},
   "outputs": [
    {
     "name": "stdout",
     "output_type": "stream",
     "text": [
      ".\n",
      "..\n"
     ]
    }
   ],
   "source": [
    "print(os.curdir)\n",
    "print(os.pardir)"
   ]
  },
  {
   "cell_type": "code",
   "execution_count": 157,
   "metadata": {},
   "outputs": [
    {
     "name": "stdout",
     "output_type": "stream",
     "text": [
      "\\\n",
      "\r\n",
      "\n"
     ]
    }
   ],
   "source": [
    "print(os.sep)\n",
    "print(os.linesep)"
   ]
  },
  {
   "cell_type": "code",
   "execution_count": 158,
   "metadata": {},
   "outputs": [],
   "source": [
    "# 在路径相关操作中，不要手动拼写地址，因为手动拼写的地址不具有移植性\n"
   ]
  },
  {
   "cell_type": "code",
   "execution_count": 160,
   "metadata": {},
   "outputs": [
    {
     "name": "stdout",
     "output_type": "stream",
     "text": [
      "nt\n"
     ]
    }
   ],
   "source": [
    "# Windows操作系统的名称\n",
    "print(os.name)\n"
   ]
  },
  {
   "cell_type": "markdown",
   "metadata": {},
   "source": [
    "# os.path模块，跟路径相关的模块"
   ]
  },
  {
   "cell_type": "code",
   "execution_count": 162,
   "metadata": {},
   "outputs": [],
   "source": [
    "import os.path as op"
   ]
  },
  {
   "cell_type": "code",
   "execution_count": 165,
   "metadata": {},
   "outputs": [
    {
     "name": "stdout",
     "output_type": "stream",
     "text": [
      "C:\\Users\\Administrator\n"
     ]
    }
   ],
   "source": [
    "# abspath() 将路径转化为绝对路径\n",
    "# abselute 绝对\n",
    "#  格式:os.path.abspath('路径')\n",
    "#  返回值：路径的绝对路径形式\n",
    "\n",
    "# linux中\n",
    "# . 点号，代表当前目录\n",
    "# .. 双点，代表父目录\n",
    "# help(os.path.abspath)\n",
    "absp = op.abspath('.')\n",
    "print(absp)"
   ]
  },
  {
   "cell_type": "code",
   "execution_count": 169,
   "metadata": {},
   "outputs": [
    {
     "name": "stdout",
     "output_type": "stream",
     "text": [
      "02-python概述.ipynb\n"
     ]
    }
   ],
   "source": [
    "# basename() 获取路径中的文件名部分\n",
    "#  格式:os.path.basename(路径)\n",
    "#  返回值：文件名字符串\n",
    "bn = op.basename('/Users/Administrator/python/02-python概述.ipynb')\n",
    "print(bn)"
   ]
  },
  {
   "cell_type": "code",
   "execution_count": 173,
   "metadata": {},
   "outputs": [
    {
     "name": "stdout",
     "output_type": "stream",
     "text": [
      "Help on function join in module ntpath:\n",
      "\n",
      "join(path, *paths)\n",
      "    # Join two (or more) paths.\n",
      "\n",
      "/Users/Administrator/python/02-python概述.ipynb\n"
     ]
    }
   ],
   "source": [
    "# join() 将多个路径拼合成一个路径\n",
    "#  格式：os.path.join(路径1，路径2....)\n",
    "#  返回值：组合之后的新路径字符串\n",
    "help(op.join)\n",
    "\n",
    "bd = '/Users/Administrator/'\n",
    "fn = 'python/02-python概述.ipynb'\n",
    "p = op.join(bd,fn)\n",
    "print(p)"
   ]
  },
  {
   "cell_type": "code",
   "execution_count": 178,
   "metadata": {},
   "outputs": [
    {
     "name": "stdout",
     "output_type": "stream",
     "text": [
      "('/Users/Administrator/python', '02-python概述.ipynb')\n",
      "/Users/Administrator/python 02-python概述.ipynb\n"
     ]
    }
   ],
   "source": [
    "# split() 将路径切割为文件夹部分和当前文件部分\n",
    "#  格式:os.path.split（路径）\n",
    "#  返回值：路径和文件名组成的元组\n",
    "# help(op.split)\n",
    "t = op.split('/Users/Administrator/python/02-python概述.ipynb')\n",
    "print(t)\n",
    "d,p = op.split('/Users/Administrator/python/02-python概述.ipynb')\n",
    "print(d,p)"
   ]
  },
  {
   "cell_type": "code",
   "execution_count": 183,
   "metadata": {},
   "outputs": [
    {
     "name": "stdout",
     "output_type": "stream",
     "text": [
      "True\n"
     ]
    }
   ],
   "source": [
    "# isdir（） 检测是否是目录\n",
    "#  格式：os.path.isdir(路径)\n",
    "#  返回值：布尔值\n",
    "rst = op.isdir(\"/Users\")\n",
    "print(rst)"
   ]
  },
  {
   "cell_type": "code",
   "execution_count": 185,
   "metadata": {},
   "outputs": [
    {
     "data": {
      "text/plain": [
       "True"
      ]
     },
     "execution_count": 185,
     "metadata": {},
     "output_type": "execute_result"
    }
   ],
   "source": [
    "\n",
    "# exists() 检测文件或者目录是否存在\n",
    "#  格式：os.path.exists(路径)\n",
    "#  返回值:布尔值\n",
    "e = op.exists('/Users/')\n",
    "e"
   ]
  },
  {
   "cell_type": "markdown",
   "metadata": {},
   "source": [
    "# shutil 模块\n"
   ]
  },
  {
   "cell_type": "code",
   "execution_count": 186,
   "metadata": {},
   "outputs": [],
   "source": [
    "import shutil"
   ]
  },
  {
   "cell_type": "code",
   "execution_count": 189,
   "metadata": {},
   "outputs": [],
   "source": [
    "# copy() 复制文件\n",
    "#  格式：shutil.copy(来源路径，目标路径)\n",
    "#  返回值：返回目标路径\n",
    "# 拷贝的同时，可以给文件重命名\n",
    "# rst = shutil.copy(\"\",\"\")\n",
    "# print(rst)"
   ]
  },
  {
   "cell_type": "code",
   "execution_count": 190,
   "metadata": {},
   "outputs": [],
   "source": [
    "# copy2() 复制文件，保留元数据（文件信息）\n",
    "#  格式：shutil.copy2(来源路径，目标路径)\n",
    "#  返回值：返回目标路径\n",
    "#  注意：copy和copy2的唯一区别在于copy2复制文件时尽量保留元数据"
   ]
  },
  {
   "cell_type": "code",
   "execution_count": 193,
   "metadata": {},
   "outputs": [],
   "source": [
    "# copyfile()将一个文件中的内容复制到另外一个文件当中\n",
    "#  格式：shutil.copyfile（'源路径','目标路径')\n",
    "#  返回值：无\n",
    "# help(shutil.copyfile)\n",
    "# rst = shutil.copyfile('dana.haha','haha.haha')\n",
    "# print(rst)"
   ]
  },
  {
   "cell_type": "code",
   "execution_count": 194,
   "metadata": {},
   "outputs": [],
   "source": [
    "# move() 移动文件/文件夹\n",
    "#  格式：shutil.move(源路径，目标路径)\n",
    "#  返回值：目标路径！\n",
    "# rst  = shutil.move(\"/home/tlxy/dana.haha\", \"/home/tlxy/dana\")\n",
    "# print(rst)"
   ]
  },
  {
   "cell_type": "markdown",
   "metadata": {},
   "source": [
    "# 归档和压缩\n",
    "- 归档：把多个文件和文件夹合并到一个文件中\n",
    "- 压缩：用算法把多个文件或者文件夹无损或者有损合并到一个文件中\n"
   ]
  },
  {
   "cell_type": "code",
   "execution_count": 197,
   "metadata": {},
   "outputs": [],
   "source": [
    "# make_archive() 归档操作\n",
    "#  格式:shutil.make_archive('归档之后的目录和文件名','后缀','需要归档的文件夹')\n",
    "#  返回值：归档之后的地址\n",
    "\n",
    "# help(shutil.make_archive)\n",
    "\n",
    "# 是想得到一个叫做tuling.zip的归档文件\n",
    "# rst = shutil.make_archive(\"/home/tlxy/tuling\", \"zip\", \"/home/tlxy/dana\")\n",
    "# print(rst)"
   ]
  },
  {
   "cell_type": "code",
   "execution_count": 198,
   "metadata": {},
   "outputs": [],
   "source": [
    "# unpack_archive() 解包操作\n",
    "# 格式：shutil.unpack_archive('归档文件地址','解包之后的地址')\n",
    "# 返回值：解包之后的地址\n"
   ]
  },
  {
   "cell_type": "markdown",
   "metadata": {},
   "source": [
    "# zip - 压缩包\n",
    "- 木块名称叫：zipfile\n"
   ]
  },
  {
   "cell_type": "code",
   "execution_count": 200,
   "metadata": {},
   "outputs": [],
   "source": [
    "import zipfile"
   ]
  },
  {
   "cell_type": "code",
   "execution_count": 202,
   "metadata": {},
   "outputs": [],
   "source": [
    "#zipfile.ZipFile(file[, mode[, compression[, allowZip64]]])\n",
    "# 创建一个ZipFile对象，表示一个zip文件。参数file表示文件的路径或类文件对象(file-like object)；参数mode指示打开zip文件的模式，默认值为’r’，表示读已经存在的zip文件，也可以为’w’或’a’，’w’表示新建一个zip文档或覆盖一个已经存在的zip文档，’a’表示将数据附加到一个现存的zip文档中。参数compression表示在写zip文档时使用的压缩方法，它的值可以是zipfile. ZIP_STORED 或zipfile. ZIP_DEFLATED。如果要操作的zip文件大小超过2G，应该将allowZip64设置为True。\n",
    "# zf = zipfile.ZipFile('/home/tlxy/tuling.zip')\n"
   ]
  },
  {
   "cell_type": "code",
   "execution_count": 203,
   "metadata": {},
   "outputs": [],
   "source": [
    "# ZipFile.getinfo(name):\n",
    "#  获取zip文档内指定文件的信息。返回一个zipfile.ZipInfo对象，它包括文件的详细信息。将在下面 具体介绍该对象。\n",
    "\n",
    "# rst = zf.getinfo(\"dana.haha\")\n",
    "# print(rst)"
   ]
  },
  {
   "cell_type": "code",
   "execution_count": 204,
   "metadata": {},
   "outputs": [],
   "source": [
    "# ZipFile.namelist()\n",
    "#  获取zip文档内所有文件的名称列表。\n",
    "\n",
    "# nl = zf.namelist()\n",
    "# print(nl)"
   ]
  },
  {
   "cell_type": "code",
   "execution_count": 206,
   "metadata": {},
   "outputs": [],
   "source": [
    "# ZipFile.extractall([path[, members[, pwd]]])\n",
    "#  解压zip文档中的所有文件到当前目录。参数members的默认值为zip文档内的所有文件名称列表，也可以自己设置，选择要解压的文件名称。\n",
    "\n",
    "# rst = zf.extractall(\"/home/tlxy/dana\")\n",
    "# print(rst)"
   ]
  },
  {
   "cell_type": "markdown",
   "metadata": {},
   "source": [
    "# random\n",
    "- 随机数\n",
    "- 所有的随机模块都是伪随机\n"
   ]
  },
  {
   "cell_type": "code",
   "execution_count": 208,
   "metadata": {},
   "outputs": [],
   "source": [
    "import random"
   ]
  },
  {
   "cell_type": "code",
   "execution_count": 229,
   "metadata": {},
   "outputs": [
    {
     "name": "stdout",
     "output_type": "stream",
     "text": [
      "0.21154975640556517\n",
      "11\n"
     ]
    }
   ],
   "source": [
    "# random() 获取0-1之间的随机小数\n",
    "#  格式：random.random()\n",
    "#  返回值：随机0-1之间的小数\n",
    "\n",
    "print(random.random())\n",
    "# 作业 ：利用random 函数，注意是函数生成一个0 -100之间的整数\n",
    "# help(random.random())\n",
    "print(random.randint(0,100))"
   ]
  },
  {
   "cell_type": "code",
   "execution_count": 230,
   "metadata": {},
   "outputs": [
    {
     "name": "stdout",
     "output_type": "stream",
     "text": [
      "['0haha', '1haha', '2haha', '3haha', '4haha', '5haha', '6haha', '7haha', '8haha', '9haha']\n",
      "1haha\n"
     ]
    }
   ],
   "source": [
    "# choice() 随机返回序列中的某个值\n",
    "#  格式：random.choice(序列)\n",
    "#  返回值：序列中的某个值\n",
    "l = [str(i) + 'haha' for i in range(10)]\n",
    "\n",
    "print(l)\n",
    "rst = random.choice(l)\n",
    "print(rst)"
   ]
  },
  {
   "cell_type": "code",
   "execution_count": 240,
   "metadata": {},
   "outputs": [
    {
     "name": "stdout",
     "output_type": "stream",
     "text": [
      "[0, 1, 2, 3, 4, 5, 6, 7, 8, 9]\n",
      "[4, 7, 9, 2, 0, 3, 1, 8, 5, 6]\n",
      "Help on method shuffle in module random:\n",
      "\n",
      "shuffle(x, random=None) method of random.Random instance\n",
      "    Shuffle list x in place, and return None.\n",
      "    \n",
      "    Optional argument random is a 0-argument function returning a\n",
      "    random float in [0.0, 1.0); if it is the default None, the\n",
      "    standard random.random will be used.\n",
      "\n"
     ]
    }
   ],
   "source": [
    "# shuffle() 随机打乱列表,原地打乱\n",
    "#  格式：random.shuffle(列表)\n",
    "#  返回值：None\n",
    "l1 = [i for i in range(10)]\n",
    "print(l1)\n",
    "random.shuffle(l1)\n",
    "print(l1)\n",
    "\n",
    "help(random.shuffle)"
   ]
  },
  {
   "cell_type": "code",
   "execution_count": 246,
   "metadata": {},
   "outputs": [
    {
     "name": "stdout",
     "output_type": "stream",
     "text": [
      "18\n"
     ]
    }
   ],
   "source": [
    "# 随机产生一个整数[包含两边]\n",
    "print(random.randint(0,100))"
   ]
  },
  {
   "cell_type": "markdown",
   "metadata": {},
   "source": [
    "# Log 模块资料\n",
    "- https://www.cnlogs.com/yyds/p/6901864.html"
   ]
  }
 ],
 "metadata": {
  "kernelspec": {
   "display_name": "Python 3",
   "language": "python",
   "name": "python3"
  },
  "language_info": {
   "codemirror_mode": {
    "name": "ipython",
    "version": 3
   },
   "file_extension": ".py",
   "mimetype": "text/x-python",
   "name": "python",
   "nbconvert_exporter": "python",
   "pygments_lexer": "ipython3",
   "version": "3.7.0"
  }
 },
 "nbformat": 4,
 "nbformat_minor": 2
}
