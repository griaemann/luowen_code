{
 "cells": [
  {
   "cell_type": "code",
   "execution_count": 28,
   "metadata": {},
   "outputs": [
    {
     "name": "stdout",
     "output_type": "stream",
     "text": [
      "* * * * * \n",
      "* * * * * \n",
      "* * * * * \n",
      "* * * * * \n"
     ]
    }
   ],
   "source": [
    "# 简单图形打印\n",
    "'''\n",
    "* * * * *\n",
    "* * * * *\n",
    "* * * * *\n",
    "* * * * *\n",
    "\n",
    "'''\n",
    "for i in range(4):\n",
    "    for j in range(5):\n",
    "        print('* ',end=\"\")\n",
    "    print()"
   ]
  },
  {
   "cell_type": "code",
   "execution_count": 280,
   "metadata": {},
   "outputs": [
    {
     "name": "stdout",
     "output_type": "stream",
     "text": [
      "* * * * * \n",
      "*       * \n",
      "*       * \n",
      "* * * * * \n",
      "====================\n",
      "* * * * * \n",
      "*       * \n",
      "*       * \n",
      "* * * * * \n",
      "========================================\n",
      "* * \n",
      "*   * \n",
      "*   * \n",
      "* * \n"
     ]
    }
   ],
   "source": [
    "# 简单图形打印\n",
    "'''\n",
    "* * * * *\n",
    "*       *\n",
    "*       *\n",
    "* * * * *\n",
    "'''\n",
    "for i in range(4):\n",
    "    if i == 0 or i == 3:\n",
    "        print('* ' * 5)\n",
    "    if i == 0 or i == 2:\n",
    "        for j in range(5):\n",
    "            if j==0 or j==4:\n",
    "                print('* ',end='')\n",
    "            else:\n",
    "                print('  ',end='')\n",
    "        print()\n",
    "print('='*20)       \n",
    "for i in range(4):\n",
    "    for j in range(5):\n",
    "        if i == 0 or i == 3 or j == 0 or j == 4:\n",
    "            print('* ',end=\"\")\n",
    "        else:\n",
    "            print('  ',end='')\n",
    "    print()\n",
    "# 打印图形D\n",
    "print('=='*20)\n",
    "'''\n",
    "* * \n",
    "*   * \n",
    "*   * \n",
    "* * \n",
    "'''\n",
    "\n",
    "for i in range(4):\n",
    "    for j in range(3):\n",
    "        if j==0:\n",
    "            print('* ',end='')\n",
    "        elif i==0 or i==3:\n",
    "            if j>1:\n",
    "                break\n",
    "            else:\n",
    "                print('* ',end='')\n",
    "        elif j==2:\n",
    "            if i ==1 or i==2:\n",
    "                print('* ',end='')\n",
    "            else:\n",
    "                print(' ',end='')\n",
    "        else:\n",
    "            print('  ',end='')     \n",
    "    print()\n",
    "    \n",
    "# 打印字母B\n",
    "print('=='*20)\n"
   ]
  },
  {
   "cell_type": "code",
   "execution_count": 142,
   "metadata": {},
   "outputs": [
    {
     "name": "stdout",
     "output_type": "stream",
     "text": [
      "* \n",
      "* * \n",
      "* * * \n",
      "* * * * \n",
      "* * * * * \n",
      "========================================\n",
      "* \n",
      "* * \n",
      "* * * \n",
      "* * * * \n",
      "* * * * * \n"
     ]
    }
   ],
   "source": [
    "# 打印支教三角形\n",
    "'''\n",
    "* \n",
    "* * \n",
    "* * * \n",
    "* * * * \n",
    "* * * * *\n",
    "\n",
    "'''\n",
    "for i in range(5):\n",
    "    for j in range(i+1):\n",
    "        print('* ',end = '')\n",
    "    print()\n",
    "print('=='*20)\n",
    "for i in range(5):\n",
    "    for j in range(i+1):\n",
    "        print('* ',end='')\n",
    "    print()"
   ]
  },
  {
   "cell_type": "code",
   "execution_count": 155,
   "metadata": {},
   "outputs": [
    {
     "name": "stdout",
     "output_type": "stream",
     "text": [
      "* \n",
      "* * \n",
      "*   * \n",
      "*     * \n",
      "* * * * * \n",
      "========================================\n",
      "* \n",
      "* * \n",
      "*   * \n",
      "*     * \n",
      "* * * * * \n"
     ]
    }
   ],
   "source": [
    "# 打印空心直角三角性\n",
    "'''\n",
    "* \n",
    "* * \n",
    "*   * \n",
    "*     * \n",
    "* * * * *\n",
    "\n",
    "'''\n",
    "for i in range(5):\n",
    "    for j in range(i+1):\n",
    "        if i == 4:\n",
    "            print('* ',end = '')\n",
    "        else:\n",
    "            if j ==0 or j== i:\n",
    "                print('* ',end='')\n",
    "            else:\n",
    "                print('  ',end='')\n",
    "    print()\n",
    "print('=='*20)\n",
    "for i in range(5):\n",
    "    for j in range(i+1):\n",
    "        if i == 0 or i == 4 or j== 0 or j == i:\n",
    "            print('* ',end='')\n",
    "        else:\n",
    "            print('  ',end='')\n",
    "    print()"
   ]
  },
  {
   "cell_type": "code",
   "execution_count": 156,
   "metadata": {},
   "outputs": [
    {
     "name": "stdout",
     "output_type": "stream",
     "text": [
      "* * * * * \n",
      "* * * * \n",
      "* * * \n",
      "* * \n",
      "* \n",
      "========================================\n"
     ]
    }
   ],
   "source": [
    "# 打印倒直角三角形\n",
    "'''\n",
    "* * * * *\n",
    "* * * * \n",
    "* * * \n",
    "* * \n",
    "* \n",
    "'''\n",
    "for i in range(5):\n",
    "    for j in range(5-i):\n",
    "        print('* ',end='')\n",
    "    print()\n",
    "print('=='*20)"
   ]
  },
  {
   "cell_type": "code",
   "execution_count": 170,
   "metadata": {},
   "outputs": [
    {
     "name": "stdout",
     "output_type": "stream",
     "text": [
      "* * * * * \n",
      "*     * \n",
      "*   * \n",
      "* * \n",
      "* \n",
      "========================================\n",
      "* * * * * \n",
      "*     * \n",
      "*   * \n",
      "* * \n",
      "* \n"
     ]
    }
   ],
   "source": [
    "# 打印空心三角形\n",
    "'''\n",
    "* * * * *\n",
    "*     * \n",
    "*   * \n",
    "* * \n",
    "* \n",
    "'''\n",
    "for i in range(5):\n",
    "    for j in range(5-i):\n",
    "        if i == 0:\n",
    "            print('* ',end='')\n",
    "            continue\n",
    "        if j == 0 or j == 5-i-1:\n",
    "            print('* ',end='')\n",
    "        else:\n",
    "            print('  ',end='')\n",
    "    print()\n",
    "print('=='*20)\n",
    "\n",
    "for i in range(5):\n",
    "    for j in range(5-i):\n",
    "        if i ==0 or i == 4 or j == 0 or j == 5-i-1:\n",
    "            print('* ',end='')\n",
    "        else:\n",
    "            print('  ',end='')\n",
    "    print()"
   ]
  },
  {
   "cell_type": "code",
   "execution_count": 171,
   "metadata": {},
   "outputs": [
    {
     "name": "stdout",
     "output_type": "stream",
     "text": [
      "      * \n",
      "     * * \n",
      "    * * * \n",
      "   * * * * \n",
      "  * * * * * \n",
      "========================================\n"
     ]
    }
   ],
   "source": [
    "# 打印正三角型\n",
    "'''\n",
    "    * \n",
    "   * * \n",
    "  * * * \n",
    " * * * * \n",
    "* * * * *\n",
    "\n",
    "'''\n",
    "for i in range(5):\n",
    "    for j in range(6-i):\n",
    "        print(' ',end='')\n",
    "    for m in range(i+1):\n",
    "        print('* ',end='')\n",
    "    print()\n",
    "print('=='*20)\n"
   ]
  },
  {
   "cell_type": "code",
   "execution_count": 209,
   "metadata": {},
   "outputs": [
    {
     "name": "stdout",
     "output_type": "stream",
     "text": [
      "     * \n",
      "    * * \n",
      "   *   * \n",
      "  *     * \n",
      " * * * * * \n"
     ]
    }
   ],
   "source": [
    "# 打印空心正三角型\n",
    "'''\n",
    "    * \n",
    "   * * \n",
    "  *   * \n",
    " *     * \n",
    "* * * * *\n",
    "\n",
    "'''\n",
    "for i in range(5):\n",
    "    # 打印行\n",
    "    for j in range(5-i):\n",
    "        print(' ',end='')\n",
    "    for k in range(i+1):\n",
    "        if i == 0 or i == 4 or k == i or k == 0:\n",
    "            print('* ',end='')\n",
    "        else:\n",
    "            print('  ',end='')\n",
    "    print()"
   ]
  },
  {
   "cell_type": "code",
   "execution_count": 212,
   "metadata": {},
   "outputs": [
    {
     "name": "stdout",
     "output_type": "stream",
     "text": [
      " * * * * * \n",
      "  * * * * \n",
      "   * * * \n",
      "    * * \n",
      "     * \n"
     ]
    }
   ],
   "source": [
    "# 打印到正三角型\n",
    "for i in range(5):\n",
    "    for j in range(i+1):\n",
    "        print(' ',end='')\n",
    "    for k in range(5-i):\n",
    "        print('* ',end='')\n",
    "    print()"
   ]
  },
  {
   "cell_type": "code",
   "execution_count": 218,
   "metadata": {},
   "outputs": [
    {
     "name": "stdout",
     "output_type": "stream",
     "text": [
      " * * * * * \n",
      "  *     * \n",
      "   *   * \n",
      "    * * \n",
      "     * \n"
     ]
    }
   ],
   "source": [
    "# 打印倒空心三角型\n",
    "for i in range(5):\n",
    "    for j in range(i+1):\n",
    "        print(' ',end='')\n",
    "    for k in range(5-i):\n",
    "        if i == 0 or i == 4 or k==5-i-1 or k==0:\n",
    "            print('* ',end='')\n",
    "        else:\n",
    "            print('  ',end='')\n",
    "    print()"
   ]
  },
  {
   "cell_type": "code",
   "execution_count": 221,
   "metadata": {},
   "outputs": [
    {
     "name": "stdout",
     "output_type": "stream",
     "text": [
      "     * \n",
      "    * * \n",
      "   *   * \n",
      "  *     * \n",
      " * * * * * \n",
      "  *     * \n",
      "   *   * \n",
      "    * * \n",
      "     * \n"
     ]
    }
   ],
   "source": [
    "# 打印空心的菱形\n",
    "for i in range(4):\n",
    "    # 打印行\n",
    "    for j in range(5-i):\n",
    "        print(' ',end='')\n",
    "    for k in range(i+1):\n",
    "        if i == 0 or i == 4 or k == i or k == 0:\n",
    "            print('* ',end='')\n",
    "        else:\n",
    "            print('  ',end='')\n",
    "    print()\n",
    "# 打印倒空心三角型\n",
    "for i in range(5):\n",
    "    for j in range(i+1):\n",
    "        print(' ',end='')\n",
    "    for k in range(5-i):\n",
    "        if i == 0 or i == 4 or k==5-i-1 or k==0:\n",
    "            print('* ',end='')\n",
    "        else:\n",
    "            print('  ',end='')\n",
    "    print()"
   ]
  },
  {
   "cell_type": "code",
   "execution_count": 235,
   "metadata": {},
   "outputs": [
    {
     "name": "stdout",
     "output_type": "stream",
     "text": [
      "      * * * \n",
      "     * * * * \n",
      "    * * * * * \n",
      "   * * * * * * \n",
      "  * * * * * * * \n",
      "========================================\n",
      "      * * * \n",
      "     *     * \n",
      "    *       * \n",
      "   *         * \n",
      "  * * * * * * * \n"
     ]
    }
   ],
   "source": [
    "#打印梯形\n",
    "for i in range(5):\n",
    "    for j in range(6-i):\n",
    "        print(' ',end='')\n",
    "    for m in range(i+3):\n",
    "        print('* ',end='')\n",
    "    print()\n",
    "print('=='*20)\n",
    "for i in range(5):\n",
    "    for j in range(6-i):\n",
    "        print(' ',end='')\n",
    "    for m in range(i+3):\n",
    "        if i == 0 or i == 4 or m ==i+2 or m ==0:\n",
    "            print('* ',end='')\n",
    "        else:\n",
    "            print('  ',end='')\n",
    "    print()"
   ]
  },
  {
   "cell_type": "code",
   "execution_count": 256,
   "metadata": {},
   "outputs": [
    {
     "name": "stdout",
     "output_type": "stream",
     "text": [
      "* * * * * \n",
      "* * * * * \n",
      "* * * * * \n",
      "* * * * * \n",
      "========================================\n",
      "* * * * * \n",
      "*       * \n",
      "*       * \n",
      "* * * * * \n",
      "========================================\n",
      "     * \n",
      "    * * \n",
      "   *   * \n",
      "  *     * \n",
      " * * * * * \n",
      "========================================\n",
      "      * \n",
      "     * * \n",
      "    * * * \n",
      "   * * * * \n",
      "  * * * * * \n"
     ]
    }
   ],
   "source": [
    "# 函数实现\n",
    "# 实心矩形\n",
    "def s_jx():\n",
    "    for i in range(4):\n",
    "        for j in range(5):\n",
    "            print('* ',end='')\n",
    "        print()\n",
    "s_jx()\n",
    "print('=='*20)\n",
    "# 空心矩形\n",
    "def k_jx():\n",
    "    for i in range(4):\n",
    "        for j in range(5):\n",
    "            if i == 0 or i == 3 or j == 0 or j == 4:\n",
    "                print('* ',end=\"\")\n",
    "            else:\n",
    "                print('  ',end='')\n",
    "        print()\n",
    "k_jx()\n",
    "print('=='*20)\n",
    "def k_sjx():\n",
    "    for i in range(5):\n",
    "        # 打印行\n",
    "        for j in range(5-i):\n",
    "            print(' ',end='')\n",
    "        for k in range(i+1):\n",
    "            if i == 0 or i == 4 or k == i or k == 0:\n",
    "                print('* ',end='')\n",
    "            else:\n",
    "                print('  ',end='')\n",
    "        print()\n",
    "k_sjx()\n",
    "print('=='*20)\n",
    "def s_sjx():\n",
    "    for i in range(5):\n",
    "        for j in range(6-i):\n",
    "            print(' ',end='')\n",
    "        for m in range(i+1):\n",
    "            print('* ',end='')\n",
    "        print()\n",
    "s_sjx()\n"
   ]
  },
  {
   "cell_type": "code",
   "execution_count": 259,
   "metadata": {},
   "outputs": [
    {
     "name": "stdout",
     "output_type": "stream",
     "text": [
      "输入-1结束游戏\n",
      "请输入你要打印的图形：矩形或空矩形或三角形或空三角形-1\n",
      "游戏结束\n"
     ]
    }
   ],
   "source": [
    "# 小游戏\n",
    "while True:\n",
    "    print('输入-1结束游戏')\n",
    "    shape = input('请输入你要打印的图形：矩形或空矩形或三角形或空三角形')\n",
    "    if shape == '-1':\n",
    "        print('游戏结束')\n",
    "        break\n",
    "    elif shape == '矩形':\n",
    "        s_jx()\n",
    "    elif shape == '空矩形':\n",
    "        k_jx()\n",
    "    elif shape == '三角形':\n",
    "        s_sjx()\n",
    "    elif shape == '空三角形':\n",
    "        k_sjx()\n",
    "    else:\n",
    "        print('傻啊，输入的啥呢')"
   ]
  },
  {
   "cell_type": "code",
   "execution_count": 208,
   "metadata": {},
   "outputs": [
    {
     "name": "stdout",
     "output_type": "stream",
     "text": [
      "     * \n",
      "    * * \n",
      "   * * * \n",
      "  *     * \n",
      " *       * \n"
     ]
    }
   ],
   "source": [
    "# 答应字母A\n",
    "for i in range(5):\n",
    "    # 打印行\n",
    "    for j in range(5-i):\n",
    "        print(' ',end='')\n",
    "    for k in range(i+1):\n",
    "        if i == 0 or i == 2 or k == i or k == 0:\n",
    "            print('* ',end='')\n",
    "        else:\n",
    "            print('  ',end='')\n",
    "    print()"
   ]
  }
 ],
 "metadata": {
  "kernelspec": {
   "display_name": "Python 3",
   "language": "python",
   "name": "python3"
  },
  "language_info": {
   "codemirror_mode": {
    "name": "ipython",
    "version": 3
   },
   "file_extension": ".py",
   "mimetype": "text/x-python",
   "name": "python",
   "nbconvert_exporter": "python",
   "pygments_lexer": "ipython3",
   "version": "3.7.0"
  }
 },
 "nbformat": 4,
 "nbformat_minor": 2
}
