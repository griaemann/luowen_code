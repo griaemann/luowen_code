{
 "cells": [
  {
   "cell_type": "code",
   "execution_count": 3,
   "metadata": {},
   "outputs": [
    {
     "name": "stdout",
     "output_type": "stream",
     "text": [
      "$3\n",
      "$2\n",
      "$1\n",
      "$0\n",
      "========================================\n",
      "0\n",
      "1\n",
      "2\n",
      "3\n"
     ]
    }
   ],
   "source": [
    "# 类似于先进后出的模式\n",
    "# 1、要有递推关系\n",
    "# 2、要有临界值\n",
    "def digui (num):\n",
    "    print('$'+str(num))\n",
    "    if num>0:\n",
    "        # 这里用的是调用本身的函数\n",
    "        digui(num-1)\n",
    "    else:\n",
    "        print('=='*20)\n",
    "    print(num)\n",
    "digui(3)"
   ]
  },
  {
   "cell_type": "code",
   "execution_count": 17,
   "metadata": {},
   "outputs": [
    {
     "name": "stdout",
     "output_type": "stream",
     "text": [
      "移动第1次A ------> B\n",
      "移动第2次A ------> C\n",
      "移动第3次B ------> C\n",
      "移动第4次A ------> B\n",
      "移动第5次C ------> A\n",
      "移动第6次C ------> B\n",
      "移动第7次A ------> B\n",
      "移动第8次A ------> C\n",
      "移动第9次B ------> C\n",
      "移动第10次B ------> A\n",
      "移动第11次C ------> A\n",
      "移动第12次B ------> C\n",
      "移动第13次A ------> B\n",
      "移动第14次A ------> C\n",
      "移动第15次B ------> C\n"
     ]
    }
   ],
   "source": [
    "# 汉诺塔游戏\n",
    "i = 0\n",
    "def hanno(n,x,y,z):\n",
    "    global i\n",
    "    if n==1:\n",
    "        i += 1\n",
    "        print('移动第{0}次'.format(i)+x,'------>',z)\n",
    "    else:\n",
    "        hanno(n-1,x,z,y)\n",
    "        hanno(1,x,y,z)\n",
    "        hanno(n-1,y,x,z)\n",
    "hanno(4,'A','B','C')"
   ]
  }
 ],
 "metadata": {
  "kernelspec": {
   "display_name": "Python 3",
   "language": "python",
   "name": "python3"
  },
  "language_info": {
   "codemirror_mode": {
    "name": "ipython",
    "version": 3
   },
   "file_extension": ".py",
   "mimetype": "text/x-python",
   "name": "python",
   "nbconvert_exporter": "python",
   "pygments_lexer": "ipython3",
   "version": "3.7.0"
  }
 },
 "nbformat": 4,
 "nbformat_minor": 2
}
