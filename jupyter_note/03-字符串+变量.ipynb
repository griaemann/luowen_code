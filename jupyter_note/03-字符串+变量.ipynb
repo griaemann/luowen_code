{
 "cells": [
  {
   "cell_type": "markdown",
   "metadata": {},
   "source": [
    "# 字符串\n",
    "- 转义字符\n",
    "- 格式化\n",
    "- 内建函数"
   ]
  },
  {
   "cell_type": "markdown",
   "metadata": {},
   "source": [
    "## 转意字符\n",
    "- 借助反斜杠字符，"
   ]
  },
  {
   "cell_type": "code",
   "execution_count": 5,
   "metadata": {},
   "outputs": [
    {
     "name": "stdout",
     "output_type": "stream",
     "text": [
      "let's go \n",
      "let's go\n",
      "C:\\user\n",
      "I love \r\n",
      " wangxiaojing\n"
     ]
    }
   ],
   "source": [
    "# 如果想表示处let's go\n",
    "# 可以使用嵌套引号，即外层使用双引号\n",
    "# 转意字符\n",
    "s = \"let's go \"\n",
    "print (s)\n",
    "ss = 'let\\'s go'\n",
    "print(ss)\n",
    "sss = 'C:\\\\user'\n",
    "print(sss)\n",
    "# 回车换行符\n",
    "s1 = 'I love \\r\\n wangxiaojing'\n",
    "print(s1)"
   ]
  },
  {
   "cell_type": "markdown",
   "metadata": {},
   "source": [
    "## 字符串的格式化\n",
    "- 把字符串按照一定格式来打印或者填充\n",
    "- 格式化的两种方法\n",
    "    - 利用百分号(%) %d:整数；%s:字符串\n",
    "    - 利用format函数"
   ]
  },
  {
   "cell_type": "code",
   "execution_count": 6,
   "metadata": {},
   "outputs": [],
   "source": [
    "s = 'XXX ,你好，图灵学院开课了，免费学习Python，不学白不学啊'"
   ]
  },
  {
   "cell_type": "code",
   "execution_count": 8,
   "metadata": {},
   "outputs": [
    {
     "name": "stdout",
     "output_type": "stream",
     "text": [
      "I love %s\n"
     ]
    }
   ],
   "source": [
    "s = 'I love %s'\n",
    "print(s)"
   ]
  },
  {
   "cell_type": "code",
   "execution_count": 13,
   "metadata": {},
   "outputs": [
    {
     "name": "stdout",
     "output_type": "stream",
     "text": [
      "I love 刘霞霞\n",
      "I love 刘晓霞\n"
     ]
    }
   ],
   "source": [
    "print('I love %s'%'刘霞霞')\n",
    "print(s%'刘晓霞')"
   ]
  },
  {
   "cell_type": "code",
   "execution_count": 15,
   "metadata": {},
   "outputs": [
    {
     "name": "stdout",
     "output_type": "stream",
     "text": [
      "i am %d years old\n",
      "i am 22 years old\n"
     ]
    }
   ],
   "source": [
    "s = 'i am %d years old'\n",
    "print(s)\n",
    "print(s%22)"
   ]
  },
  {
   "cell_type": "code",
   "execution_count": 21,
   "metadata": {},
   "outputs": [
    {
     "name": "stdout",
     "output_type": "stream",
     "text": [
      "i am %s, i am %d years old\n",
      "i am luowen, i am 18 years old\n"
     ]
    }
   ],
   "source": [
    "s = 'i am %s, i am %d years old' \n",
    "print(s)\n",
    "# 多个占位符用括号括起来，\n",
    "print(s%('luowen',18))"
   ]
  },
  {
   "cell_type": "markdown",
   "metadata": {},
   "source": [
    "## format函数格式化\n",
    "- 直接用format函数格式化，推荐使用这种方法\n",
    "- 在使用上，用{}和：代替%。后面用format带参数完成\n",
    "\n"
   ]
  },
  {
   "cell_type": "code",
   "execution_count": 24,
   "metadata": {},
   "outputs": [
    {
     "name": "stdout",
     "output_type": "stream",
     "text": [
      "I love 刘晓霞\n",
      "Yes, I am 23 years old, I love 刘晓霞 and I am 23 years old\n"
     ]
    }
   ],
   "source": [
    "s = 'I love {}'.format('刘晓霞')\n",
    "print(s)\n",
    "s = 'Yes, I am {1} years old, I love {0} and I am {1} years old'.format('刘晓霞',23)\n",
    "print(s)"
   ]
  },
  {
   "cell_type": "markdown",
   "metadata": {},
   "source": [
    "## None \n",
    "- 表示什么都没有\n",
    "- 如果函数没有返回值，可以返回 None\n",
    "- 用来占位\n",
    "- 用来接触变量绑定\n"
   ]
  },
  {
   "cell_type": "markdown",
   "metadata": {},
   "source": [
    "# 表达式\n",
    "- 由一个或者几个数字或者变量和运算符组成的一行代码\n",
    "- 通常会返回一个结果\n"
   ]
  },
  {
   "cell_type": "markdown",
   "metadata": {},
   "source": [
    "# 运算符\n",
    "- 由一个以上的值经过变化得到一个新的值\n",
    "- 用于运算的符号叫运算符\n",
    "- 运算符分类\n",
    "    - 算数运算符\n",
    "    - 比较运算符（关系运算符）\n",
    "    - 赋值运算符\n",
    "    - 位运算符\n",
    "    - 成员运算符\n",
    "    - 身份运算符\n",
    "    - 逻辑运算符\n",
    "    "
   ]
  },
  {
   "cell_type": "code",
   "execution_count": 27,
   "metadata": {},
   "outputs": [
    {
     "name": "stdout",
     "output_type": "stream",
     "text": [
      "11\n",
      "2.25\n",
      "1\n",
      "2\n",
      "6561\n"
     ]
    }
   ],
   "source": [
    "a = 9 + 2\n",
    "print (a)\n",
    "# 除法\n",
    "a = 9 / 4\n",
    "print(a)\n",
    "# 取余\n",
    "a = 9 % 4\n",
    "print(a)\n",
    "# 地板除\n",
    "a = 9 // 4\n",
    "print(a)\n",
    "# **幂运算\n",
    "a = 9**4\n",
    "print(a)"
   ]
  },
  {
   "cell_type": "markdown",
   "metadata": {},
   "source": [
    "## 比较运算符\n",
    "- 对两个变量或在值进行比较\n",
    "- 比较的结果是布尔值，即 True 或者 False\n",
    "## 逻辑运算符\n",
    "- 逻辑与and 和 逻辑或or 逻辑非not\n",
    "- 逻辑运算的短路问题，"
   ]
  },
  {
   "cell_type": "code",
   "execution_count": 28,
   "metadata": {},
   "outputs": [],
   "source": [
    "# 短路实例\n",
    "# 一定是True\n",
    "a = True or xxxxx"
   ]
  },
  {
   "cell_type": "markdown",
   "metadata": {},
   "source": [
    "# 成员运算符号\n",
    "- 用来检测一个变量在不在另一个变量的成员\n",
    "- in\n",
    "- not in"
   ]
  },
  {
   "cell_type": "code",
   "execution_count": 30,
   "metadata": {},
   "outputs": [
    {
     "name": "stdout",
     "output_type": "stream",
     "text": [
      "False\n",
      "True\n",
      "False\n"
     ]
    }
   ],
   "source": [
    "l = [1,2,3,4,5,6]\n",
    "a = 7\n",
    "b = a in l\n",
    "print(b)\n",
    "a = 4\n",
    "print(a in l)\n",
    "print (a not in l)"
   ]
  },
  {
   "cell_type": "markdown",
   "metadata": {},
   "source": [
    "## 身份运算符\n",
    "- is 用来检测两个变量是否是同一个变量\n",
    "- 语法 var1 is var2\n",
    "- is not 两个变量不是同一个变量"
   ]
  },
  {
   "cell_type": "code",
   "execution_count": 33,
   "metadata": {},
   "outputs": [
    {
     "name": "stdout",
     "output_type": "stream",
     "text": [
      "True\n",
      "False\n"
     ]
    }
   ],
   "source": [
    "a = 9\n",
    "b = 9 \n",
    "print(a is b)\n",
    "a = 'i love wangxiaojing'\n",
    "b = 'i love wangxiaojing'\n",
    "print(a is b )"
   ]
  },
  {
   "cell_type": "markdown",
   "metadata": {},
   "source": [
    "## 运算符的优先级\n",
    "- 永远记住括号具有最高优先级。\n",
    "- 优先级表格：指数，反转，乘除，加减，位 ---用括号"
   ]
  },
  {
   "cell_type": "markdown",
   "metadata": {},
   "source": [
    "# 程序结构\n",
    "- 顺序\n",
    "- 分支\n",
    "- 循环\n"
   ]
  },
  {
   "cell_type": "code",
   "execution_count": null,
   "metadata": {},
   "outputs": [],
   "source": []
  }
 ],
 "metadata": {
  "kernelspec": {
   "display_name": "Python 3",
   "language": "python",
   "name": "python3"
  },
  "language_info": {
   "codemirror_mode": {
    "name": "ipython",
    "version": 3
   },
   "file_extension": ".py",
   "mimetype": "text/x-python",
   "name": "python",
   "nbconvert_exporter": "python",
   "pygments_lexer": "ipython3",
   "version": "3.7.0"
  }
 },
 "nbformat": 4,
 "nbformat_minor": 2
}
