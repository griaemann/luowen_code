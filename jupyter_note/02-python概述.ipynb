{
 "cells": [
  {
   "cell_type": "markdown",
   "metadata": {},
   "source": [
    "# python 概述\n",
    "# 环境安装：anaconda3+pycharm\n",
    "# 学习要求：找工作需要的两个地址\n",
    "- 代码：github\n",
    "- 博客：自己写的文章或收藏的文章"
   ]
  },
  {
   "cell_type": "code",
   "execution_count": 12,
   "metadata": {},
   "outputs": [
    {
     "name": "stdout",
     "output_type": "stream",
     "text": [
      "hello world\n"
     ]
    }
   ],
   "source": [
    "# 代码的作用\n",
    "# 1、给人看\n",
    "# 2、给机器看\n",
    "# 3、注释是纯给人看的内容\n",
    "print('hello world')# 打印hello world"
   ]
  },
  {
   "cell_type": "markdown",
   "metadata": {},
   "source": [
    "# 注释\n",
    "- 机器不去执行的内容\n",
    "- 写法：行注释，块注释，行注释用# 块注释用'''注释'''"
   ]
  },
  {
   "cell_type": "markdown",
   "metadata": {},
   "source": [
    "# 变量\n",
    "- 程序 = 数据结构+算法\n",
    "- 变量就是可以重复使用的一个量，一个代号\n",
    "- 变量的命名规则\n",
    "    - 变量可以包含数字，大小写字母，下划线，数字不应许开头\n",
    "        - 4man 5for 是不可以的\n",
    "    - 一般在python 中以下划线开头的具有特殊的含义，一般不推荐使用。\n",
    "        - 比如 _age,_name 理论可以，强烈不推荐，包括两个但不限于两个连续下划线\n",
    "    - 推荐\n",
    "        - 使用有含义的英文或缩写\n",
    "        - 驼峰命名法\n",
    "            - 大驼峰：每个单词都大写，类使用 MyFirstLove \n",
    "            - 小驼峰：第二个单词开始大写，函数，变量使用 myFirstLove\n",
    "        - posix写法\n",
    "            - 多个单词全部小写，用下划线连接，my_first_love\n",
    "    - 保留字和关键字\n",
    "        - 变量名必须避开不能跟关键字重复\n",
    "        - class，def，break，for \n",
    "      "
   ]
  },
  {
   "cell_type": "code",
   "execution_count": 15,
   "metadata": {},
   "outputs": [
    {
     "name": "stdout",
     "output_type": "stream",
     "text": [
      "['False', 'None', 'True', 'and', 'as', 'assert', 'async', 'await', 'break', 'class', 'continue', 'def', 'del', 'elif', 'else', 'except', 'finally', 'for', 'from', 'global', 'if', 'import', 'in', 'is', 'lambda', 'nonlocal', 'not', 'or', 'pass', 'raise', 'return', 'try', 'while', 'with', 'yield']\n"
     ]
    }
   ],
   "source": [
    "# 查看关键子的方法\n",
    "import keyword # 引入关键字模块\n",
    "# 打印系统全部的关键字\n",
    "print(keyword.kwlist)"
   ]
  },
  {
   "cell_type": "markdown",
   "metadata": {},
   "source": [
    "## 变量的声明\n",
    "   - 变量名 = 变量值\n",
    "   - var1= var2 = var3 = var_value\n",
    "   - a, b, c = v1, v2, v3"
   ]
  },
  {
   "cell_type": "code",
   "execution_count": 18,
   "metadata": {},
   "outputs": [
    {
     "name": "stdout",
     "output_type": "stream",
     "text": [
      "18\n",
      "18\n",
      "18\n",
      "18\n",
      "56\n",
      "78\n"
     ]
    }
   ],
   "source": [
    "age = 18\n",
    "print(age)\n",
    "age1 = age2 = age3 = 18\n",
    "print(age1)\n",
    "print(age2)\n",
    "print(age3)\n",
    "#一行向多个变量赋值\n",
    "age4,age5 = 56,78\n",
    "print(age4)\n",
    "print(age5)"
   ]
  },
  {
   "cell_type": "markdown",
   "metadata": {},
   "source": [
    "## 变量的类型\n",
    "- 标准数据类型一共6种\n",
    "    - 数字类型 Number：没有大小限制\n",
    "    - 字符串 str\n",
    "    - 列表 list\n",
    "    - 元组 tuple\n",
    "    - 字典 dict\n",
    "    - 集合 set\n",
    "    \n",
    "    \n",
    "    "
   ]
  },
  {
   "cell_type": "markdown",
   "metadata": {},
   "source": [
    "## 数字类型，整数浮点数\n",
    "- 自然数等，小数等，二进制，8进制，10进制 16进制\n",
    "\n",
    "## 字符串\n",
    "- 转意字符\n",
    "- 格式化\n"
   ]
  },
  {
   "cell_type": "markdown",
   "metadata": {},
   "source": []
  }
 ],
 "metadata": {
  "kernelspec": {
   "display_name": "Python 3",
   "language": "python",
   "name": "python3"
  },
  "language_info": {
   "codemirror_mode": {
    "name": "ipython",
    "version": 3
   },
   "file_extension": ".py",
   "mimetype": "text/x-python",
   "name": "python",
   "nbconvert_exporter": "python",
   "pygments_lexer": "ipython3",
   "version": "3.7.0"
  }
 },
 "nbformat": 4,
 "nbformat_minor": 2
}
